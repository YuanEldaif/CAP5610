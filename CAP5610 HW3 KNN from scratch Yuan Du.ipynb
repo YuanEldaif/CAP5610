{
 "cells": [
  {
   "cell_type": "markdown",
   "metadata": {},
   "source": [
    "## CAP5610 HW3 - Yuan Du\n",
    "Code stored at my Github: https://github.com/YuanEldaif/CAP5610\n"
   ]
  },
  {
   "cell_type": "markdown",
   "metadata": {},
   "source": [
    "## Task 2 Programming and Evaluation on A Large Dataset (Titanic): \n",
    "### Q1: Test your naïve Bayesian classification on the Titanic dataset. Report the average Accuracy, Precision, Recall, and F1 score of your five-fold cross validation. The five-folds of the Titanic data are split randomly. What do you observe and learn by applying Bayesian learning to small datasets and larger datasets? "
   ]
  },
  {
   "cell_type": "code",
   "execution_count": 1,
   "metadata": {},
   "outputs": [],
   "source": [
    "#Data analysis and wrangling\n",
    "import pandas as pd\n",
    "import numpy as np\n",
    "\n",
    "#Data Visualization\n",
    "import matplotlib.pyplot as plt\n",
    "import seaborn as sns\n",
    "%matplotlib inline\n",
    "\n",
    "# Load in the train and test datasets\n",
    "train = pd.read_csv('C:/Work/Project/CAP5610/HW/HW1/train.csv')\n",
    "test = pd.read_csv('C:/Work/Project/CAP5610/HW/HW1/test.csv')\n",
    "\n",
    "combine = [train, test]\n",
    "\n",
    "# Store our passenger ID for easy access\n",
    "PassengerId = test['PassengerId']\n",
    "\n",
    "#Q14 drop ticket\n",
    "#Q15 drop cabin\n",
    "train = train.drop(['Ticket', 'Cabin'], axis=1)\n",
    "test = test.drop(['Ticket', 'Cabin'], axis=1)\n",
    "combine = [train, test]\n",
    "\n",
    "#Q16 Convert sex to numeric\n",
    "\n",
    "for dataset in combine:\n",
    "    dataset['Sex'] = dataset['Sex'].map( {'female': 1, 'male': 0} ).astype(int)\n",
    "\n",
    "#Q17 \n",
    "# fill missing values with median column values\n",
    "train.fillna(train.median(), inplace=True)\n",
    "test.fillna(test.median(), inplace=True)\n",
    "\n",
    "#Q18 Fill embarked with mode\n",
    "freq_port = train.Embarked.dropna().mode()[0]\n",
    "for dataset in combine:\n",
    "    dataset['Embarked'] = dataset['Embarked'].fillna(freq_port)\n",
    "    \n",
    "#Q19 complete Fare using mode\n",
    "test['Fare'].fillna(test['Fare'].dropna().median(), inplace=True)    \n",
    "\n",
    "# update combine\n",
    "combine = [train, test]\n",
    "\n",
    "#Q20 Convert the Fare feature to ordinal values\n",
    "for dataset in combine:\n",
    "    dataset.loc[ dataset['Fare'] <= 7.91, 'Fare'] = 0\n",
    "    dataset.loc[(dataset['Fare'] > 7.91) & (dataset['Fare'] <= 14.454), 'Fare'] = 1\n",
    "    dataset.loc[(dataset['Fare'] > 14.454) & (dataset['Fare'] <= 31), 'Fare']   = 2\n",
    "    dataset.loc[ dataset['Fare'] > 31, 'Fare'] = 3\n",
    "    dataset['Fare'] = dataset['Fare'].astype(int)\n",
    "    \n",
    "#Convert categorical variables into numeric\n",
    "for dataset in combine:\n",
    "    dataset['Embarked'] = dataset['Embarked'].map( {'S': 0, 'C': 1, 'Q': 2} ).astype(int)\n",
    "\n",
    "#Drop Name,PassengerId\n",
    "train = train.drop(['Name','PassengerId'], axis=1)\n",
    "test = test.drop(['Name','PassengerId'], axis=1)\n"
   ]
  },
  {
   "cell_type": "markdown",
   "metadata": {},
   "source": [
    "### Q2: Implement KNN classification from scratch, and evaluate how K impacts the overall accuracy of kNN on the dataset. Plot the accuracies of kNN over k,  and identify the best K. You can read sample code and try to implement by yourself. Below are some sample implementations from Github for your fast references: "
   ]
  },
  {
   "cell_type": "code",
   "execution_count": 3,
   "metadata": {},
   "outputs": [
    {
     "data": {
      "text/plain": [
       "((712, 4), (712,), (179, 4), (179,))"
      ]
     },
     "execution_count": 3,
     "metadata": {},
     "output_type": "execute_result"
    }
   ],
   "source": [
    "from sklearn.model_selection import train_test_split\n",
    "X=train.drop(columns=['Survived','SibSp','Parch','Embarked']).values\n",
    "y=train['Survived'].values\n",
    "X_train, X_test, y_train, y_test = train_test_split(X, y, test_size = 0.2, random_state = 42)\n",
    "X_train.shape, y_train.shape, X_test.shape, y_test.shape"
   ]
  },
  {
   "cell_type": "code",
   "execution_count": 4,
   "metadata": {},
   "outputs": [],
   "source": [
    "#Implement KNN from scratch\n",
    "#Step1 Distance\n",
    "def get_euclidean_distance(A_matrix, B_matrix):\n",
    "    \n",
    "    A_square = np.reshape(np.sum(A_matrix * A_matrix, axis=1), (A_matrix.shape[0], 1))\n",
    "    B_square = np.reshape(np.sum(B_matrix * B_matrix, axis=1), (1, B_matrix.shape[0]))\n",
    "    AB = A_matrix @ B_matrix.T\n",
    "\n",
    "    C = -2 * AB + B_square + A_square\n",
    "\n",
    "    return np.sqrt(C)"
   ]
  },
  {
   "cell_type": "code",
   "execution_count": 5,
   "metadata": {},
   "outputs": [],
   "source": [
    "#Step2 Sort neigbors\n",
    "def get_sorted_train_labels(distance_matrix, y):\n",
    "    \n",
    "    order = distance_matrix.argsort(kind='mergesort')\n",
    "\n",
    "    return np.squeeze(y[order])"
   ]
  },
  {
   "cell_type": "code",
   "execution_count": 6,
   "metadata": {},
   "outputs": [],
   "source": [
    "#STep3 Count possibilities of each class for k nearest neighbours\n",
    "def get_p_y_x_using_knn(y, k):\n",
    "    \"\"\"\n",
    "    The function determines the probability distribution p (y | x)\n",
    "    for each of the labels for objects from the X\n",
    "    using the KNN classification learned on the X_train\n",
    "\n",
    "    Args:\n",
    "        y (numpy.ndarray): Sorted matrix of N2 nearest neighbours labels, size N1:N2\n",
    "        k (int): number of nearest neighbours for KNN algorithm\n",
    "\n",
    "    Returns: numpy.ndarray: Matrix of probabilities for N1 points (from set X) of belonging to each class,\n",
    "    size N1:C (where C is number of classes)\n",
    "    \"\"\"\n",
    "\n",
    "    first_k_neighbors = y[:, :k]\n",
    "    \n",
    "    N1, N2 = y.shape\n",
    "    classes = np.unique(y)\n",
    "    number_of_classes = classes.shape[0]\n",
    "\n",
    "    probabilities_matrix = np.zeros(shape=(N1, number_of_classes))\n",
    "\n",
    "    for i, row in enumerate(first_k_neighbors):\n",
    "        for j, value in enumerate(classes):\n",
    "            probabilities_matrix[i][j] = list(row).count(value) / k\n",
    "\n",
    "    return probabilities_matrix"
   ]
  },
  {
   "cell_type": "code",
   "execution_count": 7,
   "metadata": {},
   "outputs": [],
   "source": [
    "#Step4 The class with highest possibilty is Your prediction\n",
    "def predict(X, X_train, y_train, k, distance_function):\n",
    "    \"\"\"\n",
    "    Function returns predictions for new set X based on labels of points from X_train\n",
    "    Args:\n",
    "        X (numpy.ndarray): set of observations (points) that we want to label\n",
    "        X_train (numpy.ndarray): set of lalabeld bservations (points)\n",
    "        y_train (numpy.ndarray): labels for X_train\n",
    "        k (int): number of nearest neighbours for KNN algorithm\n",
    "\n",
    "    Returns:\n",
    "        (numpy.ndarray): label predictions for points from set X\n",
    "    \"\"\"\n",
    "    distance_matrix = distance_function(X, X_train)\n",
    "\n",
    "    sorted_labels = get_sorted_train_labels(distance_matrix=distance_matrix, y=y_train)\n",
    "    \n",
    "    p_y_x = get_p_y_x_using_knn(y=sorted_labels, k=k)\n",
    "\n",
    "    number_of_classes = p_y_x.shape[1]\n",
    "    reversed_rows = np.fliplr(p_y_x)\n",
    "\n",
    "    prediction = number_of_classes - (np.argmax(reversed_rows, axis=1) + 1)\n",
    "\n",
    "    return prediction"
   ]
  },
  {
   "cell_type": "code",
   "execution_count": 8,
   "metadata": {},
   "outputs": [],
   "source": [
    "#Accuracy\n",
    "def count_accuracy(prediction, y_true):\n",
    "   \n",
    "    N1 = prediction.shape[0]\n",
    "    \n",
    "    accuracy = np.sum(prediction == y_true) / N1\n",
    "\n",
    "    return accuracy"
   ]
  },
  {
   "cell_type": "code",
   "execution_count": 9,
   "metadata": {},
   "outputs": [],
   "source": [
    "#Find best k\n",
    "from tqdm import tqdm_notebook\n",
    "def select_knn_model(X_validation, y_validation, X_train, y_train, k_values, distance_function):\n",
    "    \"\"\"\n",
    "    Function returns k parameter that best fit Xval points\n",
    "    Args:\n",
    "        Xval (numpy.ndarray): set of Validation Data, size N1:D\n",
    "        Xtrain (numpy.ndarray): set of Training Data, size N2:D\n",
    "        yval (numpy.ndarray): set of labels for Validation data, size N1:1\n",
    "        ytrain (numpy.ndarray): set of labels for Training Data, size N2:1\n",
    "        k_values (list): list of int values of k parameter that should be checked\n",
    "\n",
    "    Returns:\n",
    "        int: k paprameter that best fit validation set\n",
    "    \"\"\"\n",
    "\n",
    "    accuracies = []\n",
    "\n",
    "    for k in tqdm_notebook(k_values):\n",
    "        prediction = predict(X_validation, X_train, y_train, k, distance_function)\n",
    "\n",
    "        accuracy = count_accuracy(prediction, y_validation)\n",
    "        accuracies.append(accuracy)\n",
    "\n",
    "    best_k = k_values[accuracies.index(max(accuracies))]\n",
    "\n",
    "    return best_k, accuracies"
   ]
  },
  {
   "cell_type": "code",
   "execution_count": 10,
   "metadata": {},
   "outputs": [
    {
     "name": "stderr",
     "output_type": "stream",
     "text": [
      "C:\\Users\\alice\\anaconda3\\lib\\site-packages\\ipykernel_launcher.py:19: TqdmDeprecationWarning: This function will be removed in tqdm==5.0.0\n",
      "Please use `tqdm.notebook.tqdm` instead of `tqdm.tqdm_notebook`\n"
     ]
    },
    {
     "data": {
      "application/vnd.jupyter.widget-view+json": {
       "model_id": "cb12e91483ec4d37a12d5b4296817934",
       "version_major": 2,
       "version_minor": 0
      },
      "text/plain": [
       "HBox(children=(FloatProgress(value=0.0, max=49.0), HTML(value='')))"
      ]
     },
     "metadata": {},
     "output_type": "display_data"
    },
    {
     "name": "stdout",
     "output_type": "stream",
     "text": [
      "\n"
     ]
    },
    {
     "data": {
      "image/png": "[encoded data removed]",
      "text/plain": [
       "<Figure size 432x288 with 1 Axes>"
      ]
     },
     "metadata": {
      "needs_background": "light"
     },
     "output_type": "display_data"
    }
   ],
   "source": [
    "k_values = [i for i in range(1,50)]\n",
    "\n",
    "best_k, accuracies = select_knn_model(X_test, y_test, X_train, y_train, k_values, distance_function=get_euclidean_distance)\n",
    "\n",
    "plt.plot(k_values, accuracies)\n",
    "plt.xlabel('K parameter')\n",
    "plt.ylabel('Accuracy')\n",
    "plt.title('Accuracy for k nearest neighbors')\n",
    "plt.grid()\n",
    "plt.show()"
   ]
  },
  {
   "cell_type": "code",
   "execution_count": 11,
   "metadata": {},
   "outputs": [
    {
     "name": "stdout",
     "output_type": "stream",
     "text": [
      "The best K is at K =  9 with Maximum accuracy:- 0.8044692737430168\n"
     ]
    }
   ],
   "source": [
    "print(\"The best K is at K = \" ,best_k, \"with Maximum accuracy:-\",max(accuracies))"
   ]
  }
 ],
 "metadata": {
  "kernelspec": {
   "display_name": "Python 3",
   "language": "python",
   "name": "python3"
  },
  "language_info": {
   "codemirror_mode": {
    "name": "ipython",
    "version": 3
   },
   "file_extension": ".py",
   "mimetype": "text/x-python",
   "name": "python",
   "nbconvert_exporter": "python",
   "pygments_lexer": "ipython3",
   "version": "3.7.6"
  }
 },
 "nbformat": 4,
 "nbformat_minor": 4
}
