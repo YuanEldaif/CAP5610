{
 "cells": [
  {
   "cell_type": "markdown",
   "metadata": {},
   "source": [
    "## CAP5610 HW3 - Yuan Du\n",
    "Code stored at my Github: https://github.com/YuanEldaif/CAP5610\n"
   ]
  },
  {
   "cell_type": "code",
   "execution_count": 1,
   "metadata": {},
   "outputs": [],
   "source": [
    "#Data analysis and wrangling\n",
    "import pandas as pd\n",
    "import numpy as np\n",
    "\n",
    "#Data Visualization\n",
    "import matplotlib.pyplot as plt\n",
    "import seaborn as sns\n",
    "%matplotlib inline\n",
    "\n",
    "#Models\n",
    "from sklearn.naive_bayes import GaussianNB\n",
    "from sklearn.neighbors import KNeighborsClassifier\n",
    "\n",
    "#Model selection and evaluation\n",
    "from sklearn.model_selection import cross_val_score\n",
    "from sklearn.metrics import f1_score\n",
    "from sklearn import metrics\n",
    "\n",
    "# Load in the train and test datasets\n",
    "train = pd.read_csv('C:/Work/Project/CAP5610/HW/HW3/train.csv')\n",
    "test = pd.read_csv('C:/Work/Project/CAP5610/HW/HW3/test.csv')\n"
   ]
  },
  {
   "cell_type": "code",
   "execution_count": null,
   "metadata": {},
   "outputs": [],
   "source": [
    "train.info()"
   ]
  },
  {
   "cell_type": "code",
   "execution_count": null,
   "metadata": {},
   "outputs": [],
   "source": [
    "test.info()"
   ]
  },
  {
   "cell_type": "code",
   "execution_count": 2,
   "metadata": {},
   "outputs": [],
   "source": [
    "#Encoding Features\n",
    "# Import LabelEncoder\n",
    "from sklearn import preprocessing\n",
    "\n",
    "le = preprocessing.LabelEncoder()\n",
    "train[\"Opponent_code\"] = le.fit_transform(train[\"Opponent\"])\n",
    "test[\"Opponent_code\"] = le.fit_transform(test[\"Opponent\"])\n",
    "train[\"Home_or_Away_code\"] = le.fit_transform(train[\"Is_Home_or_Away\"])\n",
    "test[\"Home_or_Away_code\"] = le.fit_transform(test[\"Is_Home_or_Away\"])\n",
    "train[\"AP25_code\"] = le.fit_transform(train[\"Is_Opponent_in_AP25_Preseason\"])\n",
    "test[\"AP25_code\"] = le.fit_transform(test[\"Is_Opponent_in_AP25_Preseason\"])\n",
    "train[\"Media_code\"] = le.fit_transform(train[\"Media\"])\n",
    "test[\"Media_code\"] = le.fit_transform(test[\"Media\"])\n",
    "train[\"Label_code\"] = le.fit_transform(train[\"Label\"])\n",
    "test[\"Label_code\"] = le.fit_transform(test[\"Label\"])\n",
    "\n",
    "#train.head(10)"
   ]
  },
  {
   "cell_type": "code",
   "execution_count": 3,
   "metadata": {},
   "outputs": [],
   "source": [
    "#Data for models\n",
    "X_train = train.drop([\"Label_code\",\"Label\",\"ID\",\"Date\",\"Opponent\",\"Is_Home_or_Away\",\"Is_Opponent_in_AP25_Preseason\",\"Media\"], axis=1)\n",
    "y_train = train[\"Label_code\"]\n",
    "X_test  = test.drop([\"Label_code\",\"Label\",\"ID\",\"Date\",\"Opponent\",\"Is_Home_or_Away\",\"Is_Opponent_in_AP25_Preseason\",\"Media\"], axis=1)\n",
    "y_test = test[\"Label_code\"]\n",
    "\n",
    "combine = [train, test]"
   ]
  },
  {
   "cell_type": "code",
   "execution_count": null,
   "metadata": {},
   "outputs": [],
   "source": [
    "X_train.head()"
   ]
  },
  {
   "cell_type": "code",
   "execution_count": 4,
   "metadata": {},
   "outputs": [],
   "source": [
    "#fit models NB\n",
    "gnb = GaussianNB()\n",
    "gnb.fit(X_train, y_train)\n",
    "y_pred = gnb.predict(X_test)"
   ]
  },
  {
   "cell_type": "markdown",
   "metadata": {},
   "source": [
    "## Task 1 Programming and Evaluation on A Small Dataset \n",
    "### Q1: Programming\n",
    "Naive Bayes Accuracy, Precision, Recall, and F1 score on the testing result:"
   ]
  },
  {
   "cell_type": "code",
   "execution_count": 5,
   "metadata": {},
   "outputs": [
    {
     "name": "stdout",
     "output_type": "stream",
     "text": [
      "NB test Accuracy: 0.8333333333333334\n",
      "NB test Precision: 1.0\n",
      "NB test Recall: 0.7777777777777778\n",
      "NB test F1-Score: 0.8750000000000001\n"
     ]
    }
   ],
   "source": [
    "#print(\"Number of mislabeled points out of a total %d points : %d\"\n",
    "#% (X_test.shape[0], (y_test != y_pred).sum()))\n",
    "print('NB test Accuracy:',metrics.accuracy_score(y_test,y_pred))\n",
    "print(\"NB test Precision:\",metrics.precision_score(y_test, y_pred))\n",
    "print(\"NB test Recall:\",metrics.recall_score(y_test, y_pred))\n",
    "print('NB test F1-Score:',metrics.f1_score(y_test,y_pred))"
   ]
  },
  {
   "cell_type": "markdown",
   "metadata": {},
   "source": [
    "Best KNN Accuracy, Precision, Recall, and F1 score on the testing result (k=7):"
   ]
  },
  {
   "cell_type": "code",
   "execution_count": null,
   "metadata": {},
   "outputs": [],
   "source": [
    "#fit model KNN\n",
    "k = 4 \n",
    "knn = KNeighborsClassifier(n_neighbors=k)\n",
    "knn.fit(X_train, y_train)\n",
    "y_pred = knn.predict(X_test)"
   ]
  },
  {
   "cell_type": "code",
   "execution_count": null,
   "metadata": {},
   "outputs": [],
   "source": [
    "print(\"KNN test Accuracy at K=4 is\",metrics.accuracy_score(y_test, y_pred))"
   ]
  },
  {
   "cell_type": "code",
   "execution_count": null,
   "metadata": {},
   "outputs": [],
   "source": [
    "#optimal k value Error rate vs K\n",
    "error_rate = []\n",
    "for i in range(1,12):\n",
    " knn = KNeighborsClassifier(n_neighbors=i)\n",
    " knn.fit(X_train,y_train)\n",
    " pred_i = knn.predict(X_test)\n",
    " error_rate.append(np.mean(pred_i != y_test))\n",
    "\n",
    "plt.figure(figsize=(10,6))\n",
    "plt.plot(range(1,12),error_rate,color='blue', linestyle='dashed', \n",
    "         marker='o',markerfacecolor='red', markersize=10)\n",
    "plt.title('Error Rate vs. K Value')\n",
    "plt.xlabel('K')\n",
    "plt.ylabel('Error Rate')\n",
    "print(\"Minimum error:-\",min(error_rate),\"at K =\",error_rate.index(min(error_rate))+1)"
   ]
  },
  {
   "cell_type": "code",
   "execution_count": null,
   "metadata": {},
   "outputs": [],
   "source": [
    "#Accuracy vs K\n",
    "acc = []\n",
    "# Will take some time\n",
    "from sklearn import metrics\n",
    "for i in range(1,12):\n",
    "    neigh = KNeighborsClassifier(n_neighbors = i).fit(X_train,y_train)\n",
    "    yhat = neigh.predict(X_test)\n",
    "    acc.append(metrics.accuracy_score(y_test, yhat))\n",
    "    \n",
    "plt.figure(figsize=(10,6))\n",
    "plt.plot(range(1,12),acc,color = 'blue',linestyle='dashed', \n",
    "         marker='o',markerfacecolor='red', markersize=10)\n",
    "plt.title('accuracy vs. K Value')\n",
    "plt.xlabel('K')\n",
    "plt.ylabel('Accuracy')\n",
    "print(\"Maximum accuracy:-\",max(acc),\"at K =\",acc.index(max(acc))+1)"
   ]
  },
  {
   "cell_type": "code",
   "execution_count": 6,
   "metadata": {},
   "outputs": [],
   "source": [
    "#fit model KNN\n",
    "k = 7\n",
    "knn = KNeighborsClassifier(n_neighbors=k)\n",
    "knn.fit(X_train, y_train)\n",
    "y_pred = knn.predict(X_test)"
   ]
  },
  {
   "cell_type": "code",
   "execution_count": 7,
   "metadata": {},
   "outputs": [
    {
     "name": "stdout",
     "output_type": "stream",
     "text": [
      "KNN test Accuracy: 0.75\n",
      "KNN test Precision: 0.8\n",
      "KNN test Recall: 0.8888888888888888\n",
      "KNN test F1-Score: 0.8421052631578948\n"
     ]
    }
   ],
   "source": [
    "print('KNN test Accuracy:',metrics.accuracy_score(y_test,y_pred))\n",
    "print(\"KNN test Precision:\",metrics.precision_score(y_test, y_pred))\n",
    "print(\"KNN test Recall:\",metrics.recall_score(y_test, y_pred))\n",
    "print('KNN test F1-Score:',metrics.f1_score(y_test,y_pred))"
   ]
  },
  {
   "cell_type": "markdown",
   "metadata": {},
   "source": [
    "### Q2: Write down the prediction labels of the 12 testing games in the PDF.\n",
    "Prediction labels of 12 testng games (win=1, lose=0):"
   ]
  },
  {
   "cell_type": "code",
   "execution_count": 8,
   "metadata": {},
   "outputs": [
    {
     "data": {
      "text/plain": [
       "array([0, 1, 1, 1, 1, 1, 1, 1, 1, 1, 1, 0])"
      ]
     },
     "execution_count": 8,
     "metadata": {},
     "output_type": "execute_result"
    }
   ],
   "source": [
    "y_pred"
   ]
  },
  {
   "cell_type": "markdown",
   "metadata": {},
   "source": [
    "## Task 2 Programming and Evaluation on A Large Dataset (Titanic): \n",
    "### Q1: Test your naïve Bayesian classification on the Titanic dataset. Report the average Accuracy, Precision, Recall, and F1 score of your five-fold cross validation. The five-folds of the Titanic data are split randomly. What do you observe and learn by applying Bayesian learning to small datasets and larger datasets? "
   ]
  },
  {
   "cell_type": "code",
   "execution_count": 9,
   "metadata": {},
   "outputs": [],
   "source": [
    "#Data analysis and wrangling\n",
    "import pandas as pd\n",
    "import numpy as np\n",
    "\n",
    "#Data Visualization\n",
    "import matplotlib.pyplot as plt\n",
    "import seaborn as sns\n",
    "%matplotlib inline\n",
    "\n",
    "# Load in the train and test datasets\n",
    "train = pd.read_csv('C:/Work/Project/CAP5610/HW/HW1/train.csv')\n",
    "test = pd.read_csv('C:/Work/Project/CAP5610/HW/HW1/test.csv')\n",
    "\n",
    "combine = [train, test]\n",
    "\n",
    "# Store our passenger ID for easy access\n",
    "PassengerId = test['PassengerId']\n",
    "\n",
    "#Q14 drop ticket\n",
    "#Q15 drop cabin\n",
    "train = train.drop(['Ticket', 'Cabin'], axis=1)\n",
    "test = test.drop(['Ticket', 'Cabin'], axis=1)\n",
    "combine = [train, test]\n",
    "\n",
    "#Q16 Convert sex to numeric\n",
    "\n",
    "for dataset in combine:\n",
    "    dataset['Sex'] = dataset['Sex'].map( {'female': 1, 'male': 0} ).astype(int)\n",
    "\n",
    "#Q17 \n",
    "# fill missing values with median column values\n",
    "train.fillna(train.median(), inplace=True)\n",
    "test.fillna(test.median(), inplace=True)\n",
    "\n",
    "#Q18 Fill embarked with mode\n",
    "freq_port = train.Embarked.dropna().mode()[0]\n",
    "for dataset in combine:\n",
    "    dataset['Embarked'] = dataset['Embarked'].fillna(freq_port)\n",
    "    \n",
    "#Q19 complete Fare using mode\n",
    "test['Fare'].fillna(test['Fare'].dropna().median(), inplace=True)    \n",
    "\n",
    "# update combine\n",
    "combine = [train, test]\n",
    "\n",
    "#Q20 Convert the Fare feature to ordinal values\n",
    "for dataset in combine:\n",
    "    dataset.loc[ dataset['Fare'] <= 7.91, 'Fare'] = 0\n",
    "    dataset.loc[(dataset['Fare'] > 7.91) & (dataset['Fare'] <= 14.454), 'Fare'] = 1\n",
    "    dataset.loc[(dataset['Fare'] > 14.454) & (dataset['Fare'] <= 31), 'Fare']   = 2\n",
    "    dataset.loc[ dataset['Fare'] > 31, 'Fare'] = 3\n",
    "    dataset['Fare'] = dataset['Fare'].astype(int)\n",
    "    \n",
    "#Convert categorical variables into numeric\n",
    "for dataset in combine:\n",
    "    dataset['Embarked'] = dataset['Embarked'].map( {'S': 0, 'C': 1, 'Q': 2} ).astype(int)\n",
    "\n",
    "#Drop Name,PassengerId\n",
    "train = train.drop(['Name','PassengerId'], axis=1)\n",
    "test = test.drop(['Name','PassengerId'], axis=1)\n"
   ]
  },
  {
   "cell_type": "code",
   "execution_count": null,
   "metadata": {},
   "outputs": [],
   "source": [
    "train.head()"
   ]
  },
  {
   "cell_type": "code",
   "execution_count": 10,
   "metadata": {},
   "outputs": [
    {
     "data": {
      "text/plain": [
       "((712, 4), (712,), (179, 4), (179,))"
      ]
     },
     "execution_count": 10,
     "metadata": {},
     "output_type": "execute_result"
    }
   ],
   "source": [
    "#after variable selection F1\n",
    "from sklearn.model_selection import train_test_split\n",
    "X=train.drop(columns=['Survived','SibSp','Parch','Embarked']).values\n",
    "Y=train['Survived'].values\n",
    "XX_train, XX_test, YY_train, YY_test = train_test_split(X, Y, test_size = 0.2, random_state = 42)\n",
    "XX_train.shape, YY_train.shape, XX_test.shape, YY_test.shape"
   ]
  },
  {
   "cell_type": "code",
   "execution_count": 11,
   "metadata": {},
   "outputs": [],
   "source": [
    "#fit models NB\n",
    "gnb = GaussianNB()\n",
    "gnb.fit(XX_train, YY_train)\n",
    "Y_pred = gnb.predict(XX_test)"
   ]
  },
  {
   "cell_type": "code",
   "execution_count": 12,
   "metadata": {},
   "outputs": [
    {
     "name": "stdout",
     "output_type": "stream",
     "text": [
      "NB test Accuracy: 0.7486033519553073\n",
      "NB test Precision: 0.6666666666666666\n",
      "NB test Recall: 0.7837837837837838\n",
      "NB test F1-Score: 0.7204968944099379\n"
     ]
    }
   ],
   "source": [
    "print('NB test Accuracy:',metrics.accuracy_score(YY_test,Y_pred))\n",
    "print(\"NB test Precision:\",metrics.precision_score(YY_test, Y_pred))\n",
    "print(\"NB test Recall:\",metrics.recall_score(YY_test, Y_pred))\n",
    "print('NB test F1-Score:',metrics.f1_score(YY_test,Y_pred))"
   ]
  },
  {
   "cell_type": "code",
   "execution_count": 14,
   "metadata": {},
   "outputs": [],
   "source": [
    "from sklearn.model_selection import cross_validate\n",
    "gnb = GaussianNB()\n",
    "nb = gnb.fit(XX_train, YY_train)\n",
    "scoring=['accuracy', 'precision', 'recall', 'f1']\n",
    "scores = cross_validate(nb, XX_train, YY_train, cv=5, scoring=scoring)\n",
    "#scores\n"
   ]
  },
  {
   "cell_type": "code",
   "execution_count": null,
   "metadata": {},
   "outputs": [],
   "source": [
    "print(\"5K CV Naive Bayes average classification scores: \", np.mean(i[i<0]) for i in slist)"
   ]
  },
  {
   "cell_type": "code",
   "execution_count": 15,
   "metadata": {},
   "outputs": [],
   "source": [
    "slist=list(scores.values())\n",
    "#slist"
   ]
  },
  {
   "cell_type": "code",
   "execution_count": 16,
   "metadata": {},
   "outputs": [
    {
     "name": "stdout",
     "output_type": "stream",
     "text": [
      "5K CV Naive Bayes average classification scores: fit_time, score_time, accuracy, precision, recall, F1-score [0.0013956546783447266, 0.0037900447845458985, 0.748517679503595, 0.6444199207696661, 0.7384346610761705, 0.6879039905884378]\n"
     ]
    }
   ],
   "source": [
    "# Output list initialization \n",
    "Output = [] \n",
    "for i in range(len(slist)): \n",
    "   Output.append(np.average(slist[i])) \n",
    "\n",
    "print(\"5K CV Naive Bayes average classification scores: fit_time, score_time, accuracy, precision, recall, F1-score\",Output) "
   ]
  },
  {
   "cell_type": "markdown",
   "metadata": {},
   "source": [
    "Naive Bayes performs better on small dataset than large dataset based the performance on the small football data vs the larger dataset on the Titanic dataset."
   ]
  },
  {
   "cell_type": "markdown",
   "metadata": {},
   "source": [
    "### Q2: Implement KNN classification from scratch, and evaluate how K impacts the overall accuracy of kNN on the dataset. Plot the accuracies of kNN over k,  and identify the best K. "
   ]
  },
  {
   "cell_type": "code",
   "execution_count": 17,
   "metadata": {},
   "outputs": [
    {
     "name": "stdout",
     "output_type": "stream",
     "text": [
      "The best K is at K =  1 with Maximum accuracy:- 0.7932960893854749\n"
     ]
    },
    {
     "data": {
      "image/png": "[encoded data removed]",
      "text/plain": [
       "<Figure size 720x432 with 1 Axes>"
      ]
     },
     "metadata": {
      "needs_background": "light"
     },
     "output_type": "display_data"
    }
   ],
   "source": [
    "#Accuracy vs K\n",
    "acc = []\n",
    "# Will take some time\n",
    "from sklearn import metrics\n",
    "for i in range(1,100):\n",
    "    neigh = KNeighborsClassifier(n_neighbors = i).fit(XX_train,YY_train)\n",
    "    yhat = neigh.predict(XX_test)\n",
    "    acc.append(metrics.accuracy_score(YY_test, yhat))\n",
    "    \n",
    "plt.figure(figsize=(10,6))\n",
    "plt.plot(range(1,100),acc,color = 'blue',linestyle='dashed', \n",
    "         marker='o',markerfacecolor='red', markersize=10)\n",
    "plt.title('accuracy vs. K Value')\n",
    "plt.xlabel('K')\n",
    "plt.ylabel('Accuracy')\n",
    "print(\"The best K is at K = \" ,acc.index(max(acc))+1, \"with Maximum accuracy:-\",max(acc))"
   ]
  }
 ],
 "metadata": {
  "kernelspec": {
   "display_name": "Python 3",
   "language": "python",
   "name": "python3"
  },
  "language_info": {
   "codemirror_mode": {
    "name": "ipython",
    "version": 3
   },
   "file_extension": ".py",
   "mimetype": "text/x-python",
   "name": "python",
   "nbconvert_exporter": "python",
   "pygments_lexer": "ipython3",
   "version": "3.7.6"
  }
 },
 "nbformat": 4,
 "nbformat_minor": 4
}
