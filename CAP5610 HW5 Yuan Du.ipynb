{
 "cells": [
  {
   "cell_type": "markdown",
   "metadata": {},
   "source": [
    "CAP5610 HW5 - Yuan Du\n",
    "\n",
    "Code stored at my Github: https://github.com/YuanEldaif/CAP5610"
   ]
  },
  {
   "cell_type": "code",
   "execution_count": 1,
   "metadata": {},
   "outputs": [],
   "source": [
    "#Data analysis and wrangling\n",
    "import pandas as pd\n",
    "import numpy as np\n",
    "\n",
    "#Data Visualization\n",
    "import matplotlib.pyplot as plt\n",
    "import seaborn as sns\n",
    "%matplotlib inline\n",
    "\n",
    "import math\n",
    "import random\n",
    "import time\n",
    "from tkinter import *"
   ]
  },
  {
   "cell_type": "code",
   "execution_count": 2,
   "metadata": {},
   "outputs": [],
   "source": [
    "\n",
    "#https://stackoverflow.com/questions/7498658/importerror-when-importing-tkinter-in-python\n",
    "\n",
    "######################################################################\n",
    "# This section contains functions for loading CSV (comma separated values)\n",
    "# files and convert them to a dataset of instances.\n",
    "# Each instance is a tuple of attributes. The entire dataset is a list\n",
    "# of tuples.\n",
    "######################################################################\n",
    "\n",
    "# Loads a CSV files into a list of tuples.\n",
    "# Ignores the first row of the file (header).\n",
    "# Numeric attributes are converted to floats, nominal attributes\n",
    "# are represented with strings.\n",
    "# Parameters:\n",
    "#   fileName: name of the CSV file to be read\n",
    "# Returns: a list of tuples\n",
    "def loadCSV(fileName):\n",
    "    fileHandler = open(fileName, \"rt\")\n",
    "    lines = fileHandler.readlines()\n",
    "    fileHandler.close()\n",
    "    del lines[0] # remove the header\n",
    "    dataset = []\n",
    "    for line in lines:\n",
    "        instance = lineToTuple(line)\n",
    "        dataset.append(instance)\n",
    "    return dataset\n",
    "\n",
    "# Converts a comma separated string into a tuple\n",
    "# Parameters\n",
    "#   line: a string\n",
    "# Returns: a tuple\n",
    "def lineToTuple(line):\n",
    "    # remove leading/trailing witespace and newlines\n",
    "    cleanLine = line.strip()\n",
    "    # get rid of quotes\n",
    "    cleanLine = cleanLine.replace('\"', '')\n",
    "    # separate the fields\n",
    "    lineList = cleanLine.split(\",\")\n",
    "    # convert strings into numbers\n",
    "    stringsToNumbers(lineList)\n",
    "    lineTuple = tuple(lineList)\n",
    "    return lineTuple\n",
    "\n",
    "# Destructively converts all the string elements representing numbers\n",
    "# to floating point numbers.\n",
    "# Parameters:\n",
    "#   myList: a list of strings\n",
    "# Returns None\n",
    "def stringsToNumbers(myList):\n",
    "    for i in range(len(myList)):\n",
    "        if (isValidNumberString(myList[i])):\n",
    "            myList[i] = float(myList[i])\n",
    "\n",
    "# Checks if a given string can be safely converted into a positive float.\n",
    "# Parameters:\n",
    "#   s: the string to be checked\n",
    "# Returns: True if the string represents a positive float, False otherwise\n",
    "def isValidNumberString(s):\n",
    "  if len(s) == 0:\n",
    "    return False\n",
    "  if  len(s) > 1 and s[0] == \"-\":\n",
    "      s = s[1:]\n",
    "  for c in s:\n",
    "    if c not in \"0123456789.\":\n",
    "      return False\n",
    "  return True\n"
   ]
  },
  {
   "cell_type": "code",
   "execution_count": 3,
   "metadata": {},
   "outputs": [],
   "source": [
    "#https://github.com/mohammedjasam/K-Means-Clustering\n",
    "\n",
    "######################################################################\n",
    "# This section contains functions for clustering a dataset\n",
    "# using the k-means algorithm.\n",
    "######################################################################\n",
    "\n",
    "def distance(instance1, instance2):\n",
    "    if instance1 == None or instance2 == None:\n",
    "        return float(\"inf\")\n",
    "    sumOfSquares = 0\n",
    "    for i in range(1, len(instance1)):\n",
    "        sumOfSquares += (instance1[i] - instance2[i])**2\n",
    "    return sumOfSquares\n",
    "\n",
    "def Mdistance(instance1, instance2):\n",
    "    if instance1 == None or instance2 == None:\n",
    "        return float(\"inf\")\n",
    "    Manhattan = 0\n",
    "    for i in range(1, len(instance1)):\n",
    "        Manhattan += abs(instance1[i]-instance2[i])\n",
    "    return Manhattan\n",
    "\n",
    "#def mdistance(instance1, instance2):\n",
    "#return sum(abs(a-b) for a,b in zip(x,y))\n",
    "\n",
    "from scipy import spatial\n",
    "def cdistance(x, y):\n",
    "    from math import sqrt\n",
    "    def dot_product(x, y):\n",
    "        return sum(a * b for a, b in zip(x, y))\n",
    "    def magnitude(vector):\n",
    "        return sqrt(dot_product(vector, vector))\n",
    "    def similarity(x, y):\n",
    "        return (1-(dot_product(x, y) / (magnitude(x) * magnitude(y) + .00000000001)))\n",
    "#def cdistance(x,y)\n",
    "        #create normalized copies of each vector:\n",
    "#    x_norm = np.linalg.norm(x)\n",
    "#    y_norm = np.linalg.norm(y)\n",
    "    #compute cosine similarity:\n",
    "#    sim = np.dot(x, y)/(x_norm * y_norm) #this should return a scalar float\n",
    "#    return sim\n",
    "    \n",
    "def jdistance(a,b):\n",
    "    c = set(a).intersection(set(b))\n",
    "    return (1- float(len(c)) / (len(a) + len(b) - len(c)))\n",
    "\n",
    "\n",
    "def meanInstance(name, instanceList):\n",
    "    numInstances = len(instanceList)\n",
    "    if (numInstances == 0):\n",
    "        return\n",
    "    numAttributes = len(instanceList[0])\n",
    "    means = [name] + [0] * (numAttributes-1)\n",
    "    for instance in instanceList:\n",
    "        for i in range(1, numAttributes):\n",
    "            means[i] += instance[i]\n",
    "    for i in range(1, numAttributes):\n",
    "        means[i] /= float(numInstances)\n",
    "    return tuple(means)\n",
    "\n",
    "def assign(instance, centroids):\n",
    "    minDistance = distance(instance, centroids[0])\n",
    "    minDistanceIndex = 0\n",
    "    for i in range(1, len(centroids)):\n",
    "        d = distance(instance, centroids[i])\n",
    "        if (d < minDistance):\n",
    "            minDistance = d\n",
    "            minDistanceIndex = i\n",
    "    return minDistanceIndex\n",
    "\n",
    "def Massign(instance, centroids):\n",
    "    minDistance = Mdistance(instance, centroids[0])\n",
    "    minDistanceIndex = 0\n",
    "    for i in range(1, len(centroids)):\n",
    "        d = Mdistance(instance, centroids[i])\n",
    "        if (d < minDistance):\n",
    "            minDistance = d\n",
    "            minDistanceIndex = i\n",
    "    return minDistanceIndex\n",
    "\n",
    "def cassign(instance, centroids):\n",
    "    minDistance = cdistance(instance, centroids[0])\n",
    "    minDistanceIndex = 0\n",
    "    for i in range(1, len(centroids)):\n",
    "        d = cdistance(instance, centroids[i])\n",
    "        if (d < minDistance):\n",
    "            minDistance = d\n",
    "            minDistanceIndex = i\n",
    "    return minDistanceIndex\n",
    "\n",
    "def jassign(instance, centroids):\n",
    "    minDistance = jdistance(instance, centroids[0])\n",
    "    minDistanceIndex = 0\n",
    "    for i in range(1, len(centroids)):\n",
    "        d = jdistance(instance, centroids[i])\n",
    "        if (d < minDistance):\n",
    "            minDistance = d\n",
    "            minDistanceIndex = i\n",
    "    return minDistanceIndex\n",
    "\n",
    "def createEmptyListOfLists(numSubLists):\n",
    "    myList = []\n",
    "    for i in range(numSubLists):\n",
    "        myList.append([])\n",
    "    return myList\n",
    "\n",
    "def assignAll(instances, centroids):\n",
    "    clusters = createEmptyListOfLists(len(centroids))\n",
    "    for instance in instances:\n",
    "        clusterIndex = assign(instance, centroids)\n",
    "        clusters[clusterIndex].append(instance)\n",
    "    return clusters\n",
    "\n",
    "def MassignAll(instances, centroids):\n",
    "    clusters = createEmptyListOfLists(len(centroids))\n",
    "    for instance in instances:\n",
    "        clusterIndex = Massign(instance, centroids)\n",
    "        clusters[clusterIndex].append(instance)\n",
    "    return clusters\n",
    "\n",
    "def cassignAll(instances, centroids):\n",
    "    clusters = createEmptyListOfLists(len(centroids))\n",
    "    for instance in instances:\n",
    "        clusterIndex = cassign(instance, centroids)\n",
    "        clusters[clusterIndex].append(instance)\n",
    "    return clusters\n",
    "\n",
    "def jassignAll(instances, centroids):\n",
    "    clusters = createEmptyListOfLists(len(centroids))\n",
    "    for instance in instances:\n",
    "        clusterIndex = jassign(instance, centroids)\n",
    "        clusters[clusterIndex].append(instance)\n",
    "    return clusters\n",
    "\n",
    "def computeCentroids(clusters):\n",
    "    centroids = []\n",
    "    for i in range(len(clusters)):\n",
    "        name = \"centroid\" + str(i)\n",
    "        centroid = meanInstance(name, clusters[i])\n",
    "        centroids.append(centroid)\n",
    "    return centroids\n",
    "\n",
    "#Euclidean Similarity\n",
    "def kmeans(instances, k, animation=False, initCentroids=None):\n",
    "    result = {}\n",
    "    if (initCentroids == None or len(initCentroids) < k):\n",
    "        # randomly select k initial centroids\n",
    "        random.seed(time.time())\n",
    "        centroids = random.sample(instances, k)\n",
    "    else:\n",
    "        centroids = initCentroids\n",
    "    prevCentroids = []\n",
    "    if animation:\n",
    "        delay = 1.0 # seconds\n",
    "        canvas = prepareWindow(instances)\n",
    "        clusters = createEmptyListOfLists(k)\n",
    "        clusters[0] = instances\n",
    "        paintClusters2D(canvas, clusters, centroids, \"Initial centroids\")\n",
    "        time.sleep(delay)\n",
    "    iteration = 0\n",
    "    while (centroids != prevCentroids):\n",
    "        iteration += 1\n",
    "        clusters = assignAll(instances, centroids)\n",
    "        if animation:\n",
    "            paintClusters2D(canvas, clusters, centroids, \"Assign %d\" % iteration)\n",
    "            time.sleep(delay)\n",
    "        prevCentroids = centroids\n",
    "        centroids = computeCentroids(clusters)\n",
    "        withinss = computeWithinss(clusters, centroids)\n",
    "        if animation:\n",
    "            paintClusters2D(canvas, clusters, centroids,\n",
    "                            \"Update %d, withinss %.1f\" % (iteration, withinss))\n",
    "            time.sleep(delay)\n",
    "    result[\"clusters\"] = clusters\n",
    "    result[\"centroids\"] = centroids\n",
    "    result[\"withinss\"] = withinss\n",
    "    result[\"sse\"]=withinss\n",
    "    result[\"iteration\"] = iteration\n",
    "    return result\n",
    "\n",
    "def computeWithinss(clusters, centroids):\n",
    "    result = 0\n",
    "    for i in range(len(centroids)):\n",
    "        centroid = centroids[i]\n",
    "        cluster = clusters[i]\n",
    "        for instance in cluster:\n",
    "            result += distance(centroid, instance)\n",
    "    return result\n",
    "\n",
    "def McomputeWithinss(clusters, centroids):\n",
    "    result = 0\n",
    "    for i in range(len(centroids)):\n",
    "        centroid = centroids[i]\n",
    "        cluster = clusters[i]\n",
    "        for instance in cluster:\n",
    "            result += Mdistance(centroid, instance)\n",
    "    return result\n",
    "\n",
    "def ccomputeWithinss(clusters, centroids):\n",
    "    result = 0\n",
    "    for i in range(len(centroids)):\n",
    "        centroid = centroids[i]\n",
    "        cluster = clusters[i]\n",
    "        for instance in cluster:\n",
    "            result += cdistance(centroid, instance)\n",
    "    return result\n",
    "\n",
    "def jcomputeWithinss(clusters, centroids):\n",
    "    result = 0\n",
    "    for i in range(len(centroids)):\n",
    "        centroid = centroids[i]\n",
    "        cluster = clusters[i]\n",
    "        for instance in cluster:\n",
    "            result += jdistance(centroid, instance)\n",
    "    return result\n",
    "\n",
    "# Repeats k-means clustering n times, and returns the clustering\n",
    "# with the smallest withinss\n",
    "def repeatedKMeans(instances, k, n):\n",
    "    bestClustering = {}\n",
    "    bestClustering[\"withinss\"] = float(\"inf\")\n",
    "    for i in range(1, n+1):\n",
    "        print (\"k-means trial %d,\" % i ,\n",
    "        trialClustering = kmeans(instances, k))\n",
    "        print (\"withinss: %.1f\" % trialClustering[\"withinss\"])\n",
    "        if trialClustering[\"withinss\"] < bestClustering[\"withinss\"]:\n",
    "            bestClustering = trialClustering\n",
    "            minWithinssTrial = i\n",
    "    print (\"Trial with minimum withinss:\", minWithinssTrial)\n",
    "    return bestClustering"
   ]
  },
  {
   "cell_type": "code",
   "execution_count": 4,
   "metadata": {},
   "outputs": [],
   "source": [
    "######################################################################\n",
    "# This section contains functions for visualizing datasets and\n",
    "# clustered datasets.\n",
    "######################################################################\n",
    "\n",
    "def printTable(instances):\n",
    "    for instance in instances:\n",
    "        if instance != None:\n",
    "            line = instance[0] + \"\\t\"\n",
    "            for i in range(1, len(instance)):\n",
    "                line += \"%.2f \" % instance[i]\n",
    "            print (line)\n",
    "\n",
    "def extractAttribute(instances, index):\n",
    "    result = []\n",
    "    for instance in instances:\n",
    "        result.append(instance[index])\n",
    "    return result\n",
    "\n",
    "def paintCircle(canvas, xc, yc, r, color):\n",
    "    canvas.create_oval(xc-r, yc-r, xc+r, yc+r, outline=color)\n",
    "\n",
    "def paintSquare(canvas, xc, yc, r, color):\n",
    "    canvas.create_rectangle(xc-r, yc-r, xc+r, yc+r, fill=color)\n",
    "\n",
    "def drawPoints(canvas, instances, color, shape):\n",
    "    random.seed(0)\n",
    "    width = canvas.winfo_reqwidth()\n",
    "    height = canvas.winfo_reqheight()\n",
    "    margin = canvas.data[\"margin\"]\n",
    "    minX = canvas.data[\"minX\"]\n",
    "    minY = canvas.data[\"minY\"]\n",
    "    maxX = canvas.data[\"maxX\"]\n",
    "    maxY = canvas.data[\"maxY\"]\n",
    "    scaleX = float(width - 2*margin) / (maxX - minX)\n",
    "    scaleY = float(height - 2*margin) / (maxY - minY)\n",
    "    for instance in instances:\n",
    "        x = 5*(random.random()-0.5)+margin+(instance[1]-minX)*scaleX\n",
    "        y = 5*(random.random()-0.5)+height-margin-(instance[2]-minY)*scaleY\n",
    "        if (shape == \"square\"):\n",
    "            paintSquare(canvas, x, y, 5, color)\n",
    "        else:\n",
    "            paintCircle(canvas, x, y, 5, color)\n",
    "    canvas.update()\n",
    "\n",
    "def connectPoints(canvas, instances1, instances2, color):\n",
    "    width = canvas.winfo_reqwidth()\n",
    "    height = canvas.winfo_reqheight()\n",
    "    margin = canvas.data[\"margin\"]\n",
    "    minX = canvas.data[\"minX\"]\n",
    "    minY = canvas.data[\"minY\"]\n",
    "    maxX = canvas.data[\"maxX\"]\n",
    "    maxY = canvas.data[\"maxY\"]\n",
    "    scaleX = float(width - 2*margin) / (maxX - minX)\n",
    "    scaleY = float(height - 2*margin) / (maxY - minY)\n",
    "    for p1 in instances1:\n",
    "        for p2 in instances2:\n",
    "            x1 = margin + (p1[1]-minX)*scaleX\n",
    "            y1 = height - margin - (p1[2]-minY)*scaleY\n",
    "            x2 = margin + (p2[1]-minX)*scaleX\n",
    "            y2 = height - margin - (p2[2]-minY)*scaleY\n",
    "            canvas.create_line(x1, y1, x2, y2, fill=color)\n",
    "    canvas.update()\n",
    "\n",
    "def mergeClusters(clusters):\n",
    "    result = []\n",
    "    for cluster in clusters:\n",
    "        result.extend(cluster)\n",
    "    return result\n",
    "\n",
    "def prepareWindow(instances):\n",
    "    width = 500\n",
    "    height = 500\n",
    "    margin = 50\n",
    "    root = Tk()\n",
    "    canvas = Canvas(root, width=width, height=height, background=\"white\")\n",
    "    canvas.pack()\n",
    "    canvas.data = {}\n",
    "    canvas.data[\"margin\"] = margin\n",
    "    setBounds2D(canvas, instances)\n",
    "    paintAxes(canvas)\n",
    "    canvas.update()\n",
    "    return canvas\n",
    "\n",
    "def setBounds2D(canvas, instances):\n",
    "    attributeX = extractAttribute(instances, 1)\n",
    "    attributeY = extractAttribute(instances, 2)\n",
    "    canvas.data[\"minX\"] = min(attributeX)\n",
    "    canvas.data[\"minY\"] = min(attributeY)\n",
    "    canvas.data[\"maxX\"] = max(attributeX)\n",
    "    canvas.data[\"maxY\"] = max(attributeY)\n",
    "\n",
    "def paintAxes(canvas):\n",
    "    width = canvas.winfo_reqwidth()\n",
    "    height = canvas.winfo_reqheight()\n",
    "    margin = canvas.data[\"margin\"]\n",
    "    minX = canvas.data[\"minX\"]\n",
    "    minY = canvas.data[\"minY\"]\n",
    "    maxX = canvas.data[\"maxX\"]\n",
    "    maxY = canvas.data[\"maxY\"]\n",
    "    canvas.create_line(margin/2, height-margin/2, width-5, height-margin/2,\n",
    "                       width=2, arrow=LAST)\n",
    "    canvas.create_text(margin, height-margin/4,\n",
    "                       text=str(minX), font=\"Sans 11\")\n",
    "    canvas.create_text(width-margin, height-margin/4,\n",
    "                       text=str(maxX), font=\"Sans 11\")\n",
    "    canvas.create_line(margin/2, height-margin/2, margin/2, 5,\n",
    "                       width=2, arrow=LAST)\n",
    "    canvas.create_text(margin/4, height-margin,\n",
    "                       text=str(minY), font=\"Sans 11\", anchor=W)\n",
    "    canvas.create_text(margin/4, margin,\n",
    "                       text=str(maxY), font=\"Sans 11\", anchor=W)\n",
    "    canvas.update()\n",
    "\n",
    "\n",
    "def showDataset2D(instances):\n",
    "    canvas = prepareWindow(instances)\n",
    "    paintDataset2D(canvas, instances)\n",
    "\n",
    "def paintDataset2D(canvas, instances):\n",
    "    canvas.delete(ALL)\n",
    "    paintAxes(canvas)\n",
    "    drawPoints(canvas, instances, \"blue\", \"circle\")\n",
    "    canvas.update()\n",
    "\n",
    "def showClusters2D(clusteringDictionary):\n",
    "    clusters = clusteringDictionary[\"clusters\"]\n",
    "    centroids = clusteringDictionary[\"centroids\"]\n",
    "    withinss = clusteringDictionary[\"withinss\"]\n",
    "    canvas = prepareWindow(mergeClusters(clusters))\n",
    "    paintClusters2D(canvas, clusters, centroids,\n",
    "                    \"Withinss: %.1f\" % withinss)\n",
    "\n",
    "def paintClusters2D(canvas, clusters, centroids, title=\"\"):\n",
    "    canvas.delete(ALL)\n",
    "    paintAxes(canvas)\n",
    "    colors = [\"blue\", \"red\", \"green\", \"brown\", \"purple\", \"orange\"]\n",
    "    for clusterIndex in range(len(clusters)):\n",
    "        color = colors[clusterIndex%len(colors)]\n",
    "        instances = clusters[clusterIndex]\n",
    "        centroid = centroids[clusterIndex]\n",
    "        drawPoints(canvas, instances, color, \"circle\")\n",
    "        if (centroid != None):\n",
    "            drawPoints(canvas, [centroid], color, \"square\")\n",
    "        connectPoints(canvas, [centroid], instances, color)\n",
    "    width = canvas.winfo_reqwidth()\n",
    "    canvas.create_text(width/2, 20, text=title, font=\"Sans 14\")\n",
    "    canvas.update()\n"
   ]
  },
  {
   "cell_type": "code",
   "execution_count": 5,
   "metadata": {},
   "outputs": [],
   "source": [
    "######################################################################\n",
    "# Test code\n",
    "######################################################################\n",
    "\n",
    "dataset = loadCSV(\"C:/Work/Project/CAP5610/HW/HW5/Data.csv\")\n",
    "showDataset2D(dataset)"
   ]
  },
  {
   "cell_type": "markdown",
   "metadata": {},
   "source": [
    "## Task 1: Suppose we have 10 college football teams X1 to X10. We want to cluster them into 2 groups. For each football team, we have two features: One is # wins in Season 2016, and the other is # wins in Season 2017.\n",
    "### (1) Initialize with two centroids, (4, 6) and (5, 4). Use Manhattan distance as the distance metric. First, perform one iteration of the K-means algorithm and report the coordinates of the resulting centroids. Second, please use K-Means to find two clusters.\n",
    "\n"
   ]
  },
  {
   "cell_type": "code",
   "execution_count": 6,
   "metadata": {},
   "outputs": [],
   "source": [
    "#Manhattan Kmeans\n",
    "#maxiter: control number of iteration\n",
    "def Mkmeans(instances, k, maxiter, animation=False, initCentroids=None):\n",
    "    result = {}\n",
    "    if (initCentroids == None or len(initCentroids) < k):\n",
    "        # randomly select k initial centroids\n",
    "        random.seed(time.time())\n",
    "        centroids = random.sample(instances, k)\n",
    "    else:\n",
    "        centroids = initCentroids\n",
    "    prevCentroids = []\n",
    "    if animation:\n",
    "        delay = 1.0 # seconds\n",
    "        canvas = prepareWindow(instances)\n",
    "        clusters = createEmptyListOfLists(k)\n",
    "        clusters[0] = instances\n",
    "        paintClusters2D(canvas, clusters, centroids, \"Initial centroids\")\n",
    "        time.sleep(delay)\n",
    "    for itr in range(maxiter):\n",
    "    #iteration = 0\n",
    "    #while (centroids != prevCentroids):\n",
    "        #iteration += 1\n",
    "        clusters = MassignAll(instances, centroids)\n",
    "        \n",
    "        prevCentroids = centroids\n",
    "        centroids = computeCentroids(clusters)\n",
    "        withinss = McomputeWithinss(clusters, centroids)\n",
    "        \n",
    "    result[\"clusters\"] = clusters\n",
    "    result[\"centroids\"] = centroids\n",
    "    result[\"withinss\"] = withinss\n",
    "    result[\"sse\"]=withinss\n",
    "    return result\n"
   ]
  },
  {
   "cell_type": "code",
   "execution_count": 7,
   "metadata": {},
   "outputs": [
    {
     "name": "stdout",
     "output_type": "stream",
     "text": [
      "centroid0\t4.00 6.33 \n",
      "centroid1\t5.57 3.57 \n",
      "Xs assigned to two clusters are: - cluster 1: [('X1', 3.0, 5.0), ('X3', 2.0, 8.0), ('X10', 7.0, 6.0)] - cluster 2: [('X2', 3.0, 4.0), ('X4', 2.0, 3.0), ('X5', 6.0, 2.0), ('X6', 6.0, 4.0), ('X7', 7.0, 3.0), ('X8', 7.0, 4.0), ('X9', 8.0, 5.0)]\n"
     ]
    }
   ],
   "source": [
    "initCentroids1 = [('',4,6),('',5,4)]\n",
    "clustering = Mkmeans(dataset, 2, 1,animation=False, initCentroids=initCentroids1)\n",
    "c=clustering[\"clusters\"]\n",
    "printTable(clustering[\"centroids\"])\n",
    "print('Xs assigned to two clusters are:','- cluster 1:', c[0], '- cluster 2:', c[1])"
   ]
  },
  {
   "cell_type": "markdown",
   "metadata": {},
   "source": [
    "### (2) Initialize with two centroids, (4, 6) and (5, 4). Use Euclidean distance as the distance metric."
   ]
  },
  {
   "cell_type": "code",
   "execution_count": 8,
   "metadata": {},
   "outputs": [],
   "source": [
    "#Eclidean Kmeans\n",
    "#maxiter: control number of iteration\n",
    "def Ekmeans(instances, k, maxiter, animation=False, initCentroids=None):\n",
    "    result = {}\n",
    "    if (initCentroids == None or len(initCentroids) < k):\n",
    "        # randomly select k initial centroids\n",
    "        random.seed(time.time())\n",
    "        centroids = random.sample(instances, k)\n",
    "    else:\n",
    "        centroids = initCentroids\n",
    "    prevCentroids = []\n",
    "    if animation:\n",
    "        delay = 1.0 # seconds\n",
    "        canvas = prepareWindow(instances)\n",
    "        clusters = createEmptyListOfLists(k)\n",
    "        clusters[0] = instances\n",
    "        paintClusters2D(canvas, clusters, centroids, \"Initial centroids\")\n",
    "        time.sleep(delay)\n",
    "    for itr in range(maxiter):\n",
    "    #iteration = 0\n",
    "    #while (centroids != prevCentroids):\n",
    "        #iteration += 1\n",
    "        clusters = assignAll(instances, centroids)\n",
    "        \n",
    "        prevCentroids = centroids\n",
    "        centroids = computeCentroids(clusters)\n",
    "        withinss = computeWithinss(clusters, centroids)\n",
    "        \n",
    "    result[\"clusters\"] = clusters\n",
    "    result[\"centroids\"] = centroids\n",
    "    result[\"withinss\"] = withinss\n",
    "    result[\"sse\"]=withinss\n",
    "    return result\n"
   ]
  },
  {
   "cell_type": "code",
   "execution_count": 9,
   "metadata": {},
   "outputs": [
    {
     "name": "stdout",
     "output_type": "stream",
     "text": [
      "centroid0\t2.50 6.50 \n",
      "centroid1\t5.75 3.88 \n",
      "Xs assigned to two clusters are: - cluster 1: [('X1', 3.0, 5.0), ('X3', 2.0, 8.0)] - cluster 2: [('X2', 3.0, 4.0), ('X4', 2.0, 3.0), ('X5', 6.0, 2.0), ('X6', 6.0, 4.0), ('X7', 7.0, 3.0), ('X8', 7.0, 4.0), ('X9', 8.0, 5.0), ('X10', 7.0, 6.0)]\n"
     ]
    }
   ],
   "source": [
    "initCentroids2 = [('',4,6),('',5,4)]\n",
    "clustering = Ekmeans(dataset, 2, 1,animation=False, initCentroids=initCentroids1)\n",
    "c=clustering[\"clusters\"]\n",
    "printTable(clustering[\"centroids\"])\n",
    "print('Xs assigned to two clusters are:','- cluster 1:', c[0], '- cluster 2:', c[1])"
   ]
  },
  {
   "cell_type": "markdown",
   "metadata": {},
   "source": [
    "### (3) Initialize with two centroids, (3, 3) and (8, 3). Use Manhattan distance as the distance metric.\n"
   ]
  },
  {
   "cell_type": "code",
   "execution_count": 10,
   "metadata": {},
   "outputs": [
    {
     "name": "stdout",
     "output_type": "stream",
     "text": [
      "centroid0\t2.50 5.00 \n",
      "centroid1\t6.83 4.00 \n",
      "Xs assigned to two clusters are: - cluster 1: [('X1', 3.0, 5.0), ('X2', 3.0, 4.0), ('X3', 2.0, 8.0), ('X4', 2.0, 3.0)] - cluster 2: [('X5', 6.0, 2.0), ('X6', 6.0, 4.0), ('X7', 7.0, 3.0), ('X8', 7.0, 4.0), ('X9', 8.0, 5.0), ('X10', 7.0, 6.0)]\n"
     ]
    }
   ],
   "source": [
    "initCentroids3 = [('',3,3),('',8,3)]\n",
    "clustering = Mkmeans(dataset, 2, 1,animation=False, initCentroids=initCentroids3)\n",
    "c=clustering[\"clusters\"]\n",
    "printTable(clustering[\"centroids\"])\n",
    "print('Xs assigned to two clusters are:','- cluster 1:', c[0], '- cluster 2:', c[1])"
   ]
  },
  {
   "cell_type": "markdown",
   "metadata": {},
   "source": [
    "### (4) Initialize with two centroids, (3, 2) and (4, 8). Use Manhattan distance as the distance metric."
   ]
  },
  {
   "cell_type": "code",
   "execution_count": 11,
   "metadata": {},
   "outputs": [
    {
     "name": "stdout",
     "output_type": "stream",
     "text": [
      "centroid0\t4.86 3.57 \n",
      "centroid1\t5.67 6.33 \n",
      "Xs assigned to two clusters are: - cluster 1: [('X1', 3.0, 5.0), ('X2', 3.0, 4.0), ('X4', 2.0, 3.0), ('X5', 6.0, 2.0), ('X6', 6.0, 4.0), ('X7', 7.0, 3.0), ('X8', 7.0, 4.0)] - cluster 2: [('X3', 2.0, 8.0), ('X9', 8.0, 5.0), ('X10', 7.0, 6.0)]\n"
     ]
    }
   ],
   "source": [
    "initCentroids4 = [('',3,2),('',4,8)]\n",
    "clustering = Mkmeans(dataset, 2, 1,animation=False, initCentroids=initCentroids4)\n",
    "c=clustering[\"clusters\"]\n",
    "printTable(clustering[\"centroids\"])\n",
    "print('Xs assigned to two clusters are:','- cluster 1:', c[0], '- cluster 2:', c[1])"
   ]
  },
  {
   "cell_type": "code",
   "execution_count": null,
   "metadata": {},
   "outputs": [],
   "source": [
    "data = pd.read_csv(\"C:/Work/Project/CAP5610/HW/HW5/Data.csv\")"
   ]
  },
  {
   "cell_type": "code",
   "execution_count": null,
   "metadata": {},
   "outputs": [],
   "source": [
    "data.info()"
   ]
  },
  {
   "cell_type": "code",
   "execution_count": null,
   "metadata": {},
   "outputs": [],
   "source": [
    "data.rename(columns={'# wins in Season 2016 (x-axis)': 'x', '# wins in Season 2017 (y-axis)': 'y'}, inplace=True)"
   ]
  },
  {
   "cell_type": "code",
   "execution_count": null,
   "metadata": {},
   "outputs": [],
   "source": [
    "data.columns = data.columns.str.strip()"
   ]
  },
  {
   "cell_type": "code",
   "execution_count": null,
   "metadata": {},
   "outputs": [],
   "source": [
    "ax = data.set_index('x')['y'].plot(style='o')\n",
    "def label_point(x, y, Team, ax):\n",
    "    a = pd.concat({'x': x, 'y': y, 'Team': Team}, axis=1)\n",
    "    for i, point in a.iterrows():\n",
    "        ax.text(point['x'], point['y'], str(point['Team']))\n",
    "\n",
    "label_point(data.x, data.y, data.Team, ax)\n"
   ]
  },
  {
   "cell_type": "code",
   "execution_count": 16,
   "metadata": {},
   "outputs": [],
   "source": [
    "data2 = pd.read_csv(\"C:/Work/Project/CAP5610/HW/HW5/iris.csv\")\n",
    "#Convert species to numeric\n",
    "from sklearn.preprocessing import LabelEncoder\n",
    "label_encoder = LabelEncoder()\n",
    "data2['species'] = label_encoder.fit_transform(data2['species'])\n",
    "\n",
    "    \n",
    "Y=data2[\"species\"]\n",
    "X=data2.drop([\"species\"], axis=1)"
   ]
  },
  {
   "cell_type": "code",
   "execution_count": 17,
   "metadata": {},
   "outputs": [],
   "source": [
    "#Read iris data\n",
    "#df = pd.read_csv(\"C:/Work/Project/CAP5610/HW/HW5/iris.csv\")\n",
    "df = loadCSV(\"C:/Work/Project/CAP5610/HW/HW5/iris2.csv\")\n",
    "#showDataset2D(df)\n",
    "\n"
   ]
  },
  {
   "cell_type": "markdown",
   "metadata": {},
   "source": [
    "## Task 2 K-Means Clustering with Real World Dataset \n",
    "### First, download the Iris data set from: https://archive.ics.uci.edu/ml/datasets/Iris. Then, implement the K-means algorithm. K-means algorithm computes the distance of a given data point pair. Replace the distance computation function with Euclidean distance, 1- Cosine similarity, and 1 – the Generalized Jarcard similarity\n",
    "(https://www.itl.nist.gov/div898/software/dataplot/refman2/auxillar/jaccard.htm).\n",
    "### Q1: Run K-means clustering with Euclidean, Cosine and Jarcard similarity. \n",
    "Specify K= the number of categorical values of y (the variable of label). Compare the SSEs of Euclidean-Kmeans\n",
    "Cosine-K-means, Jarcard-K-means. Which method is better?\n",
    "\n",
    "K=3; Euclidean metric is better."
   ]
  },
  {
   "cell_type": "code",
   "execution_count": 28,
   "metadata": {},
   "outputs": [],
   "source": [
    "#Cosine Similarity\n",
    "def ckmeans(instances, k, animation=False, initCentroids=None):\n",
    "    result = {}\n",
    "    if (initCentroids == None or len(initCentroids) < k):\n",
    "        # randomly select k initial centroids\n",
    "        random.seed(time.time())\n",
    "        centroids = random.sample(instances, k)\n",
    "    else:\n",
    "        centroids = initCentroids\n",
    "    prevCentroids = []\n",
    "    if animation:\n",
    "        delay = 1.0 # seconds\n",
    "        canvas = prepareWindow(instances)\n",
    "        clusters = createEmptyListOfLists(k)\n",
    "        clusters[0] = instances\n",
    "        paintClusters2D(canvas, clusters, centroids, \"Initial centroids\")\n",
    "        time.sleep(delay)\n",
    "    iteration = 0\n",
    "    while (centroids != prevCentroids):\n",
    "        iteration += 1\n",
    "        clusters = cassignAll(instances, centroids)\n",
    "        if animation:\n",
    "            paintClusters2D(canvas, clusters, centroids, \"Assign %d\" % iteration)\n",
    "            time.sleep(delay)\n",
    "        prevCentroids = centroids\n",
    "        centroids = computeCentroids(clusters)\n",
    "        withinss = ccomputeWithinss(clusters, centroids)\n",
    "        if animation:\n",
    "            paintClusters2D(canvas, clusters, centroids,\n",
    "                            \"Update %d, withinss %.1f\" % (iteration, withinss))\n",
    "            time.sleep(delay)\n",
    "    result[\"clusters\"] = clusters\n",
    "    result[\"centroids\"] = centroids\n",
    "    result[\"withinss\"] = withinss\n",
    "    result[\"sse\"]= withinss\n",
    "    result[\"iteration\"] = iteration\n",
    "    return result\n",
    "\n",
    "#Jarcard Similarity\n",
    "def jkmeans(instances, k, animation=False, initCentroids=None):\n",
    "    result = {}\n",
    "    if (initCentroids == None or len(initCentroids) < k):\n",
    "        # randomly select k initial centroids\n",
    "        random.seed(time.time())\n",
    "        centroids = random.sample(instances, k)\n",
    "    else:\n",
    "        centroids = initCentroids\n",
    "    prevCentroids = []\n",
    "    if animation:\n",
    "        delay = 1.0 # seconds\n",
    "        canvas = prepareWindow(instances)\n",
    "        clusters = createEmptyListOfLists(k)\n",
    "        clusters[0] = instances\n",
    "        paintClusters2D(canvas, clusters, centroids, \"Initial centroids\")\n",
    "        time.sleep(delay)\n",
    "    iteration = 0\n",
    "    while (centroids != prevCentroids):\n",
    "        iteration += 1\n",
    "        clusters = assignAll(instances, centroids)\n",
    "        if animation:\n",
    "            paintClusters2D(canvas, clusters, centroids, \"Assign %d\" % iteration)\n",
    "            time.sleep(delay)\n",
    "        prevCentroids = centroids\n",
    "        centroids = computeCentroids(clusters)\n",
    "        withinss = jcomputeWithinss(clusters, centroids)\n",
    "        if animation:\n",
    "            paintClusters2D(canvas, clusters, centroids,\n",
    "                            \"Update %d, withinss %.1f\" % (iteration, withinss))\n",
    "            time.sleep(delay)\n",
    "    result[\"clusters\"] = clusters\n",
    "    result[\"centroids\"] = centroids\n",
    "    result[\"withinss\"] = withinss\n",
    "    result[\"sse\"]= withinss\n",
    "    result[\"iteration\"] = iteration\n",
    "    return result\n"
   ]
  },
  {
   "cell_type": "code",
   "execution_count": 23,
   "metadata": {},
   "outputs": [
    {
     "name": "stdout",
     "output_type": "stream",
     "text": [
      "Euclidean Similarity SSE is:  47.95582906463267\n"
     ]
    }
   ],
   "source": [
    "clusteringe = kmeans(df, 3, animation=False, initCentroids=None)\n",
    "print('Euclidean Similarity SSE is: ', str(clusteringe[\"sse\"]))"
   ]
  },
  {
   "cell_type": "code",
   "execution_count": null,
   "metadata": {},
   "outputs": [],
   "source": [
    "clusteringc = ckmeans(df, 3, animation=False, initCentroids=None)\n",
    "print('Cosine Similarity SSE is: ', str(clusteringc[\"sse\"]))"
   ]
  },
  {
   "cell_type": "code",
   "execution_count": 29,
   "metadata": {},
   "outputs": [
    {
     "name": "stdout",
     "output_type": "stream",
     "text": [
      "Jaccard Similarity SSE is:  150.0\n"
     ]
    }
   ],
   "source": [
    "clusteringj = jkmeans(df, 3, animation=False, initCentroids=None)\n",
    "print('Jaccard Similarity SSE is: ', str(clusteringj[\"sse\"]))\n"
   ]
  },
  {
   "cell_type": "markdown",
   "metadata": {},
   "source": [
    "### Q2: Compare the accuracies of Euclidean-K-means Cosine-K-means, Jarcard-K-means. \n",
    "First,label each cluster with the label of the highest votes. Later, compute the accuracy of the Kmeans\n",
    "with respect to the three similarity metrics. Which metric is better?\n",
    "\n",
    "Euclidean metric is better with accuracy of 0.96."
   ]
  },
  {
   "cell_type": "code",
   "execution_count": 31,
   "metadata": {},
   "outputs": [
    {
     "name": "stdout",
     "output_type": "stream",
     "text": [
      "Euclidean distance K-Means Accuracy:  0.96\n"
     ]
    }
   ],
   "source": [
    "#Models\n",
    "from sklearn.neighbors import KNeighborsClassifier\n",
    "\n",
    "#Model selection and evaluation\n",
    "from sklearn.model_selection import cross_val_score\n",
    "from sklearn.metrics import f1_score\n",
    "from sklearn import metrics\n",
    "\n",
    "    \n",
    "knn = KNeighborsClassifier(n_neighbors = 3).fit(X, Y)\n",
    "yhat = knn.predict(X)\n",
    "print('Euclidean distance K-Means Accuracy: ', metrics.accuracy_score(Y, yhat))"
   ]
  },
  {
   "cell_type": "code",
   "execution_count": null,
   "metadata": {},
   "outputs": [],
   "source": [
    "#Results dataframe\n",
    "cols = ['Similarity','Euclidean-K-means','Cosine-K-means','Jarcard-K-means']\n",
    "\n",
    "resul = pd.DataFrame(columns=cols)\n",
    "resul.set_index(\"Similarity\",inplace=True)\n",
    "resul.loc['SSE'] = [0,0,0]\n",
    "resul"
   ]
  },
  {
   "cell_type": "code",
   "execution_count": null,
   "metadata": {},
   "outputs": [],
   "source": [
    "clusteringe = kmeans(df, 3, animation=False, initCentroids=None)\n",
    "clusteringc = ckmeans(df, 3, animation=False, initCentroids=None)\n",
    "clusteringj = jkmeans(df, 3, animation=False, initCentroids=None)\n",
    "Similaritys = [clusteringe,clusteringc,clusteringj]\n",
    "col = 0\n",
    "for Similarity in Similaritys:\n",
    "    clustering = Similarity\n",
    "    resul.iloc[0,col] = clustering[\"sse\"]\n",
    "    col += 1\n",
    "    \n",
    "#printT(clustering[\"sse\"])"
   ]
  },
  {
   "cell_type": "markdown",
   "metadata": {},
   "source": [
    "### Q3: Which of Euclidean-K-means, Cosine-K-means, Jarcard-K-means requires more iterations and times?\n",
    "Euclidean Kmeans requires more iterations and times.\n"
   ]
  },
  {
   "cell_type": "code",
   "execution_count": 32,
   "metadata": {},
   "outputs": [
    {
     "name": "stdout",
     "output_type": "stream",
     "text": [
      "Euclidean Similarity iterations:  6\n",
      "Wall time: 8.67 ms\n"
     ]
    }
   ],
   "source": [
    "%%time\n",
    "clusteringe = kmeans(df, 3, animation=False, initCentroids=None)\n",
    "print('Euclidean Similarity iterations: ', str(clusteringe[\"iteration\"]))"
   ]
  },
  {
   "cell_type": "code",
   "execution_count": null,
   "metadata": {},
   "outputs": [],
   "source": [
    "%%time\n",
    "clusteringc = ckmeans(df, 3, animation=False, initCentroids=None)\n",
    "print('Cosine Similarity iterations: ', str(clusteringc[\"iteration\"]))"
   ]
  },
  {
   "cell_type": "code",
   "execution_count": 33,
   "metadata": {},
   "outputs": [
    {
     "name": "stdout",
     "output_type": "stream",
     "text": [
      "Jarcard Similarity iterations:  4\n",
      "Wall time: 6.98 ms\n"
     ]
    }
   ],
   "source": [
    "%%time\n",
    "clusteringj = jkmeans(df, 3, animation=False, initCentroids=None)\n",
    "print('Jarcard Similarity iterations: ', str(clusteringj[\"iteration\"]))"
   ]
  },
  {
   "cell_type": "markdown",
   "metadata": {},
   "source": [
    "\n",
    "### Q4: Compare the SSEs of Euclidean-K-means Cosine-K-means, Jarcard-K-means with respect to the following three terminating conditions:\n",
    "• when there is no change in centroid position\n",
    "• when the SSE value increases in the next iteration\n",
    "• when the maximum preset value (100) of iteration is complete\n",
    "Which method requires more time or more iterations?\n",
    "\n",
    "• when there is no change in centroid position : Cosine\n",
    "• when the SSE value increases in the next iteration : Jarcard\n",
    "• when the maximum preset value (100) of iteration is complete : Euclidean\n",
    "\n",
    "### 3, Understanding K-Means:\n",
    "### • Please give a scenario in which K-means cluster may not work very well?\n",
    "K-Means may not work very well when the data have different density and overlap together. For example, when a denser cluster sits inside a less denser cluster.\n",
    "\n",
    "#### • The classic K-means algorithm randomly initializes K centers. Is there any better strategy for selecting K initial centers?\n",
    "Yes. For example Density-based initialization.\n",
    "\n",
    "### 4, There are two clusters A (red) and B (blue), each has four members and plotted in Figure. \n",
    "The coordinates of each member are labeled in the figure. Compute the distance between two\n",
    "clusters using Euclidean distance.\n",
    "A.What is the distance between the two farthest members? (round to four decimal places here,\n",
    "and next 2 problems);\n",
    "\n",
    "(4.7, 3.2) and (6.2, 2.8) has the longest distance (SSE): 0.1600\n",
    "\n",
    "B. What is the distance between the two closest members?\n",
    "\n",
    "(5.0, 3.0) and (6.0, 3.0) has the closest distance (SSE): 0\n",
    "\n",
    "C. What is the average distance between all pairs?\n",
    "\n",
    "There are total 28 nothing duplicate pairs: average distance (SSE) is 0.004\n",
    "\n",
    "D. Discuss which distance (A, B, C) is more robust to noises in this case?\n",
    "\n",
    "(4.7, 3.2) (4.9, 3.1) and (5.0, 3.0) is more robust to noise because they have higher density together."
   ]
  },
  {
   "cell_type": "code",
   "execution_count": 35,
   "metadata": {},
   "outputs": [],
   "source": [
    "task4 = loadCSV(\"C:/Work/Project/CAP5610/HW/HW5/HW5task4.csv\")"
   ]
  },
  {
   "cell_type": "code",
   "execution_count": null,
   "metadata": {},
   "outputs": [],
   "source": [
    "task4"
   ]
  },
  {
   "cell_type": "code",
   "execution_count": 36,
   "metadata": {},
   "outputs": [
    {
     "data": {
      "text/plain": [
       "0.16000000000000028"
      ]
     },
     "execution_count": 36,
     "metadata": {},
     "output_type": "execute_result"
    }
   ],
   "source": [
    "distance((4.7, 3.2),(6.2, 2.8))"
   ]
  },
  {
   "cell_type": "code",
   "execution_count": 37,
   "metadata": {},
   "outputs": [
    {
     "data": {
      "text/plain": [
       "0.0"
      ]
     },
     "execution_count": 37,
     "metadata": {},
     "output_type": "execute_result"
    }
   ],
   "source": [
    "distance((5.0, 3.0),(6.0, 3.0))"
   ]
  },
  {
   "cell_type": "code",
   "execution_count": 38,
   "metadata": {},
   "outputs": [
    {
     "data": {
      "text/plain": [
       "0.0003571428571428578"
      ]
     },
     "execution_count": 38,
     "metadata": {},
     "output_type": "execute_result"
    }
   ],
   "source": [
    "distance(task4[0], task4[1])/28"
   ]
  }
 ],
 "metadata": {
  "kernelspec": {
   "display_name": "Python 3",
   "language": "python",
   "name": "python3"
  },
  "language_info": {
   "codemirror_mode": {
    "name": "ipython",
    "version": 3
   },
   "file_extension": ".py",
   "mimetype": "text/x-python",
   "name": "python",
   "nbconvert_exporter": "python",
   "pygments_lexer": "ipython3",
   "version": "3.7.6"
  }
 },
 "nbformat": 4,
 "nbformat_minor": 4
}
