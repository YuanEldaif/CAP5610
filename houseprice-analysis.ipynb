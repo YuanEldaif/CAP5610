{
 "cells": [
  {
   "cell_type": "code",
   "execution_count": 1,
   "metadata": {
    "_cell_guid": "b1076dfc-b9ad-4769-8c92-a6c4dae69d19",
    "_uuid": "8f2839f25d086af736a60e9eeb907d3b93b6e0e5",
    "execution": {
     "iopub.execute_input": "2020-12-07T00:27:52.258375Z",
     "iopub.status.busy": "2020-12-07T00:27:52.257459Z",
     "iopub.status.idle": "2020-12-07T00:27:52.262832Z",
     "shell.execute_reply": "2020-12-07T00:27:52.262045Z"
    },
    "papermill": {
     "duration": 0.070999,
     "end_time": "2020-12-07T00:27:52.263000",
     "exception": false,
     "start_time": "2020-12-07T00:27:52.192001",
     "status": "completed"
    },
    "tags": []
   },
   "outputs": [
    {
     "name": "stdout",
     "output_type": "stream",
     "text": [
      "/kaggle/input/house-prices-advanced-regression-techniques/sample_submission.csv\n",
      "/kaggle/input/house-prices-advanced-regression-techniques/data_description.txt\n",
      "/kaggle/input/house-prices-advanced-regression-techniques/train.csv\n",
      "/kaggle/input/house-prices-advanced-regression-techniques/test.csv\n"
     ]
    }
   ],
   "source": [
    "# This Python 3 environment comes with many helpful analytics libraries installed\n",
    "# It is defined by the kaggle/python Docker image: https://github.com/kaggle/docker-python\n",
    "# For example, here's several helpful packages to load\n",
    "\n",
    "import numpy as np # linear algebra\n",
    "import pandas as pd # data processing, CSV file I/O (e.g. pd.read_csv)\n",
    "\n",
    "# Input data files are available in the read-only \"../input/\" directory\n",
    "# For example, running this (by clicking run or pressing Shift+Enter) will list all files under the input directory\n",
    "\n",
    "import os\n",
    "for dirname, _, filenames in os.walk('/kaggle/input'):\n",
    "    for filename in filenames:\n",
    "        print(os.path.join(dirname, filename))\n",
    "\n",
    "# You can write up to 5GB to the current directory (/kaggle/working/) that gets preserved as output when you create a version using \"Save & Run All\" \n",
    "# You can also write temporary files to /kaggle/temp/, but they won't be saved outside of the current session"
   ]
  },
  {
   "cell_type": "code",
   "execution_count": 2,
   "metadata": {
    "_cell_guid": "79c7e3d0-c299-4dcb-8224-4455121ee9b0",
    "_uuid": "d629ff2d2480ee46fbb7e2d37f6b5fab8052498a",
    "execution": {
     "iopub.execute_input": "2020-12-07T00:27:52.393777Z",
     "iopub.status.busy": "2020-12-07T00:27:52.389237Z",
     "iopub.status.idle": "2020-12-07T00:27:54.501942Z",
     "shell.execute_reply": "2020-12-07T00:27:54.500745Z"
    },
    "papermill": {
     "duration": 2.180105,
     "end_time": "2020-12-07T00:27:54.502128",
     "exception": false,
     "start_time": "2020-12-07T00:27:52.322023",
     "status": "completed"
    },
    "tags": []
   },
   "outputs": [],
   "source": [
    "#Data analysis and wrangling\n",
    "import pandas as pd\n",
    "import numpy as np\n",
    "\n",
    "#Data Visualization\n",
    "import matplotlib.pyplot as plt\n",
    "import seaborn as sns\n",
    "%matplotlib inline\n",
    "\n",
    "from scipy import stats\n",
    "from scipy.stats import  norm\n",
    "from sklearn.preprocessing import StandardScaler\n",
    "import warnings\n",
    "warnings.filterwarnings('ignore')\n",
    "\n",
    "from sklearn.metrics import r2_score\n",
    "from sklearn.linear_model import ElasticNetCV, ElasticNet\n",
    "from xgboost import XGBRegressor, plot_importance \n",
    "from sklearn.model_selection import RandomizedSearchCV\n",
    "from sklearn.model_selection import StratifiedKFold\n",
    "pd.set_option('display.float_format', lambda x: '{:.3f}'.format(x))\n"
   ]
  },
  {
   "cell_type": "code",
   "execution_count": 3,
   "metadata": {
    "execution": {
     "iopub.execute_input": "2020-12-07T00:27:54.637854Z",
     "iopub.status.busy": "2020-12-07T00:27:54.637045Z",
     "iopub.status.idle": "2020-12-07T00:27:54.735890Z",
     "shell.execute_reply": "2020-12-07T00:27:54.735212Z"
    },
    "papermill": {
     "duration": 0.169716,
     "end_time": "2020-12-07T00:27:54.736037",
     "exception": false,
     "start_time": "2020-12-07T00:27:54.566321",
     "status": "completed"
    },
    "tags": []
   },
   "outputs": [],
   "source": [
    "# Load in the train and test datasets\n",
    "train = pd.read_csv('../input/house-prices-advanced-regression-techniques/train.csv')\n",
    "test = pd.read_csv('../input/house-prices-advanced-regression-techniques/test.csv')"
   ]
  },
  {
   "cell_type": "code",
   "execution_count": 4,
   "metadata": {
    "execution": {
     "iopub.execute_input": "2020-12-07T00:27:54.882427Z",
     "iopub.status.busy": "2020-12-07T00:27:54.881601Z",
     "iopub.status.idle": "2020-12-07T00:27:54.898224Z",
     "shell.execute_reply": "2020-12-07T00:27:54.897587Z"
    },
    "papermill": {
     "duration": 0.104168,
     "end_time": "2020-12-07T00:27:54.898343",
     "exception": false,
     "start_time": "2020-12-07T00:27:54.794175",
     "status": "completed"
    },
    "tags": []
   },
   "outputs": [
    {
     "data": {
      "text/html": [
       "<div>\n",
       "<style scoped>\n",
       "    .dataframe tbody tr th:only-of-type {\n",
       "        vertical-align: middle;\n",
       "    }\n",
       "\n",
       "    .dataframe tbody tr th {\n",
       "        vertical-align: top;\n",
       "    }\n",
       "\n",
       "    .dataframe thead th {\n",
       "        text-align: right;\n",
       "    }\n",
       "</style>\n",
       "<table border=\"1\" class=\"dataframe\">\n",
       "  <thead>\n",
       "    <tr style=\"text-align: right;\">\n",
       "      <th></th>\n",
       "      <th>Id</th>\n",
       "      <th>MSSubClass</th>\n",
       "      <th>MSZoning</th>\n",
       "      <th>LotFrontage</th>\n",
       "      <th>LotArea</th>\n",
       "      <th>Street</th>\n",
       "      <th>Alley</th>\n",
       "      <th>LotShape</th>\n",
       "      <th>LandContour</th>\n",
       "      <th>Utilities</th>\n",
       "      <th>...</th>\n",
       "      <th>PoolArea</th>\n",
       "      <th>PoolQC</th>\n",
       "      <th>Fence</th>\n",
       "      <th>MiscFeature</th>\n",
       "      <th>MiscVal</th>\n",
       "      <th>MoSold</th>\n",
       "      <th>YrSold</th>\n",
       "      <th>SaleType</th>\n",
       "      <th>SaleCondition</th>\n",
       "      <th>SalePrice</th>\n",
       "    </tr>\n",
       "  </thead>\n",
       "  <tbody>\n",
       "    <tr>\n",
       "      <th>0</th>\n",
       "      <td>1</td>\n",
       "      <td>60</td>\n",
       "      <td>RL</td>\n",
       "      <td>65.000</td>\n",
       "      <td>8450</td>\n",
       "      <td>Pave</td>\n",
       "      <td>NaN</td>\n",
       "      <td>Reg</td>\n",
       "      <td>Lvl</td>\n",
       "      <td>AllPub</td>\n",
       "      <td>...</td>\n",
       "      <td>0</td>\n",
       "      <td>NaN</td>\n",
       "      <td>NaN</td>\n",
       "      <td>NaN</td>\n",
       "      <td>0</td>\n",
       "      <td>2</td>\n",
       "      <td>2008</td>\n",
       "      <td>WD</td>\n",
       "      <td>Normal</td>\n",
       "      <td>208500</td>\n",
       "    </tr>\n",
       "    <tr>\n",
       "      <th>1</th>\n",
       "      <td>2</td>\n",
       "      <td>20</td>\n",
       "      <td>RL</td>\n",
       "      <td>80.000</td>\n",
       "      <td>9600</td>\n",
       "      <td>Pave</td>\n",
       "      <td>NaN</td>\n",
       "      <td>Reg</td>\n",
       "      <td>Lvl</td>\n",
       "      <td>AllPub</td>\n",
       "      <td>...</td>\n",
       "      <td>0</td>\n",
       "      <td>NaN</td>\n",
       "      <td>NaN</td>\n",
       "      <td>NaN</td>\n",
       "      <td>0</td>\n",
       "      <td>5</td>\n",
       "      <td>2007</td>\n",
       "      <td>WD</td>\n",
       "      <td>Normal</td>\n",
       "      <td>181500</td>\n",
       "    </tr>\n",
       "    <tr>\n",
       "      <th>2</th>\n",
       "      <td>3</td>\n",
       "      <td>60</td>\n",
       "      <td>RL</td>\n",
       "      <td>68.000</td>\n",
       "      <td>11250</td>\n",
       "      <td>Pave</td>\n",
       "      <td>NaN</td>\n",
       "      <td>IR1</td>\n",
       "      <td>Lvl</td>\n",
       "      <td>AllPub</td>\n",
       "      <td>...</td>\n",
       "      <td>0</td>\n",
       "      <td>NaN</td>\n",
       "      <td>NaN</td>\n",
       "      <td>NaN</td>\n",
       "      <td>0</td>\n",
       "      <td>9</td>\n",
       "      <td>2008</td>\n",
       "      <td>WD</td>\n",
       "      <td>Normal</td>\n",
       "      <td>223500</td>\n",
       "    </tr>\n",
       "    <tr>\n",
       "      <th>3</th>\n",
       "      <td>4</td>\n",
       "      <td>70</td>\n",
       "      <td>RL</td>\n",
       "      <td>60.000</td>\n",
       "      <td>9550</td>\n",
       "      <td>Pave</td>\n",
       "      <td>NaN</td>\n",
       "      <td>IR1</td>\n",
       "      <td>Lvl</td>\n",
       "      <td>AllPub</td>\n",
       "      <td>...</td>\n",
       "      <td>0</td>\n",
       "      <td>NaN</td>\n",
       "      <td>NaN</td>\n",
       "      <td>NaN</td>\n",
       "      <td>0</td>\n",
       "      <td>2</td>\n",
       "      <td>2006</td>\n",
       "      <td>WD</td>\n",
       "      <td>Abnorml</td>\n",
       "      <td>140000</td>\n",
       "    </tr>\n",
       "    <tr>\n",
       "      <th>4</th>\n",
       "      <td>5</td>\n",
       "      <td>60</td>\n",
       "      <td>RL</td>\n",
       "      <td>84.000</td>\n",
       "      <td>14260</td>\n",
       "      <td>Pave</td>\n",
       "      <td>NaN</td>\n",
       "      <td>IR1</td>\n",
       "      <td>Lvl</td>\n",
       "      <td>AllPub</td>\n",
       "      <td>...</td>\n",
       "      <td>0</td>\n",
       "      <td>NaN</td>\n",
       "      <td>NaN</td>\n",
       "      <td>NaN</td>\n",
       "      <td>0</td>\n",
       "      <td>12</td>\n",
       "      <td>2008</td>\n",
       "      <td>WD</td>\n",
       "      <td>Normal</td>\n",
       "      <td>250000</td>\n",
       "    </tr>\n",
       "  </tbody>\n",
       "</table>\n",
       "<p>5 rows × 81 columns</p>\n",
       "</div>"
      ],
      "text/plain": [
       "   Id  MSSubClass MSZoning  LotFrontage  LotArea Street Alley LotShape  \\\n",
       "0   1          60       RL       65.000     8450   Pave   NaN      Reg   \n",
       "1   2          20       RL       80.000     9600   Pave   NaN      Reg   \n",
       "2   3          60       RL       68.000    11250   Pave   NaN      IR1   \n",
       "3   4          70       RL       60.000     9550   Pave   NaN      IR1   \n",
       "4   5          60       RL       84.000    14260   Pave   NaN      IR1   \n",
       "\n",
       "  LandContour Utilities  ... PoolArea PoolQC Fence MiscFeature MiscVal MoSold  \\\n",
       "0         Lvl    AllPub  ...        0    NaN   NaN         NaN       0      2   \n",
       "1         Lvl    AllPub  ...        0    NaN   NaN         NaN       0      5   \n",
       "2         Lvl    AllPub  ...        0    NaN   NaN         NaN       0      9   \n",
       "3         Lvl    AllPub  ...        0    NaN   NaN         NaN       0      2   \n",
       "4         Lvl    AllPub  ...        0    NaN   NaN         NaN       0     12   \n",
       "\n",
       "  YrSold  SaleType  SaleCondition  SalePrice  \n",
       "0   2008        WD         Normal     208500  \n",
       "1   2007        WD         Normal     181500  \n",
       "2   2008        WD         Normal     223500  \n",
       "3   2006        WD        Abnorml     140000  \n",
       "4   2008        WD         Normal     250000  \n",
       "\n",
       "[5 rows x 81 columns]"
      ]
     },
     "execution_count": 4,
     "metadata": {},
     "output_type": "execute_result"
    }
   ],
   "source": [
    "#View first five rows of train and test; => See some NaN under PoolQC, Fence, MiscFeature\n",
    "train.head(5)"
   ]
  },
  {
   "cell_type": "code",
   "execution_count": 5,
   "metadata": {
    "execution": {
     "iopub.execute_input": "2020-12-07T00:27:55.037377Z",
     "iopub.status.busy": "2020-12-07T00:27:55.026258Z",
     "iopub.status.idle": "2020-12-07T00:27:55.051000Z",
     "shell.execute_reply": "2020-12-07T00:27:55.050261Z"
    },
    "papermill": {
     "duration": 0.093074,
     "end_time": "2020-12-07T00:27:55.051119",
     "exception": false,
     "start_time": "2020-12-07T00:27:54.958045",
     "status": "completed"
    },
    "tags": []
   },
   "outputs": [
    {
     "data": {
      "text/html": [
       "<div>\n",
       "<style scoped>\n",
       "    .dataframe tbody tr th:only-of-type {\n",
       "        vertical-align: middle;\n",
       "    }\n",
       "\n",
       "    .dataframe tbody tr th {\n",
       "        vertical-align: top;\n",
       "    }\n",
       "\n",
       "    .dataframe thead th {\n",
       "        text-align: right;\n",
       "    }\n",
       "</style>\n",
       "<table border=\"1\" class=\"dataframe\">\n",
       "  <thead>\n",
       "    <tr style=\"text-align: right;\">\n",
       "      <th></th>\n",
       "      <th>Id</th>\n",
       "      <th>MSSubClass</th>\n",
       "      <th>MSZoning</th>\n",
       "      <th>LotFrontage</th>\n",
       "      <th>LotArea</th>\n",
       "      <th>Street</th>\n",
       "      <th>Alley</th>\n",
       "      <th>LotShape</th>\n",
       "      <th>LandContour</th>\n",
       "      <th>Utilities</th>\n",
       "      <th>...</th>\n",
       "      <th>ScreenPorch</th>\n",
       "      <th>PoolArea</th>\n",
       "      <th>PoolQC</th>\n",
       "      <th>Fence</th>\n",
       "      <th>MiscFeature</th>\n",
       "      <th>MiscVal</th>\n",
       "      <th>MoSold</th>\n",
       "      <th>YrSold</th>\n",
       "      <th>SaleType</th>\n",
       "      <th>SaleCondition</th>\n",
       "    </tr>\n",
       "  </thead>\n",
       "  <tbody>\n",
       "    <tr>\n",
       "      <th>0</th>\n",
       "      <td>1461</td>\n",
       "      <td>20</td>\n",
       "      <td>RH</td>\n",
       "      <td>80.000</td>\n",
       "      <td>11622</td>\n",
       "      <td>Pave</td>\n",
       "      <td>NaN</td>\n",
       "      <td>Reg</td>\n",
       "      <td>Lvl</td>\n",
       "      <td>AllPub</td>\n",
       "      <td>...</td>\n",
       "      <td>120</td>\n",
       "      <td>0</td>\n",
       "      <td>NaN</td>\n",
       "      <td>MnPrv</td>\n",
       "      <td>NaN</td>\n",
       "      <td>0</td>\n",
       "      <td>6</td>\n",
       "      <td>2010</td>\n",
       "      <td>WD</td>\n",
       "      <td>Normal</td>\n",
       "    </tr>\n",
       "    <tr>\n",
       "      <th>1</th>\n",
       "      <td>1462</td>\n",
       "      <td>20</td>\n",
       "      <td>RL</td>\n",
       "      <td>81.000</td>\n",
       "      <td>14267</td>\n",
       "      <td>Pave</td>\n",
       "      <td>NaN</td>\n",
       "      <td>IR1</td>\n",
       "      <td>Lvl</td>\n",
       "      <td>AllPub</td>\n",
       "      <td>...</td>\n",
       "      <td>0</td>\n",
       "      <td>0</td>\n",
       "      <td>NaN</td>\n",
       "      <td>NaN</td>\n",
       "      <td>Gar2</td>\n",
       "      <td>12500</td>\n",
       "      <td>6</td>\n",
       "      <td>2010</td>\n",
       "      <td>WD</td>\n",
       "      <td>Normal</td>\n",
       "    </tr>\n",
       "    <tr>\n",
       "      <th>2</th>\n",
       "      <td>1463</td>\n",
       "      <td>60</td>\n",
       "      <td>RL</td>\n",
       "      <td>74.000</td>\n",
       "      <td>13830</td>\n",
       "      <td>Pave</td>\n",
       "      <td>NaN</td>\n",
       "      <td>IR1</td>\n",
       "      <td>Lvl</td>\n",
       "      <td>AllPub</td>\n",
       "      <td>...</td>\n",
       "      <td>0</td>\n",
       "      <td>0</td>\n",
       "      <td>NaN</td>\n",
       "      <td>MnPrv</td>\n",
       "      <td>NaN</td>\n",
       "      <td>0</td>\n",
       "      <td>3</td>\n",
       "      <td>2010</td>\n",
       "      <td>WD</td>\n",
       "      <td>Normal</td>\n",
       "    </tr>\n",
       "    <tr>\n",
       "      <th>3</th>\n",
       "      <td>1464</td>\n",
       "      <td>60</td>\n",
       "      <td>RL</td>\n",
       "      <td>78.000</td>\n",
       "      <td>9978</td>\n",
       "      <td>Pave</td>\n",
       "      <td>NaN</td>\n",
       "      <td>IR1</td>\n",
       "      <td>Lvl</td>\n",
       "      <td>AllPub</td>\n",
       "      <td>...</td>\n",
       "      <td>0</td>\n",
       "      <td>0</td>\n",
       "      <td>NaN</td>\n",
       "      <td>NaN</td>\n",
       "      <td>NaN</td>\n",
       "      <td>0</td>\n",
       "      <td>6</td>\n",
       "      <td>2010</td>\n",
       "      <td>WD</td>\n",
       "      <td>Normal</td>\n",
       "    </tr>\n",
       "    <tr>\n",
       "      <th>4</th>\n",
       "      <td>1465</td>\n",
       "      <td>120</td>\n",
       "      <td>RL</td>\n",
       "      <td>43.000</td>\n",
       "      <td>5005</td>\n",
       "      <td>Pave</td>\n",
       "      <td>NaN</td>\n",
       "      <td>IR1</td>\n",
       "      <td>HLS</td>\n",
       "      <td>AllPub</td>\n",
       "      <td>...</td>\n",
       "      <td>144</td>\n",
       "      <td>0</td>\n",
       "      <td>NaN</td>\n",
       "      <td>NaN</td>\n",
       "      <td>NaN</td>\n",
       "      <td>0</td>\n",
       "      <td>1</td>\n",
       "      <td>2010</td>\n",
       "      <td>WD</td>\n",
       "      <td>Normal</td>\n",
       "    </tr>\n",
       "  </tbody>\n",
       "</table>\n",
       "<p>5 rows × 80 columns</p>\n",
       "</div>"
      ],
      "text/plain": [
       "     Id  MSSubClass MSZoning  LotFrontage  LotArea Street Alley LotShape  \\\n",
       "0  1461          20       RH       80.000    11622   Pave   NaN      Reg   \n",
       "1  1462          20       RL       81.000    14267   Pave   NaN      IR1   \n",
       "2  1463          60       RL       74.000    13830   Pave   NaN      IR1   \n",
       "3  1464          60       RL       78.000     9978   Pave   NaN      IR1   \n",
       "4  1465         120       RL       43.000     5005   Pave   NaN      IR1   \n",
       "\n",
       "  LandContour Utilities  ... ScreenPorch PoolArea PoolQC  Fence MiscFeature  \\\n",
       "0         Lvl    AllPub  ...         120        0    NaN  MnPrv         NaN   \n",
       "1         Lvl    AllPub  ...           0        0    NaN    NaN        Gar2   \n",
       "2         Lvl    AllPub  ...           0        0    NaN  MnPrv         NaN   \n",
       "3         Lvl    AllPub  ...           0        0    NaN    NaN         NaN   \n",
       "4         HLS    AllPub  ...         144        0    NaN    NaN         NaN   \n",
       "\n",
       "  MiscVal MoSold  YrSold  SaleType  SaleCondition  \n",
       "0       0      6    2010        WD         Normal  \n",
       "1   12500      6    2010        WD         Normal  \n",
       "2       0      3    2010        WD         Normal  \n",
       "3       0      6    2010        WD         Normal  \n",
       "4       0      1    2010        WD         Normal  \n",
       "\n",
       "[5 rows x 80 columns]"
      ]
     },
     "execution_count": 5,
     "metadata": {},
     "output_type": "execute_result"
    }
   ],
   "source": [
    "#test 80 columns => See some NaN under PoolQC, Fence, MiscFeature\n",
    "test.head(5)"
   ]
  },
  {
   "cell_type": "code",
   "execution_count": 6,
   "metadata": {
    "execution": {
     "iopub.execute_input": "2020-12-07T00:27:55.177315Z",
     "iopub.status.busy": "2020-12-07T00:27:55.176248Z",
     "iopub.status.idle": "2020-12-07T00:27:55.180654Z",
     "shell.execute_reply": "2020-12-07T00:27:55.179988Z"
    },
    "papermill": {
     "duration": 0.070452,
     "end_time": "2020-12-07T00:27:55.180791",
     "exception": false,
     "start_time": "2020-12-07T00:27:55.110339",
     "status": "completed"
    },
    "tags": []
   },
   "outputs": [
    {
     "data": {
      "text/plain": [
       "((1460, 81), (1459, 80))"
      ]
     },
     "execution_count": 6,
     "metadata": {},
     "output_type": "execute_result"
    }
   ],
   "source": [
    "#Dataset dimensions \n",
    "train.shape,test.shape"
   ]
  },
  {
   "cell_type": "code",
   "execution_count": 7,
   "metadata": {
    "execution": {
     "iopub.execute_input": "2020-12-07T00:27:55.324290Z",
     "iopub.status.busy": "2020-12-07T00:27:55.322486Z",
     "iopub.status.idle": "2020-12-07T00:27:55.343932Z",
     "shell.execute_reply": "2020-12-07T00:27:55.344509Z"
    },
    "papermill": {
     "duration": 0.096819,
     "end_time": "2020-12-07T00:27:55.344671",
     "exception": false,
     "start_time": "2020-12-07T00:27:55.247852",
     "status": "completed"
    },
    "tags": []
   },
   "outputs": [
    {
     "name": "stdout",
     "output_type": "stream",
     "text": [
      "<class 'pandas.core.frame.DataFrame'>\n",
      "RangeIndex: 1460 entries, 0 to 1459\n",
      "Data columns (total 81 columns):\n",
      " #   Column         Non-Null Count  Dtype  \n",
      "---  ------         --------------  -----  \n",
      " 0   Id             1460 non-null   int64  \n",
      " 1   MSSubClass     1460 non-null   int64  \n",
      " 2   MSZoning       1460 non-null   object \n",
      " 3   LotFrontage    1201 non-null   float64\n",
      " 4   LotArea        1460 non-null   int64  \n",
      " 5   Street         1460 non-null   object \n",
      " 6   Alley          91 non-null     object \n",
      " 7   LotShape       1460 non-null   object \n",
      " 8   LandContour    1460 non-null   object \n",
      " 9   Utilities      1460 non-null   object \n",
      " 10  LotConfig      1460 non-null   object \n",
      " 11  LandSlope      1460 non-null   object \n",
      " 12  Neighborhood   1460 non-null   object \n",
      " 13  Condition1     1460 non-null   object \n",
      " 14  Condition2     1460 non-null   object \n",
      " 15  BldgType       1460 non-null   object \n",
      " 16  HouseStyle     1460 non-null   object \n",
      " 17  OverallQual    1460 non-null   int64  \n",
      " 18  OverallCond    1460 non-null   int64  \n",
      " 19  YearBuilt      1460 non-null   int64  \n",
      " 20  YearRemodAdd   1460 non-null   int64  \n",
      " 21  RoofStyle      1460 non-null   object \n",
      " 22  RoofMatl       1460 non-null   object \n",
      " 23  Exterior1st    1460 non-null   object \n",
      " 24  Exterior2nd    1460 non-null   object \n",
      " 25  MasVnrType     1452 non-null   object \n",
      " 26  MasVnrArea     1452 non-null   float64\n",
      " 27  ExterQual      1460 non-null   object \n",
      " 28  ExterCond      1460 non-null   object \n",
      " 29  Foundation     1460 non-null   object \n",
      " 30  BsmtQual       1423 non-null   object \n",
      " 31  BsmtCond       1423 non-null   object \n",
      " 32  BsmtExposure   1422 non-null   object \n",
      " 33  BsmtFinType1   1423 non-null   object \n",
      " 34  BsmtFinSF1     1460 non-null   int64  \n",
      " 35  BsmtFinType2   1422 non-null   object \n",
      " 36  BsmtFinSF2     1460 non-null   int64  \n",
      " 37  BsmtUnfSF      1460 non-null   int64  \n",
      " 38  TotalBsmtSF    1460 non-null   int64  \n",
      " 39  Heating        1460 non-null   object \n",
      " 40  HeatingQC      1460 non-null   object \n",
      " 41  CentralAir     1460 non-null   object \n",
      " 42  Electrical     1459 non-null   object \n",
      " 43  1stFlrSF       1460 non-null   int64  \n",
      " 44  2ndFlrSF       1460 non-null   int64  \n",
      " 45  LowQualFinSF   1460 non-null   int64  \n",
      " 46  GrLivArea      1460 non-null   int64  \n",
      " 47  BsmtFullBath   1460 non-null   int64  \n",
      " 48  BsmtHalfBath   1460 non-null   int64  \n",
      " 49  FullBath       1460 non-null   int64  \n",
      " 50  HalfBath       1460 non-null   int64  \n",
      " 51  BedroomAbvGr   1460 non-null   int64  \n",
      " 52  KitchenAbvGr   1460 non-null   int64  \n",
      " 53  KitchenQual    1460 non-null   object \n",
      " 54  TotRmsAbvGrd   1460 non-null   int64  \n",
      " 55  Functional     1460 non-null   object \n",
      " 56  Fireplaces     1460 non-null   int64  \n",
      " 57  FireplaceQu    770 non-null    object \n",
      " 58  GarageType     1379 non-null   object \n",
      " 59  GarageYrBlt    1379 non-null   float64\n",
      " 60  GarageFinish   1379 non-null   object \n",
      " 61  GarageCars     1460 non-null   int64  \n",
      " 62  GarageArea     1460 non-null   int64  \n",
      " 63  GarageQual     1379 non-null   object \n",
      " 64  GarageCond     1379 non-null   object \n",
      " 65  PavedDrive     1460 non-null   object \n",
      " 66  WoodDeckSF     1460 non-null   int64  \n",
      " 67  OpenPorchSF    1460 non-null   int64  \n",
      " 68  EnclosedPorch  1460 non-null   int64  \n",
      " 69  3SsnPorch      1460 non-null   int64  \n",
      " 70  ScreenPorch    1460 non-null   int64  \n",
      " 71  PoolArea       1460 non-null   int64  \n",
      " 72  PoolQC         7 non-null      object \n",
      " 73  Fence          281 non-null    object \n",
      " 74  MiscFeature    54 non-null     object \n",
      " 75  MiscVal        1460 non-null   int64  \n",
      " 76  MoSold         1460 non-null   int64  \n",
      " 77  YrSold         1460 non-null   int64  \n",
      " 78  SaleType       1460 non-null   object \n",
      " 79  SaleCondition  1460 non-null   object \n",
      " 80  SalePrice      1460 non-null   int64  \n",
      "dtypes: float64(3), int64(35), object(43)\n",
      "memory usage: 924.0+ KB\n"
     ]
    }
   ],
   "source": [
    "#Data types\n",
    "train.info()"
   ]
  },
  {
   "cell_type": "code",
   "execution_count": 8,
   "metadata": {
    "execution": {
     "iopub.execute_input": "2020-12-07T00:27:55.482047Z",
     "iopub.status.busy": "2020-12-07T00:27:55.481019Z",
     "iopub.status.idle": "2020-12-07T00:27:55.499541Z",
     "shell.execute_reply": "2020-12-07T00:27:55.498800Z"
    },
    "papermill": {
     "duration": 0.09272,
     "end_time": "2020-12-07T00:27:55.499661",
     "exception": false,
     "start_time": "2020-12-07T00:27:55.406941",
     "status": "completed"
    },
    "tags": []
   },
   "outputs": [
    {
     "name": "stdout",
     "output_type": "stream",
     "text": [
      "<class 'pandas.core.frame.DataFrame'>\n",
      "RangeIndex: 1459 entries, 0 to 1458\n",
      "Data columns (total 80 columns):\n",
      " #   Column         Non-Null Count  Dtype  \n",
      "---  ------         --------------  -----  \n",
      " 0   Id             1459 non-null   int64  \n",
      " 1   MSSubClass     1459 non-null   int64  \n",
      " 2   MSZoning       1455 non-null   object \n",
      " 3   LotFrontage    1232 non-null   float64\n",
      " 4   LotArea        1459 non-null   int64  \n",
      " 5   Street         1459 non-null   object \n",
      " 6   Alley          107 non-null    object \n",
      " 7   LotShape       1459 non-null   object \n",
      " 8   LandContour    1459 non-null   object \n",
      " 9   Utilities      1457 non-null   object \n",
      " 10  LotConfig      1459 non-null   object \n",
      " 11  LandSlope      1459 non-null   object \n",
      " 12  Neighborhood   1459 non-null   object \n",
      " 13  Condition1     1459 non-null   object \n",
      " 14  Condition2     1459 non-null   object \n",
      " 15  BldgType       1459 non-null   object \n",
      " 16  HouseStyle     1459 non-null   object \n",
      " 17  OverallQual    1459 non-null   int64  \n",
      " 18  OverallCond    1459 non-null   int64  \n",
      " 19  YearBuilt      1459 non-null   int64  \n",
      " 20  YearRemodAdd   1459 non-null   int64  \n",
      " 21  RoofStyle      1459 non-null   object \n",
      " 22  RoofMatl       1459 non-null   object \n",
      " 23  Exterior1st    1458 non-null   object \n",
      " 24  Exterior2nd    1458 non-null   object \n",
      " 25  MasVnrType     1443 non-null   object \n",
      " 26  MasVnrArea     1444 non-null   float64\n",
      " 27  ExterQual      1459 non-null   object \n",
      " 28  ExterCond      1459 non-null   object \n",
      " 29  Foundation     1459 non-null   object \n",
      " 30  BsmtQual       1415 non-null   object \n",
      " 31  BsmtCond       1414 non-null   object \n",
      " 32  BsmtExposure   1415 non-null   object \n",
      " 33  BsmtFinType1   1417 non-null   object \n",
      " 34  BsmtFinSF1     1458 non-null   float64\n",
      " 35  BsmtFinType2   1417 non-null   object \n",
      " 36  BsmtFinSF2     1458 non-null   float64\n",
      " 37  BsmtUnfSF      1458 non-null   float64\n",
      " 38  TotalBsmtSF    1458 non-null   float64\n",
      " 39  Heating        1459 non-null   object \n",
      " 40  HeatingQC      1459 non-null   object \n",
      " 41  CentralAir     1459 non-null   object \n",
      " 42  Electrical     1459 non-null   object \n",
      " 43  1stFlrSF       1459 non-null   int64  \n",
      " 44  2ndFlrSF       1459 non-null   int64  \n",
      " 45  LowQualFinSF   1459 non-null   int64  \n",
      " 46  GrLivArea      1459 non-null   int64  \n",
      " 47  BsmtFullBath   1457 non-null   float64\n",
      " 48  BsmtHalfBath   1457 non-null   float64\n",
      " 49  FullBath       1459 non-null   int64  \n",
      " 50  HalfBath       1459 non-null   int64  \n",
      " 51  BedroomAbvGr   1459 non-null   int64  \n",
      " 52  KitchenAbvGr   1459 non-null   int64  \n",
      " 53  KitchenQual    1458 non-null   object \n",
      " 54  TotRmsAbvGrd   1459 non-null   int64  \n",
      " 55  Functional     1457 non-null   object \n",
      " 56  Fireplaces     1459 non-null   int64  \n",
      " 57  FireplaceQu    729 non-null    object \n",
      " 58  GarageType     1383 non-null   object \n",
      " 59  GarageYrBlt    1381 non-null   float64\n",
      " 60  GarageFinish   1381 non-null   object \n",
      " 61  GarageCars     1458 non-null   float64\n",
      " 62  GarageArea     1458 non-null   float64\n",
      " 63  GarageQual     1381 non-null   object \n",
      " 64  GarageCond     1381 non-null   object \n",
      " 65  PavedDrive     1459 non-null   object \n",
      " 66  WoodDeckSF     1459 non-null   int64  \n",
      " 67  OpenPorchSF    1459 non-null   int64  \n",
      " 68  EnclosedPorch  1459 non-null   int64  \n",
      " 69  3SsnPorch      1459 non-null   int64  \n",
      " 70  ScreenPorch    1459 non-null   int64  \n",
      " 71  PoolArea       1459 non-null   int64  \n",
      " 72  PoolQC         3 non-null      object \n",
      " 73  Fence          290 non-null    object \n",
      " 74  MiscFeature    51 non-null     object \n",
      " 75  MiscVal        1459 non-null   int64  \n",
      " 76  MoSold         1459 non-null   int64  \n",
      " 77  YrSold         1459 non-null   int64  \n",
      " 78  SaleType       1458 non-null   object \n",
      " 79  SaleCondition  1459 non-null   object \n",
      "dtypes: float64(11), int64(26), object(43)\n",
      "memory usage: 912.0+ KB\n"
     ]
    }
   ],
   "source": [
    "test.info()"
   ]
  },
  {
   "cell_type": "code",
   "execution_count": 9,
   "metadata": {
    "execution": {
     "iopub.execute_input": "2020-12-07T00:27:55.633955Z",
     "iopub.status.busy": "2020-12-07T00:27:55.633187Z",
     "iopub.status.idle": "2020-12-07T00:27:55.641098Z",
     "shell.execute_reply": "2020-12-07T00:27:55.640349Z"
    },
    "papermill": {
     "duration": 0.080375,
     "end_time": "2020-12-07T00:27:55.641220",
     "exception": false,
     "start_time": "2020-12-07T00:27:55.560845",
     "status": "completed"
    },
    "tags": []
   },
   "outputs": [
    {
     "data": {
      "text/plain": [
       "Id                 0\n",
       "MSSubClass         0\n",
       "MSZoning           0\n",
       "LotFrontage      259\n",
       "LotArea            0\n",
       "                ... \n",
       "MoSold             0\n",
       "YrSold             0\n",
       "SaleType           0\n",
       "SaleCondition      0\n",
       "SalePrice          0\n",
       "Length: 81, dtype: int64"
      ]
     },
     "execution_count": 9,
     "metadata": {},
     "output_type": "execute_result"
    }
   ],
   "source": [
    "#count null for train and test =>LotFrontage missing 259\n",
    "train.isnull().sum()"
   ]
  },
  {
   "cell_type": "code",
   "execution_count": 10,
   "metadata": {
    "execution": {
     "iopub.execute_input": "2020-12-07T00:27:55.780780Z",
     "iopub.status.busy": "2020-12-07T00:27:55.779617Z",
     "iopub.status.idle": "2020-12-07T00:27:55.787368Z",
     "shell.execute_reply": "2020-12-07T00:27:55.787908Z"
    },
    "papermill": {
     "duration": 0.08399,
     "end_time": "2020-12-07T00:27:55.788072",
     "exception": false,
     "start_time": "2020-12-07T00:27:55.704082",
     "status": "completed"
    },
    "tags": []
   },
   "outputs": [
    {
     "data": {
      "text/plain": [
       "Id                 0\n",
       "MSSubClass         0\n",
       "MSZoning           4\n",
       "LotFrontage      227\n",
       "LotArea            0\n",
       "                ... \n",
       "MiscVal            0\n",
       "MoSold             0\n",
       "YrSold             0\n",
       "SaleType           1\n",
       "SaleCondition      0\n",
       "Length: 80, dtype: int64"
      ]
     },
     "execution_count": 10,
     "metadata": {},
     "output_type": "execute_result"
    }
   ],
   "source": [
    "#=>LotFrontage missing 227\n",
    "test.isnull().sum()"
   ]
  },
  {
   "cell_type": "code",
   "execution_count": 11,
   "metadata": {
    "execution": {
     "iopub.execute_input": "2020-12-07T00:27:55.926405Z",
     "iopub.status.busy": "2020-12-07T00:27:55.925589Z",
     "iopub.status.idle": "2020-12-07T00:27:55.974242Z",
     "shell.execute_reply": "2020-12-07T00:27:55.973477Z"
    },
    "papermill": {
     "duration": 0.1238,
     "end_time": "2020-12-07T00:27:55.974374",
     "exception": false,
     "start_time": "2020-12-07T00:27:55.850574",
     "status": "completed"
    },
    "tags": []
   },
   "outputs": [
    {
     "data": {
      "text/html": [
       "<div>\n",
       "<style scoped>\n",
       "    .dataframe tbody tr th:only-of-type {\n",
       "        vertical-align: middle;\n",
       "    }\n",
       "\n",
       "    .dataframe tbody tr th {\n",
       "        vertical-align: top;\n",
       "    }\n",
       "\n",
       "    .dataframe thead th {\n",
       "        text-align: right;\n",
       "    }\n",
       "</style>\n",
       "<table border=\"1\" class=\"dataframe\">\n",
       "  <thead>\n",
       "    <tr style=\"text-align: right;\">\n",
       "      <th></th>\n",
       "      <th>Id</th>\n",
       "      <th>MSSubClass</th>\n",
       "      <th>MSZoning</th>\n",
       "      <th>LotFrontage</th>\n",
       "      <th>LotArea</th>\n",
       "      <th>Street</th>\n",
       "      <th>Alley</th>\n",
       "      <th>LotShape</th>\n",
       "      <th>LandContour</th>\n",
       "      <th>Utilities</th>\n",
       "      <th>...</th>\n",
       "      <th>PoolArea</th>\n",
       "      <th>PoolQC</th>\n",
       "      <th>Fence</th>\n",
       "      <th>MiscFeature</th>\n",
       "      <th>MiscVal</th>\n",
       "      <th>MoSold</th>\n",
       "      <th>YrSold</th>\n",
       "      <th>SaleType</th>\n",
       "      <th>SaleCondition</th>\n",
       "      <th>SalePrice</th>\n",
       "    </tr>\n",
       "  </thead>\n",
       "  <tbody>\n",
       "    <tr>\n",
       "      <th>0</th>\n",
       "      <td>1</td>\n",
       "      <td>60</td>\n",
       "      <td>RL</td>\n",
       "      <td>65.000</td>\n",
       "      <td>8450</td>\n",
       "      <td>Pave</td>\n",
       "      <td>NaN</td>\n",
       "      <td>Reg</td>\n",
       "      <td>Lvl</td>\n",
       "      <td>AllPub</td>\n",
       "      <td>...</td>\n",
       "      <td>0</td>\n",
       "      <td>NaN</td>\n",
       "      <td>NaN</td>\n",
       "      <td>NaN</td>\n",
       "      <td>0</td>\n",
       "      <td>2</td>\n",
       "      <td>2008</td>\n",
       "      <td>WD</td>\n",
       "      <td>Normal</td>\n",
       "      <td>208500</td>\n",
       "    </tr>\n",
       "    <tr>\n",
       "      <th>1</th>\n",
       "      <td>2</td>\n",
       "      <td>20</td>\n",
       "      <td>RL</td>\n",
       "      <td>80.000</td>\n",
       "      <td>9600</td>\n",
       "      <td>Pave</td>\n",
       "      <td>NaN</td>\n",
       "      <td>Reg</td>\n",
       "      <td>Lvl</td>\n",
       "      <td>AllPub</td>\n",
       "      <td>...</td>\n",
       "      <td>0</td>\n",
       "      <td>NaN</td>\n",
       "      <td>NaN</td>\n",
       "      <td>NaN</td>\n",
       "      <td>0</td>\n",
       "      <td>5</td>\n",
       "      <td>2007</td>\n",
       "      <td>WD</td>\n",
       "      <td>Normal</td>\n",
       "      <td>181500</td>\n",
       "    </tr>\n",
       "    <tr>\n",
       "      <th>2</th>\n",
       "      <td>3</td>\n",
       "      <td>60</td>\n",
       "      <td>RL</td>\n",
       "      <td>68.000</td>\n",
       "      <td>11250</td>\n",
       "      <td>Pave</td>\n",
       "      <td>NaN</td>\n",
       "      <td>IR1</td>\n",
       "      <td>Lvl</td>\n",
       "      <td>AllPub</td>\n",
       "      <td>...</td>\n",
       "      <td>0</td>\n",
       "      <td>NaN</td>\n",
       "      <td>NaN</td>\n",
       "      <td>NaN</td>\n",
       "      <td>0</td>\n",
       "      <td>9</td>\n",
       "      <td>2008</td>\n",
       "      <td>WD</td>\n",
       "      <td>Normal</td>\n",
       "      <td>223500</td>\n",
       "    </tr>\n",
       "    <tr>\n",
       "      <th>3</th>\n",
       "      <td>4</td>\n",
       "      <td>70</td>\n",
       "      <td>RL</td>\n",
       "      <td>60.000</td>\n",
       "      <td>9550</td>\n",
       "      <td>Pave</td>\n",
       "      <td>NaN</td>\n",
       "      <td>IR1</td>\n",
       "      <td>Lvl</td>\n",
       "      <td>AllPub</td>\n",
       "      <td>...</td>\n",
       "      <td>0</td>\n",
       "      <td>NaN</td>\n",
       "      <td>NaN</td>\n",
       "      <td>NaN</td>\n",
       "      <td>0</td>\n",
       "      <td>2</td>\n",
       "      <td>2006</td>\n",
       "      <td>WD</td>\n",
       "      <td>Abnorml</td>\n",
       "      <td>140000</td>\n",
       "    </tr>\n",
       "    <tr>\n",
       "      <th>4</th>\n",
       "      <td>5</td>\n",
       "      <td>60</td>\n",
       "      <td>RL</td>\n",
       "      <td>84.000</td>\n",
       "      <td>14260</td>\n",
       "      <td>Pave</td>\n",
       "      <td>NaN</td>\n",
       "      <td>IR1</td>\n",
       "      <td>Lvl</td>\n",
       "      <td>AllPub</td>\n",
       "      <td>...</td>\n",
       "      <td>0</td>\n",
       "      <td>NaN</td>\n",
       "      <td>NaN</td>\n",
       "      <td>NaN</td>\n",
       "      <td>0</td>\n",
       "      <td>12</td>\n",
       "      <td>2008</td>\n",
       "      <td>WD</td>\n",
       "      <td>Normal</td>\n",
       "      <td>250000</td>\n",
       "    </tr>\n",
       "    <tr>\n",
       "      <th>...</th>\n",
       "      <td>...</td>\n",
       "      <td>...</td>\n",
       "      <td>...</td>\n",
       "      <td>...</td>\n",
       "      <td>...</td>\n",
       "      <td>...</td>\n",
       "      <td>...</td>\n",
       "      <td>...</td>\n",
       "      <td>...</td>\n",
       "      <td>...</td>\n",
       "      <td>...</td>\n",
       "      <td>...</td>\n",
       "      <td>...</td>\n",
       "      <td>...</td>\n",
       "      <td>...</td>\n",
       "      <td>...</td>\n",
       "      <td>...</td>\n",
       "      <td>...</td>\n",
       "      <td>...</td>\n",
       "      <td>...</td>\n",
       "      <td>...</td>\n",
       "    </tr>\n",
       "    <tr>\n",
       "      <th>1455</th>\n",
       "      <td>1456</td>\n",
       "      <td>60</td>\n",
       "      <td>RL</td>\n",
       "      <td>62.000</td>\n",
       "      <td>7917</td>\n",
       "      <td>Pave</td>\n",
       "      <td>NaN</td>\n",
       "      <td>Reg</td>\n",
       "      <td>Lvl</td>\n",
       "      <td>AllPub</td>\n",
       "      <td>...</td>\n",
       "      <td>0</td>\n",
       "      <td>NaN</td>\n",
       "      <td>NaN</td>\n",
       "      <td>NaN</td>\n",
       "      <td>0</td>\n",
       "      <td>8</td>\n",
       "      <td>2007</td>\n",
       "      <td>WD</td>\n",
       "      <td>Normal</td>\n",
       "      <td>175000</td>\n",
       "    </tr>\n",
       "    <tr>\n",
       "      <th>1456</th>\n",
       "      <td>1457</td>\n",
       "      <td>20</td>\n",
       "      <td>RL</td>\n",
       "      <td>85.000</td>\n",
       "      <td>13175</td>\n",
       "      <td>Pave</td>\n",
       "      <td>NaN</td>\n",
       "      <td>Reg</td>\n",
       "      <td>Lvl</td>\n",
       "      <td>AllPub</td>\n",
       "      <td>...</td>\n",
       "      <td>0</td>\n",
       "      <td>NaN</td>\n",
       "      <td>MnPrv</td>\n",
       "      <td>NaN</td>\n",
       "      <td>0</td>\n",
       "      <td>2</td>\n",
       "      <td>2010</td>\n",
       "      <td>WD</td>\n",
       "      <td>Normal</td>\n",
       "      <td>210000</td>\n",
       "    </tr>\n",
       "    <tr>\n",
       "      <th>1457</th>\n",
       "      <td>1458</td>\n",
       "      <td>70</td>\n",
       "      <td>RL</td>\n",
       "      <td>66.000</td>\n",
       "      <td>9042</td>\n",
       "      <td>Pave</td>\n",
       "      <td>NaN</td>\n",
       "      <td>Reg</td>\n",
       "      <td>Lvl</td>\n",
       "      <td>AllPub</td>\n",
       "      <td>...</td>\n",
       "      <td>0</td>\n",
       "      <td>NaN</td>\n",
       "      <td>GdPrv</td>\n",
       "      <td>Shed</td>\n",
       "      <td>2500</td>\n",
       "      <td>5</td>\n",
       "      <td>2010</td>\n",
       "      <td>WD</td>\n",
       "      <td>Normal</td>\n",
       "      <td>266500</td>\n",
       "    </tr>\n",
       "    <tr>\n",
       "      <th>1458</th>\n",
       "      <td>1459</td>\n",
       "      <td>20</td>\n",
       "      <td>RL</td>\n",
       "      <td>68.000</td>\n",
       "      <td>9717</td>\n",
       "      <td>Pave</td>\n",
       "      <td>NaN</td>\n",
       "      <td>Reg</td>\n",
       "      <td>Lvl</td>\n",
       "      <td>AllPub</td>\n",
       "      <td>...</td>\n",
       "      <td>0</td>\n",
       "      <td>NaN</td>\n",
       "      <td>NaN</td>\n",
       "      <td>NaN</td>\n",
       "      <td>0</td>\n",
       "      <td>4</td>\n",
       "      <td>2010</td>\n",
       "      <td>WD</td>\n",
       "      <td>Normal</td>\n",
       "      <td>142125</td>\n",
       "    </tr>\n",
       "    <tr>\n",
       "      <th>1459</th>\n",
       "      <td>1460</td>\n",
       "      <td>20</td>\n",
       "      <td>RL</td>\n",
       "      <td>75.000</td>\n",
       "      <td>9937</td>\n",
       "      <td>Pave</td>\n",
       "      <td>NaN</td>\n",
       "      <td>Reg</td>\n",
       "      <td>Lvl</td>\n",
       "      <td>AllPub</td>\n",
       "      <td>...</td>\n",
       "      <td>0</td>\n",
       "      <td>NaN</td>\n",
       "      <td>NaN</td>\n",
       "      <td>NaN</td>\n",
       "      <td>0</td>\n",
       "      <td>6</td>\n",
       "      <td>2008</td>\n",
       "      <td>WD</td>\n",
       "      <td>Normal</td>\n",
       "      <td>147500</td>\n",
       "    </tr>\n",
       "  </tbody>\n",
       "</table>\n",
       "<p>1460 rows × 81 columns</p>\n",
       "</div>"
      ],
      "text/plain": [
       "        Id  MSSubClass MSZoning  LotFrontage  LotArea Street Alley LotShape  \\\n",
       "0        1          60       RL       65.000     8450   Pave   NaN      Reg   \n",
       "1        2          20       RL       80.000     9600   Pave   NaN      Reg   \n",
       "2        3          60       RL       68.000    11250   Pave   NaN      IR1   \n",
       "3        4          70       RL       60.000     9550   Pave   NaN      IR1   \n",
       "4        5          60       RL       84.000    14260   Pave   NaN      IR1   \n",
       "...    ...         ...      ...          ...      ...    ...   ...      ...   \n",
       "1455  1456          60       RL       62.000     7917   Pave   NaN      Reg   \n",
       "1456  1457          20       RL       85.000    13175   Pave   NaN      Reg   \n",
       "1457  1458          70       RL       66.000     9042   Pave   NaN      Reg   \n",
       "1458  1459          20       RL       68.000     9717   Pave   NaN      Reg   \n",
       "1459  1460          20       RL       75.000     9937   Pave   NaN      Reg   \n",
       "\n",
       "     LandContour Utilities  ... PoolArea PoolQC  Fence MiscFeature MiscVal  \\\n",
       "0            Lvl    AllPub  ...        0    NaN    NaN         NaN       0   \n",
       "1            Lvl    AllPub  ...        0    NaN    NaN         NaN       0   \n",
       "2            Lvl    AllPub  ...        0    NaN    NaN         NaN       0   \n",
       "3            Lvl    AllPub  ...        0    NaN    NaN         NaN       0   \n",
       "4            Lvl    AllPub  ...        0    NaN    NaN         NaN       0   \n",
       "...          ...       ...  ...      ...    ...    ...         ...     ...   \n",
       "1455         Lvl    AllPub  ...        0    NaN    NaN         NaN       0   \n",
       "1456         Lvl    AllPub  ...        0    NaN  MnPrv         NaN       0   \n",
       "1457         Lvl    AllPub  ...        0    NaN  GdPrv        Shed    2500   \n",
       "1458         Lvl    AllPub  ...        0    NaN    NaN         NaN       0   \n",
       "1459         Lvl    AllPub  ...        0    NaN    NaN         NaN       0   \n",
       "\n",
       "     MoSold YrSold  SaleType  SaleCondition  SalePrice  \n",
       "0         2   2008        WD         Normal     208500  \n",
       "1         5   2007        WD         Normal     181500  \n",
       "2         9   2008        WD         Normal     223500  \n",
       "3         2   2006        WD        Abnorml     140000  \n",
       "4        12   2008        WD         Normal     250000  \n",
       "...     ...    ...       ...            ...        ...  \n",
       "1455      8   2007        WD         Normal     175000  \n",
       "1456      2   2010        WD         Normal     210000  \n",
       "1457      5   2010        WD         Normal     266500  \n",
       "1458      4   2010        WD         Normal     142125  \n",
       "1459      6   2008        WD         Normal     147500  \n",
       "\n",
       "[1460 rows x 81 columns]"
      ]
     },
     "execution_count": 11,
     "metadata": {},
     "output_type": "execute_result"
    }
   ],
   "source": [
    "#rows contain at least one missing data\n",
    "train[train.isnull().any(axis=1)]"
   ]
  },
  {
   "cell_type": "code",
   "execution_count": 12,
   "metadata": {
    "execution": {
     "iopub.execute_input": "2020-12-07T00:27:56.116439Z",
     "iopub.status.busy": "2020-12-07T00:27:56.114991Z",
     "iopub.status.idle": "2020-12-07T00:27:56.121595Z",
     "shell.execute_reply": "2020-12-07T00:27:56.120969Z"
    },
    "papermill": {
     "duration": 0.083234,
     "end_time": "2020-12-07T00:27:56.121740",
     "exception": false,
     "start_time": "2020-12-07T00:27:56.038506",
     "status": "completed"
    },
    "tags": []
   },
   "outputs": [
    {
     "data": {
      "text/plain": [
       "1460"
      ]
     },
     "execution_count": 12,
     "metadata": {},
     "output_type": "execute_result"
    }
   ],
   "source": [
    "#total number of rows with at least one missing data\n",
    "train.isnull().any(axis = 1).sum()"
   ]
  },
  {
   "cell_type": "code",
   "execution_count": 13,
   "metadata": {
    "execution": {
     "iopub.execute_input": "2020-12-07T00:27:56.266099Z",
     "iopub.status.busy": "2020-12-07T00:27:56.264965Z",
     "iopub.status.idle": "2020-12-07T00:27:56.271866Z",
     "shell.execute_reply": "2020-12-07T00:27:56.272429Z"
    },
    "papermill": {
     "duration": 0.086382,
     "end_time": "2020-12-07T00:27:56.272608",
     "exception": false,
     "start_time": "2020-12-07T00:27:56.186226",
     "status": "completed"
    },
    "tags": []
   },
   "outputs": [
    {
     "data": {
      "text/plain": [
       "Index(['LotFrontage', 'Alley', 'MasVnrType', 'MasVnrArea', 'BsmtQual',\n",
       "       'BsmtCond', 'BsmtExposure', 'BsmtFinType1', 'BsmtFinType2',\n",
       "       'Electrical', 'FireplaceQu', 'GarageType', 'GarageYrBlt',\n",
       "       'GarageFinish', 'GarageQual', 'GarageCond', 'PoolQC', 'Fence',\n",
       "       'MiscFeature'],\n",
       "      dtype='object')"
      ]
     },
     "execution_count": 13,
     "metadata": {},
     "output_type": "execute_result"
    }
   ],
   "source": [
    "#Columns/variables with missing data\n",
    "train.columns[train.isnull().any()]"
   ]
  },
  {
   "cell_type": "code",
   "execution_count": 14,
   "metadata": {
    "execution": {
     "iopub.execute_input": "2020-12-07T00:27:56.429928Z",
     "iopub.status.busy": "2020-12-07T00:27:56.418406Z",
     "iopub.status.idle": "2020-12-07T00:27:56.477217Z",
     "shell.execute_reply": "2020-12-07T00:27:56.476565Z"
    },
    "papermill": {
     "duration": 0.139704,
     "end_time": "2020-12-07T00:27:56.477343",
     "exception": false,
     "start_time": "2020-12-07T00:27:56.337639",
     "status": "completed"
    },
    "tags": []
   },
   "outputs": [
    {
     "name": "stdout",
     "output_type": "stream",
     "text": [
      "Your selected dataframe has 81 columns and 1460 Rows.\n",
      "There are 19 columns that have missing values.\n"
     ]
    },
    {
     "data": {
      "text/html": [
       "<div>\n",
       "<style scoped>\n",
       "    .dataframe tbody tr th:only-of-type {\n",
       "        vertical-align: middle;\n",
       "    }\n",
       "\n",
       "    .dataframe tbody tr th {\n",
       "        vertical-align: top;\n",
       "    }\n",
       "\n",
       "    .dataframe thead th {\n",
       "        text-align: right;\n",
       "    }\n",
       "</style>\n",
       "<table border=\"1\" class=\"dataframe\">\n",
       "  <thead>\n",
       "    <tr style=\"text-align: right;\">\n",
       "      <th></th>\n",
       "      <th>Zero Values</th>\n",
       "      <th>Missing Values</th>\n",
       "      <th>% of Total Values</th>\n",
       "      <th>Total Zero Missing Values</th>\n",
       "      <th>% Total Zero Missing Values</th>\n",
       "      <th>Data Type</th>\n",
       "    </tr>\n",
       "  </thead>\n",
       "  <tbody>\n",
       "    <tr>\n",
       "      <th>PoolQC</th>\n",
       "      <td>0</td>\n",
       "      <td>1453</td>\n",
       "      <td>99.500</td>\n",
       "      <td>1453</td>\n",
       "      <td>99.500</td>\n",
       "      <td>object</td>\n",
       "    </tr>\n",
       "    <tr>\n",
       "      <th>MiscFeature</th>\n",
       "      <td>0</td>\n",
       "      <td>1406</td>\n",
       "      <td>96.300</td>\n",
       "      <td>1406</td>\n",
       "      <td>96.300</td>\n",
       "      <td>object</td>\n",
       "    </tr>\n",
       "    <tr>\n",
       "      <th>Alley</th>\n",
       "      <td>0</td>\n",
       "      <td>1369</td>\n",
       "      <td>93.800</td>\n",
       "      <td>1369</td>\n",
       "      <td>93.800</td>\n",
       "      <td>object</td>\n",
       "    </tr>\n",
       "    <tr>\n",
       "      <th>Fence</th>\n",
       "      <td>0</td>\n",
       "      <td>1179</td>\n",
       "      <td>80.800</td>\n",
       "      <td>1179</td>\n",
       "      <td>80.800</td>\n",
       "      <td>object</td>\n",
       "    </tr>\n",
       "    <tr>\n",
       "      <th>FireplaceQu</th>\n",
       "      <td>0</td>\n",
       "      <td>690</td>\n",
       "      <td>47.300</td>\n",
       "      <td>690</td>\n",
       "      <td>47.300</td>\n",
       "      <td>object</td>\n",
       "    </tr>\n",
       "    <tr>\n",
       "      <th>LotFrontage</th>\n",
       "      <td>0</td>\n",
       "      <td>259</td>\n",
       "      <td>17.700</td>\n",
       "      <td>259</td>\n",
       "      <td>17.700</td>\n",
       "      <td>float64</td>\n",
       "    </tr>\n",
       "    <tr>\n",
       "      <th>GarageType</th>\n",
       "      <td>0</td>\n",
       "      <td>81</td>\n",
       "      <td>5.500</td>\n",
       "      <td>81</td>\n",
       "      <td>5.500</td>\n",
       "      <td>object</td>\n",
       "    </tr>\n",
       "    <tr>\n",
       "      <th>GarageYrBlt</th>\n",
       "      <td>0</td>\n",
       "      <td>81</td>\n",
       "      <td>5.500</td>\n",
       "      <td>81</td>\n",
       "      <td>5.500</td>\n",
       "      <td>float64</td>\n",
       "    </tr>\n",
       "    <tr>\n",
       "      <th>GarageFinish</th>\n",
       "      <td>0</td>\n",
       "      <td>81</td>\n",
       "      <td>5.500</td>\n",
       "      <td>81</td>\n",
       "      <td>5.500</td>\n",
       "      <td>object</td>\n",
       "    </tr>\n",
       "    <tr>\n",
       "      <th>GarageQual</th>\n",
       "      <td>0</td>\n",
       "      <td>81</td>\n",
       "      <td>5.500</td>\n",
       "      <td>81</td>\n",
       "      <td>5.500</td>\n",
       "      <td>object</td>\n",
       "    </tr>\n",
       "    <tr>\n",
       "      <th>GarageCond</th>\n",
       "      <td>0</td>\n",
       "      <td>81</td>\n",
       "      <td>5.500</td>\n",
       "      <td>81</td>\n",
       "      <td>5.500</td>\n",
       "      <td>object</td>\n",
       "    </tr>\n",
       "    <tr>\n",
       "      <th>BsmtExposure</th>\n",
       "      <td>0</td>\n",
       "      <td>38</td>\n",
       "      <td>2.600</td>\n",
       "      <td>38</td>\n",
       "      <td>2.600</td>\n",
       "      <td>object</td>\n",
       "    </tr>\n",
       "    <tr>\n",
       "      <th>BsmtFinType2</th>\n",
       "      <td>0</td>\n",
       "      <td>38</td>\n",
       "      <td>2.600</td>\n",
       "      <td>38</td>\n",
       "      <td>2.600</td>\n",
       "      <td>object</td>\n",
       "    </tr>\n",
       "    <tr>\n",
       "      <th>BsmtFinType1</th>\n",
       "      <td>0</td>\n",
       "      <td>37</td>\n",
       "      <td>2.500</td>\n",
       "      <td>37</td>\n",
       "      <td>2.500</td>\n",
       "      <td>object</td>\n",
       "    </tr>\n",
       "    <tr>\n",
       "      <th>BsmtCond</th>\n",
       "      <td>0</td>\n",
       "      <td>37</td>\n",
       "      <td>2.500</td>\n",
       "      <td>37</td>\n",
       "      <td>2.500</td>\n",
       "      <td>object</td>\n",
       "    </tr>\n",
       "    <tr>\n",
       "      <th>BsmtQual</th>\n",
       "      <td>0</td>\n",
       "      <td>37</td>\n",
       "      <td>2.500</td>\n",
       "      <td>37</td>\n",
       "      <td>2.500</td>\n",
       "      <td>object</td>\n",
       "    </tr>\n",
       "    <tr>\n",
       "      <th>MasVnrArea</th>\n",
       "      <td>861</td>\n",
       "      <td>8</td>\n",
       "      <td>0.500</td>\n",
       "      <td>869</td>\n",
       "      <td>59.500</td>\n",
       "      <td>float64</td>\n",
       "    </tr>\n",
       "    <tr>\n",
       "      <th>MasVnrType</th>\n",
       "      <td>0</td>\n",
       "      <td>8</td>\n",
       "      <td>0.500</td>\n",
       "      <td>8</td>\n",
       "      <td>0.500</td>\n",
       "      <td>object</td>\n",
       "    </tr>\n",
       "    <tr>\n",
       "      <th>Electrical</th>\n",
       "      <td>0</td>\n",
       "      <td>1</td>\n",
       "      <td>0.100</td>\n",
       "      <td>1</td>\n",
       "      <td>0.100</td>\n",
       "      <td>object</td>\n",
       "    </tr>\n",
       "  </tbody>\n",
       "</table>\n",
       "</div>"
      ],
      "text/plain": [
       "              Zero Values  Missing Values  % of Total Values  \\\n",
       "PoolQC                  0            1453             99.500   \n",
       "MiscFeature             0            1406             96.300   \n",
       "Alley                   0            1369             93.800   \n",
       "Fence                   0            1179             80.800   \n",
       "FireplaceQu             0             690             47.300   \n",
       "LotFrontage             0             259             17.700   \n",
       "GarageType              0              81              5.500   \n",
       "GarageYrBlt             0              81              5.500   \n",
       "GarageFinish            0              81              5.500   \n",
       "GarageQual              0              81              5.500   \n",
       "GarageCond              0              81              5.500   \n",
       "BsmtExposure            0              38              2.600   \n",
       "BsmtFinType2            0              38              2.600   \n",
       "BsmtFinType1            0              37              2.500   \n",
       "BsmtCond                0              37              2.500   \n",
       "BsmtQual                0              37              2.500   \n",
       "MasVnrArea            861               8              0.500   \n",
       "MasVnrType              0               8              0.500   \n",
       "Electrical              0               1              0.100   \n",
       "\n",
       "              Total Zero Missing Values  % Total Zero Missing Values Data Type  \n",
       "PoolQC                             1453                       99.500    object  \n",
       "MiscFeature                        1406                       96.300    object  \n",
       "Alley                              1369                       93.800    object  \n",
       "Fence                              1179                       80.800    object  \n",
       "FireplaceQu                         690                       47.300    object  \n",
       "LotFrontage                         259                       17.700   float64  \n",
       "GarageType                           81                        5.500    object  \n",
       "GarageYrBlt                          81                        5.500   float64  \n",
       "GarageFinish                         81                        5.500    object  \n",
       "GarageQual                           81                        5.500    object  \n",
       "GarageCond                           81                        5.500    object  \n",
       "BsmtExposure                         38                        2.600    object  \n",
       "BsmtFinType2                         38                        2.600    object  \n",
       "BsmtFinType1                         37                        2.500    object  \n",
       "BsmtCond                             37                        2.500    object  \n",
       "BsmtQual                             37                        2.500    object  \n",
       "MasVnrArea                          869                       59.500   float64  \n",
       "MasVnrType                            8                        0.500    object  \n",
       "Electrical                            1                        0.100    object  "
      ]
     },
     "execution_count": 14,
     "metadata": {},
     "output_type": "execute_result"
    }
   ],
   "source": [
    "def missing_zero_values_table(df):\n",
    "        zero_val = (df == 0.00).astype(int).sum(axis=0)\n",
    "        mis_val = df.isnull().sum()\n",
    "        mis_val_percent = 100 * df.isnull().sum() / len(df)\n",
    "        mz_table = pd.concat([zero_val, mis_val, mis_val_percent], axis=1)\n",
    "        mz_table = mz_table.rename(\n",
    "        columns = {0 : 'Zero Values', 1 : 'Missing Values', 2 : '% of Total Values'})\n",
    "        mz_table['Total Zero Missing Values'] = mz_table['Zero Values'] + mz_table['Missing Values']\n",
    "        mz_table['% Total Zero Missing Values'] = 100 * mz_table['Total Zero Missing Values'] / len(df)\n",
    "        mz_table['Data Type'] = df.dtypes\n",
    "        mz_table = mz_table[\n",
    "            mz_table.iloc[:,1] != 0].sort_values(\n",
    "        '% of Total Values', ascending=False).round(1)\n",
    "        print (\"Your selected dataframe has \" + str(df.shape[1]) + \" columns and \" + str(df.shape[0]) + \" Rows.\\n\"      \n",
    "            \"There are \" + str(mz_table.shape[0]) +\n",
    "              \" columns that have missing values.\")\n",
    "#         mz_table.to_excel('D:/sampledata/missing_and_zero_values.xlsx', freeze_panes=(1,0), index = False)\n",
    "        return mz_table\n",
    "\n",
    "missing_zero_values_table(train)"
   ]
  },
  {
   "cell_type": "code",
   "execution_count": 15,
   "metadata": {
    "execution": {
     "iopub.execute_input": "2020-12-07T00:27:56.628366Z",
     "iopub.status.busy": "2020-12-07T00:27:56.616674Z",
     "iopub.status.idle": "2020-12-07T00:27:56.676887Z",
     "shell.execute_reply": "2020-12-07T00:27:56.676187Z"
    },
    "papermill": {
     "duration": 0.132716,
     "end_time": "2020-12-07T00:27:56.677025",
     "exception": false,
     "start_time": "2020-12-07T00:27:56.544309",
     "status": "completed"
    },
    "tags": []
   },
   "outputs": [
    {
     "name": "stdout",
     "output_type": "stream",
     "text": [
      "Your selected dataframe has 80 columns and 1459 Rows.\n",
      "There are 33 columns that have missing values.\n"
     ]
    },
    {
     "data": {
      "text/html": [
       "<div>\n",
       "<style scoped>\n",
       "    .dataframe tbody tr th:only-of-type {\n",
       "        vertical-align: middle;\n",
       "    }\n",
       "\n",
       "    .dataframe tbody tr th {\n",
       "        vertical-align: top;\n",
       "    }\n",
       "\n",
       "    .dataframe thead th {\n",
       "        text-align: right;\n",
       "    }\n",
       "</style>\n",
       "<table border=\"1\" class=\"dataframe\">\n",
       "  <thead>\n",
       "    <tr style=\"text-align: right;\">\n",
       "      <th></th>\n",
       "      <th>Zero Values</th>\n",
       "      <th>Missing Values</th>\n",
       "      <th>% of Total Values</th>\n",
       "      <th>Total Zero Missing Values</th>\n",
       "      <th>% Total Zero Missing Values</th>\n",
       "      <th>Data Type</th>\n",
       "    </tr>\n",
       "  </thead>\n",
       "  <tbody>\n",
       "    <tr>\n",
       "      <th>PoolQC</th>\n",
       "      <td>0</td>\n",
       "      <td>1456</td>\n",
       "      <td>99.800</td>\n",
       "      <td>1456</td>\n",
       "      <td>99.800</td>\n",
       "      <td>object</td>\n",
       "    </tr>\n",
       "    <tr>\n",
       "      <th>MiscFeature</th>\n",
       "      <td>0</td>\n",
       "      <td>1408</td>\n",
       "      <td>96.500</td>\n",
       "      <td>1408</td>\n",
       "      <td>96.500</td>\n",
       "      <td>object</td>\n",
       "    </tr>\n",
       "    <tr>\n",
       "      <th>Alley</th>\n",
       "      <td>0</td>\n",
       "      <td>1352</td>\n",
       "      <td>92.700</td>\n",
       "      <td>1352</td>\n",
       "      <td>92.700</td>\n",
       "      <td>object</td>\n",
       "    </tr>\n",
       "    <tr>\n",
       "      <th>Fence</th>\n",
       "      <td>0</td>\n",
       "      <td>1169</td>\n",
       "      <td>80.100</td>\n",
       "      <td>1169</td>\n",
       "      <td>80.100</td>\n",
       "      <td>object</td>\n",
       "    </tr>\n",
       "    <tr>\n",
       "      <th>FireplaceQu</th>\n",
       "      <td>0</td>\n",
       "      <td>730</td>\n",
       "      <td>50.000</td>\n",
       "      <td>730</td>\n",
       "      <td>50.000</td>\n",
       "      <td>object</td>\n",
       "    </tr>\n",
       "    <tr>\n",
       "      <th>LotFrontage</th>\n",
       "      <td>0</td>\n",
       "      <td>227</td>\n",
       "      <td>15.600</td>\n",
       "      <td>227</td>\n",
       "      <td>15.600</td>\n",
       "      <td>float64</td>\n",
       "    </tr>\n",
       "    <tr>\n",
       "      <th>GarageCond</th>\n",
       "      <td>0</td>\n",
       "      <td>78</td>\n",
       "      <td>5.300</td>\n",
       "      <td>78</td>\n",
       "      <td>5.300</td>\n",
       "      <td>object</td>\n",
       "    </tr>\n",
       "    <tr>\n",
       "      <th>GarageYrBlt</th>\n",
       "      <td>0</td>\n",
       "      <td>78</td>\n",
       "      <td>5.300</td>\n",
       "      <td>78</td>\n",
       "      <td>5.300</td>\n",
       "      <td>float64</td>\n",
       "    </tr>\n",
       "    <tr>\n",
       "      <th>GarageQual</th>\n",
       "      <td>0</td>\n",
       "      <td>78</td>\n",
       "      <td>5.300</td>\n",
       "      <td>78</td>\n",
       "      <td>5.300</td>\n",
       "      <td>object</td>\n",
       "    </tr>\n",
       "    <tr>\n",
       "      <th>GarageFinish</th>\n",
       "      <td>0</td>\n",
       "      <td>78</td>\n",
       "      <td>5.300</td>\n",
       "      <td>78</td>\n",
       "      <td>5.300</td>\n",
       "      <td>object</td>\n",
       "    </tr>\n",
       "    <tr>\n",
       "      <th>GarageType</th>\n",
       "      <td>0</td>\n",
       "      <td>76</td>\n",
       "      <td>5.200</td>\n",
       "      <td>76</td>\n",
       "      <td>5.200</td>\n",
       "      <td>object</td>\n",
       "    </tr>\n",
       "    <tr>\n",
       "      <th>BsmtCond</th>\n",
       "      <td>0</td>\n",
       "      <td>45</td>\n",
       "      <td>3.100</td>\n",
       "      <td>45</td>\n",
       "      <td>3.100</td>\n",
       "      <td>object</td>\n",
       "    </tr>\n",
       "    <tr>\n",
       "      <th>BsmtExposure</th>\n",
       "      <td>0</td>\n",
       "      <td>44</td>\n",
       "      <td>3.000</td>\n",
       "      <td>44</td>\n",
       "      <td>3.000</td>\n",
       "      <td>object</td>\n",
       "    </tr>\n",
       "    <tr>\n",
       "      <th>BsmtQual</th>\n",
       "      <td>0</td>\n",
       "      <td>44</td>\n",
       "      <td>3.000</td>\n",
       "      <td>44</td>\n",
       "      <td>3.000</td>\n",
       "      <td>object</td>\n",
       "    </tr>\n",
       "    <tr>\n",
       "      <th>BsmtFinType1</th>\n",
       "      <td>0</td>\n",
       "      <td>42</td>\n",
       "      <td>2.900</td>\n",
       "      <td>42</td>\n",
       "      <td>2.900</td>\n",
       "      <td>object</td>\n",
       "    </tr>\n",
       "    <tr>\n",
       "      <th>BsmtFinType2</th>\n",
       "      <td>0</td>\n",
       "      <td>42</td>\n",
       "      <td>2.900</td>\n",
       "      <td>42</td>\n",
       "      <td>2.900</td>\n",
       "      <td>object</td>\n",
       "    </tr>\n",
       "    <tr>\n",
       "      <th>MasVnrType</th>\n",
       "      <td>0</td>\n",
       "      <td>16</td>\n",
       "      <td>1.100</td>\n",
       "      <td>16</td>\n",
       "      <td>1.100</td>\n",
       "      <td>object</td>\n",
       "    </tr>\n",
       "    <tr>\n",
       "      <th>MasVnrArea</th>\n",
       "      <td>877</td>\n",
       "      <td>15</td>\n",
       "      <td>1.000</td>\n",
       "      <td>892</td>\n",
       "      <td>61.100</td>\n",
       "      <td>float64</td>\n",
       "    </tr>\n",
       "    <tr>\n",
       "      <th>MSZoning</th>\n",
       "      <td>0</td>\n",
       "      <td>4</td>\n",
       "      <td>0.300</td>\n",
       "      <td>4</td>\n",
       "      <td>0.300</td>\n",
       "      <td>object</td>\n",
       "    </tr>\n",
       "    <tr>\n",
       "      <th>BsmtFullBath</th>\n",
       "      <td>849</td>\n",
       "      <td>2</td>\n",
       "      <td>0.100</td>\n",
       "      <td>851</td>\n",
       "      <td>58.300</td>\n",
       "      <td>float64</td>\n",
       "    </tr>\n",
       "    <tr>\n",
       "      <th>BsmtHalfBath</th>\n",
       "      <td>1364</td>\n",
       "      <td>2</td>\n",
       "      <td>0.100</td>\n",
       "      <td>1366</td>\n",
       "      <td>93.600</td>\n",
       "      <td>float64</td>\n",
       "    </tr>\n",
       "    <tr>\n",
       "      <th>Functional</th>\n",
       "      <td>0</td>\n",
       "      <td>2</td>\n",
       "      <td>0.100</td>\n",
       "      <td>2</td>\n",
       "      <td>0.100</td>\n",
       "      <td>object</td>\n",
       "    </tr>\n",
       "    <tr>\n",
       "      <th>Utilities</th>\n",
       "      <td>0</td>\n",
       "      <td>2</td>\n",
       "      <td>0.100</td>\n",
       "      <td>2</td>\n",
       "      <td>0.100</td>\n",
       "      <td>object</td>\n",
       "    </tr>\n",
       "    <tr>\n",
       "      <th>GarageCars</th>\n",
       "      <td>76</td>\n",
       "      <td>1</td>\n",
       "      <td>0.100</td>\n",
       "      <td>77</td>\n",
       "      <td>5.300</td>\n",
       "      <td>float64</td>\n",
       "    </tr>\n",
       "    <tr>\n",
       "      <th>GarageArea</th>\n",
       "      <td>76</td>\n",
       "      <td>1</td>\n",
       "      <td>0.100</td>\n",
       "      <td>77</td>\n",
       "      <td>5.300</td>\n",
       "      <td>float64</td>\n",
       "    </tr>\n",
       "    <tr>\n",
       "      <th>TotalBsmtSF</th>\n",
       "      <td>41</td>\n",
       "      <td>1</td>\n",
       "      <td>0.100</td>\n",
       "      <td>42</td>\n",
       "      <td>2.900</td>\n",
       "      <td>float64</td>\n",
       "    </tr>\n",
       "    <tr>\n",
       "      <th>KitchenQual</th>\n",
       "      <td>0</td>\n",
       "      <td>1</td>\n",
       "      <td>0.100</td>\n",
       "      <td>1</td>\n",
       "      <td>0.100</td>\n",
       "      <td>object</td>\n",
       "    </tr>\n",
       "    <tr>\n",
       "      <th>BsmtUnfSF</th>\n",
       "      <td>123</td>\n",
       "      <td>1</td>\n",
       "      <td>0.100</td>\n",
       "      <td>124</td>\n",
       "      <td>8.500</td>\n",
       "      <td>float64</td>\n",
       "    </tr>\n",
       "    <tr>\n",
       "      <th>BsmtFinSF2</th>\n",
       "      <td>1278</td>\n",
       "      <td>1</td>\n",
       "      <td>0.100</td>\n",
       "      <td>1279</td>\n",
       "      <td>87.700</td>\n",
       "      <td>float64</td>\n",
       "    </tr>\n",
       "    <tr>\n",
       "      <th>BsmtFinSF1</th>\n",
       "      <td>462</td>\n",
       "      <td>1</td>\n",
       "      <td>0.100</td>\n",
       "      <td>463</td>\n",
       "      <td>31.700</td>\n",
       "      <td>float64</td>\n",
       "    </tr>\n",
       "    <tr>\n",
       "      <th>Exterior2nd</th>\n",
       "      <td>0</td>\n",
       "      <td>1</td>\n",
       "      <td>0.100</td>\n",
       "      <td>1</td>\n",
       "      <td>0.100</td>\n",
       "      <td>object</td>\n",
       "    </tr>\n",
       "    <tr>\n",
       "      <th>Exterior1st</th>\n",
       "      <td>0</td>\n",
       "      <td>1</td>\n",
       "      <td>0.100</td>\n",
       "      <td>1</td>\n",
       "      <td>0.100</td>\n",
       "      <td>object</td>\n",
       "    </tr>\n",
       "    <tr>\n",
       "      <th>SaleType</th>\n",
       "      <td>0</td>\n",
       "      <td>1</td>\n",
       "      <td>0.100</td>\n",
       "      <td>1</td>\n",
       "      <td>0.100</td>\n",
       "      <td>object</td>\n",
       "    </tr>\n",
       "  </tbody>\n",
       "</table>\n",
       "</div>"
      ],
      "text/plain": [
       "              Zero Values  Missing Values  % of Total Values  \\\n",
       "PoolQC                  0            1456             99.800   \n",
       "MiscFeature             0            1408             96.500   \n",
       "Alley                   0            1352             92.700   \n",
       "Fence                   0            1169             80.100   \n",
       "FireplaceQu             0             730             50.000   \n",
       "LotFrontage             0             227             15.600   \n",
       "GarageCond              0              78              5.300   \n",
       "GarageYrBlt             0              78              5.300   \n",
       "GarageQual              0              78              5.300   \n",
       "GarageFinish            0              78              5.300   \n",
       "GarageType              0              76              5.200   \n",
       "BsmtCond                0              45              3.100   \n",
       "BsmtExposure            0              44              3.000   \n",
       "BsmtQual                0              44              3.000   \n",
       "BsmtFinType1            0              42              2.900   \n",
       "BsmtFinType2            0              42              2.900   \n",
       "MasVnrType              0              16              1.100   \n",
       "MasVnrArea            877              15              1.000   \n",
       "MSZoning                0               4              0.300   \n",
       "BsmtFullBath          849               2              0.100   \n",
       "BsmtHalfBath         1364               2              0.100   \n",
       "Functional              0               2              0.100   \n",
       "Utilities               0               2              0.100   \n",
       "GarageCars             76               1              0.100   \n",
       "GarageArea             76               1              0.100   \n",
       "TotalBsmtSF            41               1              0.100   \n",
       "KitchenQual             0               1              0.100   \n",
       "BsmtUnfSF             123               1              0.100   \n",
       "BsmtFinSF2           1278               1              0.100   \n",
       "BsmtFinSF1            462               1              0.100   \n",
       "Exterior2nd             0               1              0.100   \n",
       "Exterior1st             0               1              0.100   \n",
       "SaleType                0               1              0.100   \n",
       "\n",
       "              Total Zero Missing Values  % Total Zero Missing Values Data Type  \n",
       "PoolQC                             1456                       99.800    object  \n",
       "MiscFeature                        1408                       96.500    object  \n",
       "Alley                              1352                       92.700    object  \n",
       "Fence                              1169                       80.100    object  \n",
       "FireplaceQu                         730                       50.000    object  \n",
       "LotFrontage                         227                       15.600   float64  \n",
       "GarageCond                           78                        5.300    object  \n",
       "GarageYrBlt                          78                        5.300   float64  \n",
       "GarageQual                           78                        5.300    object  \n",
       "GarageFinish                         78                        5.300    object  \n",
       "GarageType                           76                        5.200    object  \n",
       "BsmtCond                             45                        3.100    object  \n",
       "BsmtExposure                         44                        3.000    object  \n",
       "BsmtQual                             44                        3.000    object  \n",
       "BsmtFinType1                         42                        2.900    object  \n",
       "BsmtFinType2                         42                        2.900    object  \n",
       "MasVnrType                           16                        1.100    object  \n",
       "MasVnrArea                          892                       61.100   float64  \n",
       "MSZoning                              4                        0.300    object  \n",
       "BsmtFullBath                        851                       58.300   float64  \n",
       "BsmtHalfBath                       1366                       93.600   float64  \n",
       "Functional                            2                        0.100    object  \n",
       "Utilities                             2                        0.100    object  \n",
       "GarageCars                           77                        5.300   float64  \n",
       "GarageArea                           77                        5.300   float64  \n",
       "TotalBsmtSF                          42                        2.900   float64  \n",
       "KitchenQual                           1                        0.100    object  \n",
       "BsmtUnfSF                           124                        8.500   float64  \n",
       "BsmtFinSF2                         1279                       87.700   float64  \n",
       "BsmtFinSF1                          463                       31.700   float64  \n",
       "Exterior2nd                           1                        0.100    object  \n",
       "Exterior1st                           1                        0.100    object  \n",
       "SaleType                              1                        0.100    object  "
      ]
     },
     "execution_count": 15,
     "metadata": {},
     "output_type": "execute_result"
    }
   ],
   "source": [
    "missing_zero_values_table(test)"
   ]
  },
  {
   "cell_type": "code",
   "execution_count": 16,
   "metadata": {
    "execution": {
     "iopub.execute_input": "2020-12-07T00:27:56.834274Z",
     "iopub.status.busy": "2020-12-07T00:27:56.831529Z",
     "iopub.status.idle": "2020-12-07T00:27:56.839154Z",
     "shell.execute_reply": "2020-12-07T00:27:56.838372Z"
    },
    "papermill": {
     "duration": 0.093262,
     "end_time": "2020-12-07T00:27:56.839279",
     "exception": false,
     "start_time": "2020-12-07T00:27:56.746017",
     "status": "completed"
    },
    "tags": []
   },
   "outputs": [
    {
     "data": {
      "text/html": [
       "<div>\n",
       "<style scoped>\n",
       "    .dataframe tbody tr th:only-of-type {\n",
       "        vertical-align: middle;\n",
       "    }\n",
       "\n",
       "    .dataframe tbody tr th {\n",
       "        vertical-align: top;\n",
       "    }\n",
       "\n",
       "    .dataframe thead th {\n",
       "        text-align: right;\n",
       "    }\n",
       "</style>\n",
       "<table border=\"1\" class=\"dataframe\">\n",
       "  <thead>\n",
       "    <tr style=\"text-align: right;\">\n",
       "      <th></th>\n",
       "      <th>PoolQC</th>\n",
       "      <th>SalePrice</th>\n",
       "    </tr>\n",
       "  </thead>\n",
       "  <tbody>\n",
       "    <tr>\n",
       "      <th>0</th>\n",
       "      <td>Ex</td>\n",
       "      <td>490000</td>\n",
       "    </tr>\n",
       "    <tr>\n",
       "      <th>1</th>\n",
       "      <td>Fa</td>\n",
       "      <td>215500</td>\n",
       "    </tr>\n",
       "    <tr>\n",
       "      <th>2</th>\n",
       "      <td>Gd</td>\n",
       "      <td>201990</td>\n",
       "    </tr>\n",
       "  </tbody>\n",
       "</table>\n",
       "</div>"
      ],
      "text/plain": [
       "  PoolQC  SalePrice\n",
       "0     Ex     490000\n",
       "1     Fa     215500\n",
       "2     Gd     201990"
      ]
     },
     "execution_count": 16,
     "metadata": {},
     "output_type": "execute_result"
    }
   ],
   "source": [
    "train[['PoolQC', 'SalePrice']].groupby(['PoolQC'], as_index=False).mean().sort_values(by='SalePrice', ascending=False)"
   ]
  },
  {
   "cell_type": "code",
   "execution_count": 17,
   "metadata": {
    "execution": {
     "iopub.execute_input": "2020-12-07T00:27:56.986575Z",
     "iopub.status.busy": "2020-12-07T00:27:56.985538Z",
     "iopub.status.idle": "2020-12-07T00:27:56.988969Z",
     "shell.execute_reply": "2020-12-07T00:27:56.989524Z"
    },
    "papermill": {
     "duration": 0.080613,
     "end_time": "2020-12-07T00:27:56.989693",
     "exception": false,
     "start_time": "2020-12-07T00:27:56.909080",
     "status": "completed"
    },
    "tags": []
   },
   "outputs": [
    {
     "data": {
      "text/plain": [
       "Gd    3\n",
       "Fa    2\n",
       "Ex    2\n",
       "Name: PoolQC, dtype: int64"
      ]
     },
     "execution_count": 17,
     "metadata": {},
     "output_type": "execute_result"
    }
   ],
   "source": [
    "train.PoolQC.value_counts()"
   ]
  },
  {
   "cell_type": "code",
   "execution_count": 18,
   "metadata": {
    "execution": {
     "iopub.execute_input": "2020-12-07T00:27:57.137408Z",
     "iopub.status.busy": "2020-12-07T00:27:57.136429Z",
     "iopub.status.idle": "2020-12-07T00:27:57.141183Z",
     "shell.execute_reply": "2020-12-07T00:27:57.140550Z"
    },
    "papermill": {
     "duration": 0.082,
     "end_time": "2020-12-07T00:27:57.141309",
     "exception": false,
     "start_time": "2020-12-07T00:27:57.059309",
     "status": "completed"
    },
    "tags": []
   },
   "outputs": [
    {
     "data": {
      "text/plain": [
       "MnPrv    157\n",
       "GdPrv     59\n",
       "GdWo      54\n",
       "MnWw      11\n",
       "Name: Fence, dtype: int64"
      ]
     },
     "execution_count": 18,
     "metadata": {},
     "output_type": "execute_result"
    }
   ],
   "source": [
    "train.Fence.value_counts()"
   ]
  },
  {
   "cell_type": "markdown",
   "metadata": {
    "papermill": {
     "duration": 0.098278,
     "end_time": "2020-12-07T00:27:57.309868",
     "exception": false,
     "start_time": "2020-12-07T00:27:57.211590",
     "status": "completed"
    },
    "tags": []
   },
   "source": [
    "## High % of missing variables' definitions\n",
    "\n",
    "PoolQC: Pool quality => NA means \"No\"\n",
    "\t\t\n",
    "       Ex\tExcellent\n",
    "       Gd\tGood\n",
    "       TA\tAverage/Typical\n",
    "       Fa\tFair\n",
    "       NA\tNo Pool\n",
    "MiscVal: $Value of miscellaneous feature\n",
    "\n",
    "MiscFeature: Miscellaneous feature not covered in other categories => NA means \"No\"\n",
    "\t\t\n",
    "       Elev\tElevator\n",
    "       Gar2\t2nd Garage (if not described in garage section)\n",
    "       Othr\tOther\n",
    "       Shed\tShed (over 100 SF)\n",
    "       TenC\tTennis Court\n",
    "       NA\tNone\n",
    "Fence: Fence quality => NA means \"No\"\n",
    "\t\t\n",
    "       GdPrv\tGood Privacy\n",
    "       MnPrv\tMinimum Privacy\n",
    "       GdWo\tGood Wood\n",
    "       MnWw\tMinimum Wood/Wire\n",
    "       NA\tNo Fence\n",
    "Alley: Type of alley access to property => NA means \"No\"\n",
    "       Grvl\t    Gravel\n",
    "       Pave\t    Paved\n",
    "       NA \t    No alley access\n",
    "FireplaceQu: Fireplace quality => NA means \"No\"\n",
    "\n",
    "       Ex\tExcellent - Exceptional Masonry Fireplace\n",
    "       Gd\tGood - Masonry Fireplace in main level\n",
    "       TA\tAverage - Prefabricated Fireplace in main living area or Masonry Fireplace in basement\n",
    "       Fa\tFair - Prefabricated Fireplace in basement\n",
    "       Po\tPoor - Ben Franklin Stove\n",
    "       NA\tNo Fireplace\n",
    "All garage related variables NA => \"No garage\"\n",
    "\n",
    "Basement related variables NA => \"No basement\"\n",
    "\n",
    "GarageCars: Size of garage in car capacity\n",
    "\n",
    "GarageArea: Size of garage in square feet\n"
   ]
  },
  {
   "cell_type": "code",
   "execution_count": 19,
   "metadata": {
    "execution": {
     "iopub.execute_input": "2020-12-07T00:27:57.489461Z",
     "iopub.status.busy": "2020-12-07T00:27:57.488597Z",
     "iopub.status.idle": "2020-12-07T00:27:57.593309Z",
     "shell.execute_reply": "2020-12-07T00:27:57.592539Z"
    },
    "papermill": {
     "duration": 0.186935,
     "end_time": "2020-12-07T00:27:57.593444",
     "exception": false,
     "start_time": "2020-12-07T00:27:57.406509",
     "status": "completed"
    },
    "tags": []
   },
   "outputs": [
    {
     "data": {
      "text/html": [
       "<div>\n",
       "<style scoped>\n",
       "    .dataframe tbody tr th:only-of-type {\n",
       "        vertical-align: middle;\n",
       "    }\n",
       "\n",
       "    .dataframe tbody tr th {\n",
       "        vertical-align: top;\n",
       "    }\n",
       "\n",
       "    .dataframe thead th {\n",
       "        text-align: right;\n",
       "    }\n",
       "</style>\n",
       "<table border=\"1\" class=\"dataframe\">\n",
       "  <thead>\n",
       "    <tr style=\"text-align: right;\">\n",
       "      <th></th>\n",
       "      <th>Id</th>\n",
       "      <th>MSSubClass</th>\n",
       "      <th>LotFrontage</th>\n",
       "      <th>LotArea</th>\n",
       "      <th>OverallQual</th>\n",
       "      <th>OverallCond</th>\n",
       "      <th>YearBuilt</th>\n",
       "      <th>YearRemodAdd</th>\n",
       "      <th>MasVnrArea</th>\n",
       "      <th>BsmtFinSF1</th>\n",
       "      <th>...</th>\n",
       "      <th>WoodDeckSF</th>\n",
       "      <th>OpenPorchSF</th>\n",
       "      <th>EnclosedPorch</th>\n",
       "      <th>3SsnPorch</th>\n",
       "      <th>ScreenPorch</th>\n",
       "      <th>PoolArea</th>\n",
       "      <th>MiscVal</th>\n",
       "      <th>MoSold</th>\n",
       "      <th>YrSold</th>\n",
       "      <th>SalePrice</th>\n",
       "    </tr>\n",
       "  </thead>\n",
       "  <tbody>\n",
       "    <tr>\n",
       "      <th>count</th>\n",
       "      <td>1460.000</td>\n",
       "      <td>1460.000</td>\n",
       "      <td>1201.000</td>\n",
       "      <td>1460.000</td>\n",
       "      <td>1460.000</td>\n",
       "      <td>1460.000</td>\n",
       "      <td>1460.000</td>\n",
       "      <td>1460.000</td>\n",
       "      <td>1452.000</td>\n",
       "      <td>1460.000</td>\n",
       "      <td>...</td>\n",
       "      <td>1460.000</td>\n",
       "      <td>1460.000</td>\n",
       "      <td>1460.000</td>\n",
       "      <td>1460.000</td>\n",
       "      <td>1460.000</td>\n",
       "      <td>1460.000</td>\n",
       "      <td>1460.000</td>\n",
       "      <td>1460.000</td>\n",
       "      <td>1460.000</td>\n",
       "      <td>1460.000</td>\n",
       "    </tr>\n",
       "    <tr>\n",
       "      <th>mean</th>\n",
       "      <td>730.500</td>\n",
       "      <td>56.897</td>\n",
       "      <td>70.050</td>\n",
       "      <td>10516.828</td>\n",
       "      <td>6.099</td>\n",
       "      <td>5.575</td>\n",
       "      <td>1971.268</td>\n",
       "      <td>1984.866</td>\n",
       "      <td>103.685</td>\n",
       "      <td>443.640</td>\n",
       "      <td>...</td>\n",
       "      <td>94.245</td>\n",
       "      <td>46.660</td>\n",
       "      <td>21.954</td>\n",
       "      <td>3.410</td>\n",
       "      <td>15.061</td>\n",
       "      <td>2.759</td>\n",
       "      <td>43.489</td>\n",
       "      <td>6.322</td>\n",
       "      <td>2007.816</td>\n",
       "      <td>180921.196</td>\n",
       "    </tr>\n",
       "    <tr>\n",
       "      <th>std</th>\n",
       "      <td>421.610</td>\n",
       "      <td>42.301</td>\n",
       "      <td>24.285</td>\n",
       "      <td>9981.265</td>\n",
       "      <td>1.383</td>\n",
       "      <td>1.113</td>\n",
       "      <td>30.203</td>\n",
       "      <td>20.645</td>\n",
       "      <td>181.066</td>\n",
       "      <td>456.098</td>\n",
       "      <td>...</td>\n",
       "      <td>125.339</td>\n",
       "      <td>66.256</td>\n",
       "      <td>61.119</td>\n",
       "      <td>29.317</td>\n",
       "      <td>55.757</td>\n",
       "      <td>40.177</td>\n",
       "      <td>496.123</td>\n",
       "      <td>2.704</td>\n",
       "      <td>1.328</td>\n",
       "      <td>79442.503</td>\n",
       "    </tr>\n",
       "    <tr>\n",
       "      <th>min</th>\n",
       "      <td>1.000</td>\n",
       "      <td>20.000</td>\n",
       "      <td>21.000</td>\n",
       "      <td>1300.000</td>\n",
       "      <td>1.000</td>\n",
       "      <td>1.000</td>\n",
       "      <td>1872.000</td>\n",
       "      <td>1950.000</td>\n",
       "      <td>0.000</td>\n",
       "      <td>0.000</td>\n",
       "      <td>...</td>\n",
       "      <td>0.000</td>\n",
       "      <td>0.000</td>\n",
       "      <td>0.000</td>\n",
       "      <td>0.000</td>\n",
       "      <td>0.000</td>\n",
       "      <td>0.000</td>\n",
       "      <td>0.000</td>\n",
       "      <td>1.000</td>\n",
       "      <td>2006.000</td>\n",
       "      <td>34900.000</td>\n",
       "    </tr>\n",
       "    <tr>\n",
       "      <th>25%</th>\n",
       "      <td>365.750</td>\n",
       "      <td>20.000</td>\n",
       "      <td>59.000</td>\n",
       "      <td>7553.500</td>\n",
       "      <td>5.000</td>\n",
       "      <td>5.000</td>\n",
       "      <td>1954.000</td>\n",
       "      <td>1967.000</td>\n",
       "      <td>0.000</td>\n",
       "      <td>0.000</td>\n",
       "      <td>...</td>\n",
       "      <td>0.000</td>\n",
       "      <td>0.000</td>\n",
       "      <td>0.000</td>\n",
       "      <td>0.000</td>\n",
       "      <td>0.000</td>\n",
       "      <td>0.000</td>\n",
       "      <td>0.000</td>\n",
       "      <td>5.000</td>\n",
       "      <td>2007.000</td>\n",
       "      <td>129975.000</td>\n",
       "    </tr>\n",
       "    <tr>\n",
       "      <th>50%</th>\n",
       "      <td>730.500</td>\n",
       "      <td>50.000</td>\n",
       "      <td>69.000</td>\n",
       "      <td>9478.500</td>\n",
       "      <td>6.000</td>\n",
       "      <td>5.000</td>\n",
       "      <td>1973.000</td>\n",
       "      <td>1994.000</td>\n",
       "      <td>0.000</td>\n",
       "      <td>383.500</td>\n",
       "      <td>...</td>\n",
       "      <td>0.000</td>\n",
       "      <td>25.000</td>\n",
       "      <td>0.000</td>\n",
       "      <td>0.000</td>\n",
       "      <td>0.000</td>\n",
       "      <td>0.000</td>\n",
       "      <td>0.000</td>\n",
       "      <td>6.000</td>\n",
       "      <td>2008.000</td>\n",
       "      <td>163000.000</td>\n",
       "    </tr>\n",
       "    <tr>\n",
       "      <th>75%</th>\n",
       "      <td>1095.250</td>\n",
       "      <td>70.000</td>\n",
       "      <td>80.000</td>\n",
       "      <td>11601.500</td>\n",
       "      <td>7.000</td>\n",
       "      <td>6.000</td>\n",
       "      <td>2000.000</td>\n",
       "      <td>2004.000</td>\n",
       "      <td>166.000</td>\n",
       "      <td>712.250</td>\n",
       "      <td>...</td>\n",
       "      <td>168.000</td>\n",
       "      <td>68.000</td>\n",
       "      <td>0.000</td>\n",
       "      <td>0.000</td>\n",
       "      <td>0.000</td>\n",
       "      <td>0.000</td>\n",
       "      <td>0.000</td>\n",
       "      <td>8.000</td>\n",
       "      <td>2009.000</td>\n",
       "      <td>214000.000</td>\n",
       "    </tr>\n",
       "    <tr>\n",
       "      <th>max</th>\n",
       "      <td>1460.000</td>\n",
       "      <td>190.000</td>\n",
       "      <td>313.000</td>\n",
       "      <td>215245.000</td>\n",
       "      <td>10.000</td>\n",
       "      <td>9.000</td>\n",
       "      <td>2010.000</td>\n",
       "      <td>2010.000</td>\n",
       "      <td>1600.000</td>\n",
       "      <td>5644.000</td>\n",
       "      <td>...</td>\n",
       "      <td>857.000</td>\n",
       "      <td>547.000</td>\n",
       "      <td>552.000</td>\n",
       "      <td>508.000</td>\n",
       "      <td>480.000</td>\n",
       "      <td>738.000</td>\n",
       "      <td>15500.000</td>\n",
       "      <td>12.000</td>\n",
       "      <td>2010.000</td>\n",
       "      <td>755000.000</td>\n",
       "    </tr>\n",
       "  </tbody>\n",
       "</table>\n",
       "<p>8 rows × 38 columns</p>\n",
       "</div>"
      ],
      "text/plain": [
       "            Id  MSSubClass  LotFrontage    LotArea  OverallQual  OverallCond  \\\n",
       "count 1460.000    1460.000     1201.000   1460.000     1460.000     1460.000   \n",
       "mean   730.500      56.897       70.050  10516.828        6.099        5.575   \n",
       "std    421.610      42.301       24.285   9981.265        1.383        1.113   \n",
       "min      1.000      20.000       21.000   1300.000        1.000        1.000   \n",
       "25%    365.750      20.000       59.000   7553.500        5.000        5.000   \n",
       "50%    730.500      50.000       69.000   9478.500        6.000        5.000   \n",
       "75%   1095.250      70.000       80.000  11601.500        7.000        6.000   \n",
       "max   1460.000     190.000      313.000 215245.000       10.000        9.000   \n",
       "\n",
       "       YearBuilt  YearRemodAdd  MasVnrArea  BsmtFinSF1  ...  WoodDeckSF  \\\n",
       "count   1460.000      1460.000    1452.000    1460.000  ...    1460.000   \n",
       "mean    1971.268      1984.866     103.685     443.640  ...      94.245   \n",
       "std       30.203        20.645     181.066     456.098  ...     125.339   \n",
       "min     1872.000      1950.000       0.000       0.000  ...       0.000   \n",
       "25%     1954.000      1967.000       0.000       0.000  ...       0.000   \n",
       "50%     1973.000      1994.000       0.000     383.500  ...       0.000   \n",
       "75%     2000.000      2004.000     166.000     712.250  ...     168.000   \n",
       "max     2010.000      2010.000    1600.000    5644.000  ...     857.000   \n",
       "\n",
       "       OpenPorchSF  EnclosedPorch  3SsnPorch  ScreenPorch  PoolArea   MiscVal  \\\n",
       "count     1460.000       1460.000   1460.000     1460.000  1460.000  1460.000   \n",
       "mean        46.660         21.954      3.410       15.061     2.759    43.489   \n",
       "std         66.256         61.119     29.317       55.757    40.177   496.123   \n",
       "min          0.000          0.000      0.000        0.000     0.000     0.000   \n",
       "25%          0.000          0.000      0.000        0.000     0.000     0.000   \n",
       "50%         25.000          0.000      0.000        0.000     0.000     0.000   \n",
       "75%         68.000          0.000      0.000        0.000     0.000     0.000   \n",
       "max        547.000        552.000    508.000      480.000   738.000 15500.000   \n",
       "\n",
       "        MoSold   YrSold  SalePrice  \n",
       "count 1460.000 1460.000   1460.000  \n",
       "mean     6.322 2007.816 180921.196  \n",
       "std      2.704    1.328  79442.503  \n",
       "min      1.000 2006.000  34900.000  \n",
       "25%      5.000 2007.000 129975.000  \n",
       "50%      6.000 2008.000 163000.000  \n",
       "75%      8.000 2009.000 214000.000  \n",
       "max     12.000 2010.000 755000.000  \n",
       "\n",
       "[8 rows x 38 columns]"
      ]
     },
     "execution_count": 19,
     "metadata": {},
     "output_type": "execute_result"
    }
   ],
   "source": [
    "#Basic stats of data 38 columns (numeric data)\n",
    "train.describe()"
   ]
  },
  {
   "cell_type": "code",
   "execution_count": 20,
   "metadata": {
    "execution": {
     "iopub.execute_input": "2020-12-07T00:27:57.765036Z",
     "iopub.status.busy": "2020-12-07T00:27:57.741883Z",
     "iopub.status.idle": "2020-12-07T00:27:57.873767Z",
     "shell.execute_reply": "2020-12-07T00:27:57.873014Z"
    },
    "papermill": {
     "duration": 0.208766,
     "end_time": "2020-12-07T00:27:57.873887",
     "exception": false,
     "start_time": "2020-12-07T00:27:57.665121",
     "status": "completed"
    },
    "tags": []
   },
   "outputs": [
    {
     "data": {
      "text/html": [
       "<div>\n",
       "<style scoped>\n",
       "    .dataframe tbody tr th:only-of-type {\n",
       "        vertical-align: middle;\n",
       "    }\n",
       "\n",
       "    .dataframe tbody tr th {\n",
       "        vertical-align: top;\n",
       "    }\n",
       "\n",
       "    .dataframe thead th {\n",
       "        text-align: right;\n",
       "    }\n",
       "</style>\n",
       "<table border=\"1\" class=\"dataframe\">\n",
       "  <thead>\n",
       "    <tr style=\"text-align: right;\">\n",
       "      <th></th>\n",
       "      <th>MSZoning</th>\n",
       "      <th>Street</th>\n",
       "      <th>Alley</th>\n",
       "      <th>LotShape</th>\n",
       "      <th>LandContour</th>\n",
       "      <th>Utilities</th>\n",
       "      <th>LotConfig</th>\n",
       "      <th>LandSlope</th>\n",
       "      <th>Neighborhood</th>\n",
       "      <th>Condition1</th>\n",
       "      <th>...</th>\n",
       "      <th>GarageType</th>\n",
       "      <th>GarageFinish</th>\n",
       "      <th>GarageQual</th>\n",
       "      <th>GarageCond</th>\n",
       "      <th>PavedDrive</th>\n",
       "      <th>PoolQC</th>\n",
       "      <th>Fence</th>\n",
       "      <th>MiscFeature</th>\n",
       "      <th>SaleType</th>\n",
       "      <th>SaleCondition</th>\n",
       "    </tr>\n",
       "  </thead>\n",
       "  <tbody>\n",
       "    <tr>\n",
       "      <th>count</th>\n",
       "      <td>1460</td>\n",
       "      <td>1460</td>\n",
       "      <td>91</td>\n",
       "      <td>1460</td>\n",
       "      <td>1460</td>\n",
       "      <td>1460</td>\n",
       "      <td>1460</td>\n",
       "      <td>1460</td>\n",
       "      <td>1460</td>\n",
       "      <td>1460</td>\n",
       "      <td>...</td>\n",
       "      <td>1379</td>\n",
       "      <td>1379</td>\n",
       "      <td>1379</td>\n",
       "      <td>1379</td>\n",
       "      <td>1460</td>\n",
       "      <td>7</td>\n",
       "      <td>281</td>\n",
       "      <td>54</td>\n",
       "      <td>1460</td>\n",
       "      <td>1460</td>\n",
       "    </tr>\n",
       "    <tr>\n",
       "      <th>unique</th>\n",
       "      <td>5</td>\n",
       "      <td>2</td>\n",
       "      <td>2</td>\n",
       "      <td>4</td>\n",
       "      <td>4</td>\n",
       "      <td>2</td>\n",
       "      <td>5</td>\n",
       "      <td>3</td>\n",
       "      <td>25</td>\n",
       "      <td>9</td>\n",
       "      <td>...</td>\n",
       "      <td>6</td>\n",
       "      <td>3</td>\n",
       "      <td>5</td>\n",
       "      <td>5</td>\n",
       "      <td>3</td>\n",
       "      <td>3</td>\n",
       "      <td>4</td>\n",
       "      <td>4</td>\n",
       "      <td>9</td>\n",
       "      <td>6</td>\n",
       "    </tr>\n",
       "    <tr>\n",
       "      <th>top</th>\n",
       "      <td>RL</td>\n",
       "      <td>Pave</td>\n",
       "      <td>Grvl</td>\n",
       "      <td>Reg</td>\n",
       "      <td>Lvl</td>\n",
       "      <td>AllPub</td>\n",
       "      <td>Inside</td>\n",
       "      <td>Gtl</td>\n",
       "      <td>NAmes</td>\n",
       "      <td>Norm</td>\n",
       "      <td>...</td>\n",
       "      <td>Attchd</td>\n",
       "      <td>Unf</td>\n",
       "      <td>TA</td>\n",
       "      <td>TA</td>\n",
       "      <td>Y</td>\n",
       "      <td>Gd</td>\n",
       "      <td>MnPrv</td>\n",
       "      <td>Shed</td>\n",
       "      <td>WD</td>\n",
       "      <td>Normal</td>\n",
       "    </tr>\n",
       "    <tr>\n",
       "      <th>freq</th>\n",
       "      <td>1151</td>\n",
       "      <td>1454</td>\n",
       "      <td>50</td>\n",
       "      <td>925</td>\n",
       "      <td>1311</td>\n",
       "      <td>1459</td>\n",
       "      <td>1052</td>\n",
       "      <td>1382</td>\n",
       "      <td>225</td>\n",
       "      <td>1260</td>\n",
       "      <td>...</td>\n",
       "      <td>870</td>\n",
       "      <td>605</td>\n",
       "      <td>1311</td>\n",
       "      <td>1326</td>\n",
       "      <td>1340</td>\n",
       "      <td>3</td>\n",
       "      <td>157</td>\n",
       "      <td>49</td>\n",
       "      <td>1267</td>\n",
       "      <td>1198</td>\n",
       "    </tr>\n",
       "  </tbody>\n",
       "</table>\n",
       "<p>4 rows × 43 columns</p>\n",
       "</div>"
      ],
      "text/plain": [
       "       MSZoning Street Alley LotShape LandContour Utilities LotConfig  \\\n",
       "count      1460   1460    91     1460        1460      1460      1460   \n",
       "unique        5      2     2        4           4         2         5   \n",
       "top          RL   Pave  Grvl      Reg         Lvl    AllPub    Inside   \n",
       "freq       1151   1454    50      925        1311      1459      1052   \n",
       "\n",
       "       LandSlope Neighborhood Condition1  ... GarageType GarageFinish  \\\n",
       "count       1460         1460       1460  ...       1379         1379   \n",
       "unique         3           25          9  ...          6            3   \n",
       "top          Gtl        NAmes       Norm  ...     Attchd          Unf   \n",
       "freq        1382          225       1260  ...        870          605   \n",
       "\n",
       "       GarageQual GarageCond PavedDrive PoolQC  Fence MiscFeature SaleType  \\\n",
       "count        1379       1379       1460      7    281          54     1460   \n",
       "unique          5          5          3      3      4           4        9   \n",
       "top            TA         TA          Y     Gd  MnPrv        Shed       WD   \n",
       "freq         1311       1326       1340      3    157          49     1267   \n",
       "\n",
       "       SaleCondition  \n",
       "count           1460  \n",
       "unique             6  \n",
       "top           Normal  \n",
       "freq            1198  \n",
       "\n",
       "[4 rows x 43 columns]"
      ]
     },
     "execution_count": 20,
     "metadata": {},
     "output_type": "execute_result"
    }
   ],
   "source": [
    "#categorical varaibles summary\n",
    "train.describe(include=['O'])"
   ]
  },
  {
   "cell_type": "markdown",
   "metadata": {
    "papermill": {
     "duration": 0.070341,
     "end_time": "2020-12-07T00:27:58.017483",
     "exception": false,
     "start_time": "2020-12-07T00:27:57.947142",
     "status": "completed"
    },
    "tags": []
   },
   "source": [
    "# Drop high missing vars"
   ]
  },
  {
   "cell_type": "code",
   "execution_count": 21,
   "metadata": {
    "execution": {
     "iopub.execute_input": "2020-12-07T00:27:58.170976Z",
     "iopub.status.busy": "2020-12-07T00:27:58.169897Z",
     "iopub.status.idle": "2020-12-07T00:27:58.173393Z",
     "shell.execute_reply": "2020-12-07T00:27:58.172843Z"
    },
    "papermill": {
     "duration": 0.08321,
     "end_time": "2020-12-07T00:27:58.173513",
     "exception": false,
     "start_time": "2020-12-07T00:27:58.090303",
     "status": "completed"
    },
    "tags": []
   },
   "outputs": [],
   "source": [
    "train.drop(['PoolQC', 'MiscFeature', 'Alley', 'Fence', 'Id'], axis=1, inplace=True)"
   ]
  },
  {
   "cell_type": "code",
   "execution_count": 22,
   "metadata": {
    "execution": {
     "iopub.execute_input": "2020-12-07T00:27:58.327623Z",
     "iopub.status.busy": "2020-12-07T00:27:58.326855Z",
     "iopub.status.idle": "2020-12-07T00:27:58.329304Z",
     "shell.execute_reply": "2020-12-07T00:27:58.329876Z"
    },
    "papermill": {
     "duration": 0.083568,
     "end_time": "2020-12-07T00:27:58.330030",
     "exception": false,
     "start_time": "2020-12-07T00:27:58.246462",
     "status": "completed"
    },
    "tags": []
   },
   "outputs": [],
   "source": [
    "test.drop(['PoolQC', 'MiscFeature', 'Alley', 'Fence'], axis=1, inplace=True)"
   ]
  },
  {
   "cell_type": "markdown",
   "metadata": {
    "papermill": {
     "duration": 0.07334,
     "end_time": "2020-12-07T00:27:58.476525",
     "exception": false,
     "start_time": "2020-12-07T00:27:58.403185",
     "status": "completed"
    },
    "tags": []
   },
   "source": [
    "## Univariate analysis on target variable Sale Price\n",
    "Sale price is skewed to the right, long right tail with high kutosis.\n"
   ]
  },
  {
   "cell_type": "code",
   "execution_count": 23,
   "metadata": {
    "execution": {
     "iopub.execute_input": "2020-12-07T00:27:58.630505Z",
     "iopub.status.busy": "2020-12-07T00:27:58.627249Z",
     "iopub.status.idle": "2020-12-07T00:27:58.635169Z",
     "shell.execute_reply": "2020-12-07T00:27:58.634449Z"
    },
    "papermill": {
     "duration": 0.086664,
     "end_time": "2020-12-07T00:27:58.635288",
     "exception": false,
     "start_time": "2020-12-07T00:27:58.548624",
     "status": "completed"
    },
    "tags": []
   },
   "outputs": [
    {
     "data": {
      "text/plain": [
       "count     1460.000\n",
       "mean    180921.196\n",
       "std      79442.503\n",
       "min      34900.000\n",
       "25%     129975.000\n",
       "50%     163000.000\n",
       "75%     214000.000\n",
       "max     755000.000\n",
       "Name: SalePrice, dtype: float64"
      ]
     },
     "execution_count": 23,
     "metadata": {},
     "output_type": "execute_result"
    }
   ],
   "source": [
    "#Stats\n",
    "train['SalePrice'].describe()"
   ]
  },
  {
   "cell_type": "code",
   "execution_count": 24,
   "metadata": {
    "execution": {
     "iopub.execute_input": "2020-12-07T00:27:58.786976Z",
     "iopub.status.busy": "2020-12-07T00:27:58.786176Z",
     "iopub.status.idle": "2020-12-07T00:27:59.111404Z",
     "shell.execute_reply": "2020-12-07T00:27:59.110765Z"
    },
    "papermill": {
     "duration": 0.403681,
     "end_time": "2020-12-07T00:27:59.111528",
     "exception": false,
     "start_time": "2020-12-07T00:27:58.707847",
     "status": "completed"
    },
    "tags": []
   },
   "outputs": [
    {
     "data": {
      "text/plain": [
       "<matplotlib.axes._subplots.AxesSubplot at 0x7fdc823bca50>"
      ]
     },
     "execution_count": 24,
     "metadata": {},
     "output_type": "execute_result"
    },
    {
     "data": {
      "image/png": "[encoded data removed]",
      "text/plain": [
       "<Figure size 432x288 with 1 Axes>"
      ]
     },
     "metadata": {
      "needs_background": "light"
     },
     "output_type": "display_data"
    }
   ],
   "source": [
    "sns.distplot(train['SalePrice'])"
   ]
  },
  {
   "cell_type": "code",
   "execution_count": 25,
   "metadata": {
    "execution": {
     "iopub.execute_input": "2020-12-07T00:27:59.286844Z",
     "iopub.status.busy": "2020-12-07T00:27:59.280131Z",
     "iopub.status.idle": "2020-12-07T00:28:00.060995Z",
     "shell.execute_reply": "2020-12-07T00:28:00.059886Z"
    },
    "papermill": {
     "duration": 0.875028,
     "end_time": "2020-12-07T00:28:00.061161",
     "exception": false,
     "start_time": "2020-12-07T00:27:59.186133",
     "status": "completed"
    },
    "tags": []
   },
   "outputs": [
    {
     "name": "stdout",
     "output_type": "stream",
     "text": [
      "\n",
      " mu = 180921.20 and sigma = 79415.29\n",
      "\n"
     ]
    },
    {
     "data": {
      "image/png": "[encoded data removed]",
      "text/plain": [
       "<Figure size 432x288 with 1 Axes>"
      ]
     },
     "metadata": {
      "needs_background": "light"
     },
     "output_type": "display_data"
    },
    {
     "data": {
      "image/png": "[encoded data removed]",
      "text/plain": [
       "<Figure size 432x288 with 1 Axes>"
      ]
     },
     "metadata": {
      "needs_background": "light"
     },
     "output_type": "display_data"
    }
   ],
   "source": [
    "sns.distplot(train['SalePrice'] , fit=norm);\n",
    "# Get the fitted parameters used by the function\n",
    "(mu, sigma) = norm.fit(train['SalePrice'])\n",
    "print( '\\n mu = {:.2f} and sigma = {:.2f}\\n'.format(mu, sigma))\n",
    "#Now plot the distribution\n",
    "plt.legend(['Normal dist. ($\\mu=$ {:.2f} and $\\sigma=$ {:.2f} )'.format(mu, sigma)],\n",
    "            loc='best')\n",
    "plt.ylabel('Frequency')\n",
    "plt.title('Sale Price distribution')\n",
    "#Get also the QQ-plot\n",
    "fig = plt.figure()\n",
    "res = stats.probplot(train['SalePrice'], plot=plt)\n",
    "plt.show();"
   ]
  },
  {
   "cell_type": "code",
   "execution_count": 26,
   "metadata": {
    "execution": {
     "iopub.execute_input": "2020-12-07T00:28:00.236928Z",
     "iopub.status.busy": "2020-12-07T00:28:00.235736Z",
     "iopub.status.idle": "2020-12-07T00:28:00.239866Z",
     "shell.execute_reply": "2020-12-07T00:28:00.240792Z"
    },
    "papermill": {
     "duration": 0.092667,
     "end_time": "2020-12-07T00:28:00.241030",
     "exception": false,
     "start_time": "2020-12-07T00:28:00.148363",
     "status": "completed"
    },
    "tags": []
   },
   "outputs": [
    {
     "name": "stdout",
     "output_type": "stream",
     "text": [
      "Skewness: 1.882876\n",
      "Kurtosis: 6.536282\n"
     ]
    }
   ],
   "source": [
    "#skewness and kurtosis\n",
    "print(\"Skewness: %f\" % train['SalePrice'].skew())\n",
    "print(\"Kurtosis: %f\" % train['SalePrice'].kurt())"
   ]
  },
  {
   "cell_type": "code",
   "execution_count": 27,
   "metadata": {
    "execution": {
     "iopub.execute_input": "2020-12-07T00:28:00.410833Z",
     "iopub.status.busy": "2020-12-07T00:28:00.409683Z",
     "iopub.status.idle": "2020-12-07T00:28:01.127599Z",
     "shell.execute_reply": "2020-12-07T00:28:01.128188Z"
    },
    "papermill": {
     "duration": 0.804194,
     "end_time": "2020-12-07T00:28:01.128377",
     "exception": false,
     "start_time": "2020-12-07T00:28:00.324183",
     "status": "completed"
    },
    "tags": []
   },
   "outputs": [
    {
     "data": {
      "image/png": "[encoded data removed]",
      "text/plain": [
       "<Figure size 720x720 with 2 Axes>"
      ]
     },
     "metadata": {
      "needs_background": "light"
     },
     "output_type": "display_data"
    }
   ],
   "source": [
    "# most correlated features\n",
    "corrmat = train.corr()\n",
    "top_corr_features = corrmat.index[abs(corrmat[\"SalePrice\"])>0.5]\n",
    "plt.figure(figsize=(10,10))\n",
    "g = sns.heatmap(train[top_corr_features].corr(),annot=True,cmap=\"RdYlGn\")"
   ]
  },
  {
   "cell_type": "code",
   "execution_count": 28,
   "metadata": {
    "execution": {
     "iopub.execute_input": "2020-12-07T00:28:01.420977Z",
     "iopub.status.busy": "2020-12-07T00:28:01.311127Z",
     "iopub.status.idle": "2020-12-07T00:28:16.973060Z",
     "shell.execute_reply": "2020-12-07T00:28:16.973649Z"
    },
    "papermill": {
     "duration": 15.764693,
     "end_time": "2020-12-07T00:28:16.973831",
     "exception": false,
     "start_time": "2020-12-07T00:28:01.209138",
     "status": "completed"
    },
    "tags": []
   },
   "outputs": [
    {
     "data": {
      "image/png": "[encoded data removed]",
      "text/plain": [
       "<Figure size 1260x1260 with 56 Axes>"
      ]
     },
     "metadata": {},
     "output_type": "display_data"
    }
   ],
   "source": [
    "#scatterplot\n",
    "sns.set()\n",
    "cols = ['SalePrice', 'OverallQual', 'GrLivArea', 'GarageCars', 'TotalBsmtSF', 'FullBath', 'YearBuilt']\n",
    "sns.pairplot(train[cols], size = 2.5)\n",
    "plt.show();"
   ]
  },
  {
   "cell_type": "code",
   "execution_count": 29,
   "metadata": {
    "execution": {
     "iopub.execute_input": "2020-12-07T00:28:17.169360Z",
     "iopub.status.busy": "2020-12-07T00:28:17.168417Z",
     "iopub.status.idle": "2020-12-07T00:28:17.173368Z",
     "shell.execute_reply": "2020-12-07T00:28:17.172602Z"
    },
    "papermill": {
     "duration": 0.110375,
     "end_time": "2020-12-07T00:28:17.173496",
     "exception": false,
     "start_time": "2020-12-07T00:28:17.063121",
     "status": "completed"
    },
    "tags": []
   },
   "outputs": [
    {
     "name": "stdout",
     "output_type": "stream",
     "text": [
      "Numerical features : 36\n",
      "Categorical features : 39\n"
     ]
    }
   ],
   "source": [
    "# Differentiate numerical features (minus the target) and categorical features\n",
    "categorical_features = train.select_dtypes(include = [\"object\"]).columns\n",
    "numerical_features = train.select_dtypes(exclude = [\"object\"]).columns\n",
    "numerical_features = numerical_features.drop(\"SalePrice\")\n",
    "print(\"Numerical features : \" + str(len(numerical_features)))\n",
    "print(\"Categorical features : \" + str(len(categorical_features)))\n",
    "train_num = train[numerical_features]\n",
    "train_cat = train[categorical_features]"
   ]
  },
  {
   "cell_type": "code",
   "execution_count": 30,
   "metadata": {
    "execution": {
     "iopub.execute_input": "2020-12-07T00:28:17.367294Z",
     "iopub.status.busy": "2020-12-07T00:28:17.366317Z",
     "iopub.status.idle": "2020-12-07T00:28:17.371188Z",
     "shell.execute_reply": "2020-12-07T00:28:17.372001Z"
    },
    "papermill": {
     "duration": 0.1091,
     "end_time": "2020-12-07T00:28:17.372203",
     "exception": false,
     "start_time": "2020-12-07T00:28:17.263103",
     "status": "completed"
    },
    "tags": []
   },
   "outputs": [
    {
     "name": "stdout",
     "output_type": "stream",
     "text": [
      "Numerical features : 37\n",
      "Categorical features : 39\n"
     ]
    }
   ],
   "source": [
    "# test data : Differentiate numerical features (minus the target) and categorical features\n",
    "categorical_features = test.select_dtypes(include = [\"object\"]).columns\n",
    "numerical_features = test.select_dtypes(exclude = [\"object\"]).columns\n",
    "\n",
    "print(\"Numerical features : \" + str(len(numerical_features)))\n",
    "print(\"Categorical features : \" + str(len(categorical_features)))\n",
    "test_num = test[numerical_features]\n",
    "test_cat = test[categorical_features]"
   ]
  },
  {
   "cell_type": "code",
   "execution_count": 31,
   "metadata": {
    "execution": {
     "iopub.execute_input": "2020-12-07T00:28:17.562269Z",
     "iopub.status.busy": "2020-12-07T00:28:17.561105Z",
     "iopub.status.idle": "2020-12-07T00:28:17.583498Z",
     "shell.execute_reply": "2020-12-07T00:28:17.582910Z"
    },
    "papermill": {
     "duration": 0.11969,
     "end_time": "2020-12-07T00:28:17.583637",
     "exception": false,
     "start_time": "2020-12-07T00:28:17.463947",
     "status": "completed"
    },
    "tags": []
   },
   "outputs": [
    {
     "name": "stdout",
     "output_type": "stream",
     "text": [
      "NAs for numerical features in train : 348\n",
      "Remaining NAs for numerical features in train : 0\n"
     ]
    }
   ],
   "source": [
    "# Handle remaining missing values for numerical features by using median as replacement\n",
    "print(\"NAs for numerical features in train : \" + str(train_num.isnull().values.sum()))\n",
    "train_num = train_num.fillna(train_num.median())\n",
    "print(\"Remaining NAs for numerical features in train : \" + str(train_num.isnull().values.sum()))"
   ]
  },
  {
   "cell_type": "code",
   "execution_count": 32,
   "metadata": {
    "execution": {
     "iopub.execute_input": "2020-12-07T00:28:17.776938Z",
     "iopub.status.busy": "2020-12-07T00:28:17.775588Z",
     "iopub.status.idle": "2020-12-07T00:28:17.795098Z",
     "shell.execute_reply": "2020-12-07T00:28:17.794447Z"
    },
    "papermill": {
     "duration": 0.118769,
     "end_time": "2020-12-07T00:28:17.795245",
     "exception": false,
     "start_time": "2020-12-07T00:28:17.676476",
     "status": "completed"
    },
    "tags": []
   },
   "outputs": [
    {
     "name": "stdout",
     "output_type": "stream",
     "text": [
      "NAs for numerical features in test : 330\n",
      "Remaining NAs for numerical features in test : 0\n"
     ]
    }
   ],
   "source": [
    "#test Handle remaining missing values for numerical features by using median as replacement\n",
    "print(\"NAs for numerical features in test : \" + str(test_num.isnull().values.sum()))\n",
    "test_num = test_num.fillna(test_num.median())\n",
    "print(\"Remaining NAs for numerical features in test : \" + str(test_num.isnull().values.sum()))"
   ]
  },
  {
   "cell_type": "markdown",
   "metadata": {
    "papermill": {
     "duration": 0.091849,
     "end_time": "2020-12-07T00:28:17.977673",
     "exception": false,
     "start_time": "2020-12-07T00:28:17.885824",
     "status": "completed"
    },
    "tags": []
   },
   "source": [
    "# Handle skewness of numerical variables"
   ]
  },
  {
   "cell_type": "code",
   "execution_count": 33,
   "metadata": {
    "execution": {
     "iopub.execute_input": "2020-12-07T00:28:18.222265Z",
     "iopub.status.busy": "2020-12-07T00:28:18.221477Z",
     "iopub.status.idle": "2020-12-07T00:28:18.246957Z",
     "shell.execute_reply": "2020-12-07T00:28:18.246192Z"
    },
    "papermill": {
     "duration": 0.124473,
     "end_time": "2020-12-07T00:28:18.247084",
     "exception": false,
     "start_time": "2020-12-07T00:28:18.122611",
     "status": "completed"
    },
    "tags": []
   },
   "outputs": [
    {
     "data": {
      "text/plain": [
       "MiscVal         24.452\n",
       "PoolArea        14.813\n",
       "LotArea         12.195\n",
       "3SsnPorch       10.294\n",
       "LowQualFinSF     9.002\n",
       "KitchenAbvGr     4.484\n",
       "BsmtFinSF2       4.251\n",
       "ScreenPorch      4.118\n",
       "BsmtHalfBath     4.099\n",
       "EnclosedPorch    3.087\n",
       "MasVnrArea       2.675\n",
       "LotFrontage      2.407\n",
       "OpenPorchSF      2.362\n",
       "BsmtFinSF1       1.684\n",
       "WoodDeckSF       1.540\n",
       "TotalBsmtSF      1.523\n",
       "MSSubClass       1.406\n",
       "1stFlrSF         1.375\n",
       "GrLivArea        1.365\n",
       "BsmtUnfSF        0.919\n",
       "2ndFlrSF         0.812\n",
       "OverallCond      0.692\n",
       "TotRmsAbvGrd     0.676\n",
       "HalfBath         0.675\n",
       "Fireplaces       0.649\n",
       "BsmtFullBath     0.595\n",
       "OverallQual      0.217\n",
       "MoSold           0.212\n",
       "BedroomAbvGr     0.212\n",
       "GarageArea       0.180\n",
       "YrSold           0.096\n",
       "FullBath         0.037\n",
       "GarageCars      -0.342\n",
       "YearRemodAdd    -0.503\n",
       "YearBuilt       -0.613\n",
       "GarageYrBlt     -0.678\n",
       "dtype: float64"
      ]
     },
     "execution_count": 33,
     "metadata": {},
     "output_type": "execute_result"
    }
   ],
   "source": [
    "from scipy.stats import skew \n",
    "skewness = train_num.apply(lambda x: skew(x))\n",
    "skewness.sort_values(ascending=False)"
   ]
  },
  {
   "cell_type": "code",
   "execution_count": 34,
   "metadata": {
    "execution": {
     "iopub.execute_input": "2020-12-07T00:28:18.444778Z",
     "iopub.status.busy": "2020-12-07T00:28:18.444050Z",
     "iopub.status.idle": "2020-12-07T00:28:18.466305Z",
     "shell.execute_reply": "2020-12-07T00:28:18.465543Z"
    },
    "papermill": {
     "duration": 0.125755,
     "end_time": "2020-12-07T00:28:18.466505",
     "exception": false,
     "start_time": "2020-12-07T00:28:18.340750",
     "status": "completed"
    },
    "tags": []
   },
   "outputs": [
    {
     "data": {
      "text/plain": [
       "PoolArea        20.176\n",
       "MiscVal         20.055\n",
       "LowQualFinSF    16.151\n",
       "3SsnPorch       12.511\n",
       "EnclosedPorch    4.664\n",
       "KitchenAbvGr     4.075\n",
       "BsmtFinSF2       4.039\n",
       "ScreenPorch      3.784\n",
       "BsmtHalfBath     3.779\n",
       "LotArea          3.112\n",
       "OpenPorchSF      2.685\n",
       "MasVnrArea       2.547\n",
       "WoodDeckSF       2.129\n",
       "1stFlrSF         1.557\n",
       "MSSubClass       1.345\n",
       "BsmtFinSF1       1.165\n",
       "GrLivArea        1.129\n",
       "BsmtUnfSF        0.920\n",
       "2ndFlrSF         0.912\n",
       "TotRmsAbvGrd     0.842\n",
       "Fireplaces       0.819\n",
       "TotalBsmtSF      0.813\n",
       "LotFrontage      0.754\n",
       "HalfBath         0.714\n",
       "BsmtFullBath     0.651\n",
       "OverallCond      0.449\n",
       "BedroomAbvGr     0.436\n",
       "GarageArea       0.300\n",
       "FullBath         0.296\n",
       "MoSold           0.183\n",
       "OverallQual      0.181\n",
       "YrSold           0.169\n",
       "Id               0.000\n",
       "GarageCars      -0.108\n",
       "GarageYrBlt     -0.171\n",
       "YearRemodAdd    -0.399\n",
       "YearBuilt       -0.587\n",
       "dtype: float64"
      ]
     },
     "execution_count": 34,
     "metadata": {},
     "output_type": "execute_result"
    }
   ],
   "source": [
    "skewness_t = test_num.apply(lambda x: skew(x))\n",
    "skewness_t.sort_values(ascending=False)"
   ]
  },
  {
   "cell_type": "code",
   "execution_count": 35,
   "metadata": {
    "execution": {
     "iopub.execute_input": "2020-12-07T00:28:18.690434Z",
     "iopub.status.busy": "2020-12-07T00:28:18.689205Z",
     "iopub.status.idle": "2020-12-07T00:28:18.693463Z",
     "shell.execute_reply": "2020-12-07T00:28:18.694299Z"
    },
    "papermill": {
     "duration": 0.134558,
     "end_time": "2020-12-07T00:28:18.694517",
     "exception": false,
     "start_time": "2020-12-07T00:28:18.559959",
     "status": "completed"
    },
    "tags": []
   },
   "outputs": [
    {
     "data": {
      "text/plain": [
       "Index(['MSSubClass', 'LotFrontage', 'LotArea', 'OverallCond', 'YearBuilt',\n",
       "       'YearRemodAdd', 'MasVnrArea', 'BsmtFinSF1', 'BsmtFinSF2', 'BsmtUnfSF',\n",
       "       'TotalBsmtSF', '1stFlrSF', '2ndFlrSF', 'LowQualFinSF', 'GrLivArea',\n",
       "       'BsmtFullBath', 'BsmtHalfBath', 'HalfBath', 'KitchenAbvGr',\n",
       "       'TotRmsAbvGrd', 'Fireplaces', 'GarageYrBlt', 'WoodDeckSF',\n",
       "       'OpenPorchSF', 'EnclosedPorch', '3SsnPorch', 'ScreenPorch', 'PoolArea',\n",
       "       'MiscVal'],\n",
       "      dtype='object')"
      ]
     },
     "execution_count": 35,
     "metadata": {},
     "output_type": "execute_result"
    }
   ],
   "source": [
    "skewness = skewness[abs(skewness)>0.5]\n",
    "skewness.index\n",
    "skew_features = train[skewness.index]\n",
    "skew_features.columns"
   ]
  },
  {
   "cell_type": "code",
   "execution_count": 36,
   "metadata": {
    "execution": {
     "iopub.execute_input": "2020-12-07T00:28:18.902993Z",
     "iopub.status.busy": "2020-12-07T00:28:18.901925Z",
     "iopub.status.idle": "2020-12-07T00:28:18.906013Z",
     "shell.execute_reply": "2020-12-07T00:28:18.905447Z"
    },
    "papermill": {
     "duration": 0.1077,
     "end_time": "2020-12-07T00:28:18.906139",
     "exception": false,
     "start_time": "2020-12-07T00:28:18.798439",
     "status": "completed"
    },
    "tags": []
   },
   "outputs": [
    {
     "data": {
      "text/plain": [
       "Index(['MSSubClass', 'LotFrontage', 'LotArea', 'OverallCond', 'YearBuilt',\n",
       "       'YearRemodAdd', 'MasVnrArea', 'BsmtFinSF1', 'BsmtFinSF2', 'BsmtUnfSF',\n",
       "       'TotalBsmtSF', '1stFlrSF', '2ndFlrSF', 'LowQualFinSF', 'GrLivArea',\n",
       "       'BsmtFullBath', 'BsmtHalfBath', 'HalfBath', 'KitchenAbvGr',\n",
       "       'TotRmsAbvGrd', 'Fireplaces', 'GarageYrBlt', 'WoodDeckSF',\n",
       "       'OpenPorchSF', 'EnclosedPorch', '3SsnPorch', 'ScreenPorch', 'PoolArea',\n",
       "       'MiscVal'],\n",
       "      dtype='object')"
      ]
     },
     "execution_count": 36,
     "metadata": {},
     "output_type": "execute_result"
    }
   ],
   "source": [
    "skewness_t = skewness[abs(skewness)>0.5]\n",
    "skewness_t.index\n",
    "skew_features_t = test[skewness.index]\n",
    "skew_features_t.columns"
   ]
  },
  {
   "cell_type": "code",
   "execution_count": 37,
   "metadata": {
    "execution": {
     "iopub.execute_input": "2020-12-07T00:28:19.102148Z",
     "iopub.status.busy": "2020-12-07T00:28:19.101404Z",
     "iopub.status.idle": "2020-12-07T00:28:19.105880Z",
     "shell.execute_reply": "2020-12-07T00:28:19.106383Z"
    },
    "papermill": {
     "duration": 0.10509,
     "end_time": "2020-12-07T00:28:19.106549",
     "exception": false,
     "start_time": "2020-12-07T00:28:19.001459",
     "status": "completed"
    },
    "tags": []
   },
   "outputs": [],
   "source": [
    "#we can treat skewness of a feature with the help fof log transformation.so we'll apply the same here.\n",
    "skew_features = np.log1p(skew_features)"
   ]
  },
  {
   "cell_type": "code",
   "execution_count": 38,
   "metadata": {
    "execution": {
     "iopub.execute_input": "2020-12-07T00:28:19.302577Z",
     "iopub.status.busy": "2020-12-07T00:28:19.301828Z",
     "iopub.status.idle": "2020-12-07T00:28:19.306120Z",
     "shell.execute_reply": "2020-12-07T00:28:19.305413Z"
    },
    "papermill": {
     "duration": 0.103871,
     "end_time": "2020-12-07T00:28:19.306243",
     "exception": false,
     "start_time": "2020-12-07T00:28:19.202372",
     "status": "completed"
    },
    "tags": []
   },
   "outputs": [],
   "source": [
    "#test we can treat skewness of a feature with the help fof log transformation.so we'll apply the same here.\n",
    "skew_features_t = np.log1p(skew_features_t)"
   ]
  },
  {
   "cell_type": "code",
   "execution_count": 39,
   "metadata": {
    "execution": {
     "iopub.execute_input": "2020-12-07T00:28:19.519647Z",
     "iopub.status.busy": "2020-12-07T00:28:19.511029Z",
     "iopub.status.idle": "2020-12-07T00:28:19.535131Z",
     "shell.execute_reply": "2020-12-07T00:28:19.535643Z"
    },
    "papermill": {
     "duration": 0.12832,
     "end_time": "2020-12-07T00:28:19.535829",
     "exception": false,
     "start_time": "2020-12-07T00:28:19.407509",
     "status": "completed"
    },
    "tags": []
   },
   "outputs": [
    {
     "data": {
      "text/plain": [
       "PoolArea        14.348\n",
       "3SsnPorch        7.727\n",
       "LowQualFinSF     7.453\n",
       "MiscVal          5.165\n",
       "BsmtHalfBath     3.929\n",
       "KitchenAbvGr     3.865\n",
       "ScreenPorch      3.147\n",
       "BsmtFinSF2       2.521\n",
       "EnclosedPorch    2.110\n",
       "HalfBath         0.566\n",
       "BsmtFullBath     0.419\n",
       "2ndFlrSF         0.289\n",
       "MSSubClass       0.249\n",
       "Fireplaces       0.182\n",
       "WoodDeckSF       0.153\n",
       "1stFlrSF         0.080\n",
       "GrLivArea       -0.006\n",
       "OpenPorchSF     -0.023\n",
       "TotRmsAbvGrd    -0.058\n",
       "LotArea         -0.137\n",
       "OverallCond     -0.254\n",
       "YearRemodAdd    -0.510\n",
       "BsmtFinSF1      -0.618\n",
       "YearBuilt       -0.640\n",
       "BsmtUnfSF       -2.184\n",
       "TotalBsmtSF     -5.149\n",
       "LotFrontage        nan\n",
       "MasVnrArea         nan\n",
       "GarageYrBlt        nan\n",
       "dtype: float64"
      ]
     },
     "execution_count": 39,
     "metadata": {},
     "output_type": "execute_result"
    }
   ],
   "source": [
    "skewnessx = skew_features.apply(lambda x: skew(x))\n",
    "skewnessx.sort_values(ascending=False)"
   ]
  },
  {
   "cell_type": "code",
   "execution_count": 40,
   "metadata": {
    "execution": {
     "iopub.execute_input": "2020-12-07T00:28:19.736943Z",
     "iopub.status.busy": "2020-12-07T00:28:19.736126Z",
     "iopub.status.idle": "2020-12-07T00:28:19.757116Z",
     "shell.execute_reply": "2020-12-07T00:28:19.756362Z"
    },
    "papermill": {
     "duration": 0.124825,
     "end_time": "2020-12-07T00:28:19.757241",
     "exception": false,
     "start_time": "2020-12-07T00:28:19.632416",
     "status": "completed"
    },
    "tags": []
   },
   "outputs": [
    {
     "data": {
      "text/plain": [
       "PoolArea        15.705\n",
       "3SsnPorch       10.533\n",
       "LowQualFinSF    10.308\n",
       "MiscVal          5.257\n",
       "KitchenAbvGr     3.147\n",
       "ScreenPorch      2.769\n",
       "EnclosedPorch    1.826\n",
       "HalfBath         0.596\n",
       "2ndFlrSF         0.321\n",
       "Fireplaces       0.294\n",
       "MSSubClass       0.242\n",
       "WoodDeckSF       0.163\n",
       "TotRmsAbvGrd     0.134\n",
       "1stFlrSF         0.053\n",
       "GrLivArea        0.028\n",
       "OpenPorchSF     -0.060\n",
       "YearRemodAdd    -0.406\n",
       "YearBuilt       -0.612\n",
       "LotArea         -0.915\n",
       "OverallCond     -1.160\n",
       "LotFrontage        nan\n",
       "MasVnrArea         nan\n",
       "BsmtFinSF1         nan\n",
       "BsmtFinSF2         nan\n",
       "BsmtUnfSF          nan\n",
       "TotalBsmtSF        nan\n",
       "BsmtFullBath       nan\n",
       "BsmtHalfBath       nan\n",
       "GarageYrBlt        nan\n",
       "dtype: float64"
      ]
     },
     "execution_count": 40,
     "metadata": {},
     "output_type": "execute_result"
    }
   ],
   "source": [
    "skewnessx_t = skew_features_t.apply(lambda x: skew(x))\n",
    "skewnessx_t.sort_values(ascending=False)"
   ]
  },
  {
   "cell_type": "code",
   "execution_count": 41,
   "metadata": {
    "execution": {
     "iopub.execute_input": "2020-12-07T00:28:19.959416Z",
     "iopub.status.busy": "2020-12-07T00:28:19.958635Z",
     "iopub.status.idle": "2020-12-07T00:28:20.006390Z",
     "shell.execute_reply": "2020-12-07T00:28:20.005617Z"
    },
    "papermill": {
     "duration": 0.152034,
     "end_time": "2020-12-07T00:28:20.006521",
     "exception": false,
     "start_time": "2020-12-07T00:28:19.854487",
     "status": "completed"
    },
    "tags": []
   },
   "outputs": [
    {
     "data": {
      "text/plain": [
       "(1460, 239)"
      ]
     },
     "execution_count": 41,
     "metadata": {},
     "output_type": "execute_result"
    }
   ],
   "source": [
    "# Create dummy features for categorical values via one-hot encoding\n",
    "train_cat.shape \n",
    "train_cat = pd.get_dummies(train_cat)\n",
    "train_cat.shape"
   ]
  },
  {
   "cell_type": "code",
   "execution_count": 42,
   "metadata": {
    "execution": {
     "iopub.execute_input": "2020-12-07T00:28:20.211358Z",
     "iopub.status.busy": "2020-12-07T00:28:20.208575Z",
     "iopub.status.idle": "2020-12-07T00:28:20.258159Z",
     "shell.execute_reply": "2020-12-07T00:28:20.258756Z"
    },
    "papermill": {
     "duration": 0.154892,
     "end_time": "2020-12-07T00:28:20.258922",
     "exception": false,
     "start_time": "2020-12-07T00:28:20.104030",
     "status": "completed"
    },
    "tags": []
   },
   "outputs": [
    {
     "data": {
      "text/plain": [
       "(1459, 223)"
      ]
     },
     "execution_count": 42,
     "metadata": {},
     "output_type": "execute_result"
    }
   ],
   "source": [
    "# test Create dummy features for categorical values via one-hot encoding\n",
    "\n",
    "test_cat = pd.get_dummies(test_cat)\n",
    "test_cat.shape"
   ]
  },
  {
   "cell_type": "code",
   "execution_count": 43,
   "metadata": {
    "execution": {
     "iopub.execute_input": "2020-12-07T00:28:20.462981Z",
     "iopub.status.busy": "2020-12-07T00:28:20.462228Z",
     "iopub.status.idle": "2020-12-07T00:28:20.483633Z",
     "shell.execute_reply": "2020-12-07T00:28:20.482946Z"
    },
    "papermill": {
     "duration": 0.126564,
     "end_time": "2020-12-07T00:28:20.483773",
     "exception": false,
     "start_time": "2020-12-07T00:28:20.357209",
     "status": "completed"
    },
    "tags": []
   },
   "outputs": [
    {
     "data": {
      "text/html": [
       "<div>\n",
       "<style scoped>\n",
       "    .dataframe tbody tr th:only-of-type {\n",
       "        vertical-align: middle;\n",
       "    }\n",
       "\n",
       "    .dataframe tbody tr th {\n",
       "        vertical-align: top;\n",
       "    }\n",
       "\n",
       "    .dataframe thead th {\n",
       "        text-align: right;\n",
       "    }\n",
       "</style>\n",
       "<table border=\"1\" class=\"dataframe\">\n",
       "  <thead>\n",
       "    <tr style=\"text-align: right;\">\n",
       "      <th></th>\n",
       "      <th>MSZoning_C (all)</th>\n",
       "      <th>MSZoning_FV</th>\n",
       "      <th>MSZoning_RH</th>\n",
       "      <th>MSZoning_RL</th>\n",
       "      <th>MSZoning_RM</th>\n",
       "      <th>Street_Grvl</th>\n",
       "      <th>Street_Pave</th>\n",
       "      <th>LotShape_IR1</th>\n",
       "      <th>LotShape_IR2</th>\n",
       "      <th>LotShape_IR3</th>\n",
       "      <th>...</th>\n",
       "      <th>SaleType_ConLw</th>\n",
       "      <th>SaleType_New</th>\n",
       "      <th>SaleType_Oth</th>\n",
       "      <th>SaleType_WD</th>\n",
       "      <th>SaleCondition_Abnorml</th>\n",
       "      <th>SaleCondition_AdjLand</th>\n",
       "      <th>SaleCondition_Alloca</th>\n",
       "      <th>SaleCondition_Family</th>\n",
       "      <th>SaleCondition_Normal</th>\n",
       "      <th>SaleCondition_Partial</th>\n",
       "    </tr>\n",
       "  </thead>\n",
       "  <tbody>\n",
       "    <tr>\n",
       "      <th>0</th>\n",
       "      <td>0</td>\n",
       "      <td>0</td>\n",
       "      <td>0</td>\n",
       "      <td>1</td>\n",
       "      <td>0</td>\n",
       "      <td>0</td>\n",
       "      <td>1</td>\n",
       "      <td>0</td>\n",
       "      <td>0</td>\n",
       "      <td>0</td>\n",
       "      <td>...</td>\n",
       "      <td>0</td>\n",
       "      <td>0</td>\n",
       "      <td>0</td>\n",
       "      <td>1</td>\n",
       "      <td>0</td>\n",
       "      <td>0</td>\n",
       "      <td>0</td>\n",
       "      <td>0</td>\n",
       "      <td>1</td>\n",
       "      <td>0</td>\n",
       "    </tr>\n",
       "    <tr>\n",
       "      <th>1</th>\n",
       "      <td>0</td>\n",
       "      <td>0</td>\n",
       "      <td>0</td>\n",
       "      <td>1</td>\n",
       "      <td>0</td>\n",
       "      <td>0</td>\n",
       "      <td>1</td>\n",
       "      <td>0</td>\n",
       "      <td>0</td>\n",
       "      <td>0</td>\n",
       "      <td>...</td>\n",
       "      <td>0</td>\n",
       "      <td>0</td>\n",
       "      <td>0</td>\n",
       "      <td>1</td>\n",
       "      <td>0</td>\n",
       "      <td>0</td>\n",
       "      <td>0</td>\n",
       "      <td>0</td>\n",
       "      <td>1</td>\n",
       "      <td>0</td>\n",
       "    </tr>\n",
       "    <tr>\n",
       "      <th>2</th>\n",
       "      <td>0</td>\n",
       "      <td>0</td>\n",
       "      <td>0</td>\n",
       "      <td>1</td>\n",
       "      <td>0</td>\n",
       "      <td>0</td>\n",
       "      <td>1</td>\n",
       "      <td>1</td>\n",
       "      <td>0</td>\n",
       "      <td>0</td>\n",
       "      <td>...</td>\n",
       "      <td>0</td>\n",
       "      <td>0</td>\n",
       "      <td>0</td>\n",
       "      <td>1</td>\n",
       "      <td>0</td>\n",
       "      <td>0</td>\n",
       "      <td>0</td>\n",
       "      <td>0</td>\n",
       "      <td>1</td>\n",
       "      <td>0</td>\n",
       "    </tr>\n",
       "    <tr>\n",
       "      <th>3</th>\n",
       "      <td>0</td>\n",
       "      <td>0</td>\n",
       "      <td>0</td>\n",
       "      <td>1</td>\n",
       "      <td>0</td>\n",
       "      <td>0</td>\n",
       "      <td>1</td>\n",
       "      <td>1</td>\n",
       "      <td>0</td>\n",
       "      <td>0</td>\n",
       "      <td>...</td>\n",
       "      <td>0</td>\n",
       "      <td>0</td>\n",
       "      <td>0</td>\n",
       "      <td>1</td>\n",
       "      <td>1</td>\n",
       "      <td>0</td>\n",
       "      <td>0</td>\n",
       "      <td>0</td>\n",
       "      <td>0</td>\n",
       "      <td>0</td>\n",
       "    </tr>\n",
       "    <tr>\n",
       "      <th>4</th>\n",
       "      <td>0</td>\n",
       "      <td>0</td>\n",
       "      <td>0</td>\n",
       "      <td>1</td>\n",
       "      <td>0</td>\n",
       "      <td>0</td>\n",
       "      <td>1</td>\n",
       "      <td>1</td>\n",
       "      <td>0</td>\n",
       "      <td>0</td>\n",
       "      <td>...</td>\n",
       "      <td>0</td>\n",
       "      <td>0</td>\n",
       "      <td>0</td>\n",
       "      <td>1</td>\n",
       "      <td>0</td>\n",
       "      <td>0</td>\n",
       "      <td>0</td>\n",
       "      <td>0</td>\n",
       "      <td>1</td>\n",
       "      <td>0</td>\n",
       "    </tr>\n",
       "  </tbody>\n",
       "</table>\n",
       "<p>5 rows × 239 columns</p>\n",
       "</div>"
      ],
      "text/plain": [
       "   MSZoning_C (all)  MSZoning_FV  MSZoning_RH  MSZoning_RL  MSZoning_RM  \\\n",
       "0                 0            0            0            1            0   \n",
       "1                 0            0            0            1            0   \n",
       "2                 0            0            0            1            0   \n",
       "3                 0            0            0            1            0   \n",
       "4                 0            0            0            1            0   \n",
       "\n",
       "   Street_Grvl  Street_Pave  LotShape_IR1  LotShape_IR2  LotShape_IR3  ...  \\\n",
       "0            0            1             0             0             0  ...   \n",
       "1            0            1             0             0             0  ...   \n",
       "2            0            1             1             0             0  ...   \n",
       "3            0            1             1             0             0  ...   \n",
       "4            0            1             1             0             0  ...   \n",
       "\n",
       "   SaleType_ConLw  SaleType_New  SaleType_Oth  SaleType_WD  \\\n",
       "0               0             0             0            1   \n",
       "1               0             0             0            1   \n",
       "2               0             0             0            1   \n",
       "3               0             0             0            1   \n",
       "4               0             0             0            1   \n",
       "\n",
       "   SaleCondition_Abnorml  SaleCondition_AdjLand  SaleCondition_Alloca  \\\n",
       "0                      0                      0                     0   \n",
       "1                      0                      0                     0   \n",
       "2                      0                      0                     0   \n",
       "3                      1                      0                     0   \n",
       "4                      0                      0                     0   \n",
       "\n",
       "   SaleCondition_Family  SaleCondition_Normal  SaleCondition_Partial  \n",
       "0                     0                     1                      0  \n",
       "1                     0                     1                      0  \n",
       "2                     0                     1                      0  \n",
       "3                     0                     0                      0  \n",
       "4                     0                     1                      0  \n",
       "\n",
       "[5 rows x 239 columns]"
      ]
     },
     "execution_count": 43,
     "metadata": {},
     "output_type": "execute_result"
    }
   ],
   "source": [
    "train_cat.head()"
   ]
  },
  {
   "cell_type": "code",
   "execution_count": 44,
   "metadata": {
    "execution": {
     "iopub.execute_input": "2020-12-07T00:28:20.687108Z",
     "iopub.status.busy": "2020-12-07T00:28:20.686327Z",
     "iopub.status.idle": "2020-12-07T00:28:20.695901Z",
     "shell.execute_reply": "2020-12-07T00:28:20.695110Z"
    },
    "papermill": {
     "duration": 0.113595,
     "end_time": "2020-12-07T00:28:20.696039",
     "exception": false,
     "start_time": "2020-12-07T00:28:20.582444",
     "status": "completed"
    },
    "tags": []
   },
   "outputs": [
    {
     "data": {
      "text/plain": [
       "'0'"
      ]
     },
     "execution_count": 44,
     "metadata": {},
     "output_type": "execute_result"
    }
   ],
   "source": [
    "str(train_cat.isnull().values.sum())"
   ]
  },
  {
   "cell_type": "markdown",
   "metadata": {
    "papermill": {
     "duration": 0.098351,
     "end_time": "2020-12-07T00:28:20.893902",
     "exception": false,
     "start_time": "2020-12-07T00:28:20.795551",
     "status": "completed"
    },
    "tags": []
   },
   "source": [
    "# Predictive Modeling"
   ]
  },
  {
   "cell_type": "code",
   "execution_count": 45,
   "metadata": {
    "execution": {
     "iopub.execute_input": "2020-12-07T00:28:21.099917Z",
     "iopub.status.busy": "2020-12-07T00:28:21.098936Z",
     "iopub.status.idle": "2020-12-07T00:28:21.102157Z",
     "shell.execute_reply": "2020-12-07T00:28:21.101477Z"
    },
    "papermill": {
     "duration": 0.109007,
     "end_time": "2020-12-07T00:28:21.102282",
     "exception": false,
     "start_time": "2020-12-07T00:28:20.993275",
     "status": "completed"
    },
    "tags": []
   },
   "outputs": [],
   "source": [
    "from sklearn.model_selection import cross_val_score, train_test_split\n",
    "from sklearn.preprocessing import StandardScaler\n",
    "from sklearn.linear_model import LinearRegression, RidgeCV, LassoCV, ElasticNetCV\n",
    "from sklearn.metrics import mean_squared_error, make_scorer\n",
    "from xgboost import XGBRegressor"
   ]
  },
  {
   "cell_type": "markdown",
   "metadata": {
    "papermill": {
     "duration": 0.099762,
     "end_time": "2020-12-07T00:28:21.302607",
     "exception": false,
     "start_time": "2020-12-07T00:28:21.202845",
     "status": "completed"
    },
    "tags": []
   },
   "source": [
    "Now after transformation(preprocessing) we'll join num and cat get the whole train set back."
   ]
  },
  {
   "cell_type": "code",
   "execution_count": 46,
   "metadata": {
    "execution": {
     "iopub.execute_input": "2020-12-07T00:28:21.509192Z",
     "iopub.status.busy": "2020-12-07T00:28:21.508250Z",
     "iopub.status.idle": "2020-12-07T00:28:21.512335Z",
     "shell.execute_reply": "2020-12-07T00:28:21.511588Z"
    },
    "papermill": {
     "duration": 0.10988,
     "end_time": "2020-12-07T00:28:21.512492",
     "exception": false,
     "start_time": "2020-12-07T00:28:21.402612",
     "status": "completed"
    },
    "tags": []
   },
   "outputs": [],
   "source": [
    "train.SalePrice = np.log1p(train.SalePrice )\n",
    "y = train.SalePrice"
   ]
  },
  {
   "cell_type": "code",
   "execution_count": 47,
   "metadata": {
    "execution": {
     "iopub.execute_input": "2020-12-07T00:28:21.724745Z",
     "iopub.status.busy": "2020-12-07T00:28:21.722217Z",
     "iopub.status.idle": "2020-12-07T00:28:22.104561Z",
     "shell.execute_reply": "2020-12-07T00:28:22.103902Z"
    },
    "papermill": {
     "duration": 0.49335,
     "end_time": "2020-12-07T00:28:22.104685",
     "exception": false,
     "start_time": "2020-12-07T00:28:21.611335",
     "status": "completed"
    },
    "tags": []
   },
   "outputs": [
    {
     "data": {
      "text/plain": [
       "<matplotlib.axes._subplots.AxesSubplot at 0x7fdc60c7f050>"
      ]
     },
     "execution_count": 47,
     "metadata": {},
     "output_type": "execute_result"
    },
    {
     "data": {
      "image/png": "[encoded data removed]",
      "text/plain": [
       "<Figure size 432x288 with 1 Axes>"
      ]
     },
     "metadata": {},
     "output_type": "display_data"
    }
   ],
   "source": [
    "sns.distplot(y)"
   ]
  },
  {
   "cell_type": "code",
   "execution_count": 48,
   "metadata": {
    "execution": {
     "iopub.execute_input": "2020-12-07T00:28:22.324592Z",
     "iopub.status.busy": "2020-12-07T00:28:22.323458Z",
     "iopub.status.idle": "2020-12-07T00:28:23.354231Z",
     "shell.execute_reply": "2020-12-07T00:28:23.353499Z"
    },
    "papermill": {
     "duration": 1.14714,
     "end_time": "2020-12-07T00:28:23.354385",
     "exception": false,
     "start_time": "2020-12-07T00:28:22.207245",
     "status": "completed"
    },
    "tags": []
   },
   "outputs": [
    {
     "name": "stdout",
     "output_type": "stream",
     "text": [
      "\n",
      " mu = 12.02 and sigma = 0.40\n",
      "\n"
     ]
    },
    {
     "data": {
      "image/png": "[encoded data removed]",
      "text/plain": [
       "<Figure size 432x288 with 1 Axes>"
      ]
     },
     "metadata": {},
     "output_type": "display_data"
    },
    {
     "data": {
      "image/png": "[encoded data removed]",
      "text/plain": [
       "<Figure size 432x288 with 1 Axes>"
      ]
     },
     "metadata": {},
     "output_type": "display_data"
    }
   ],
   "source": [
    "sns.distplot(y , fit=norm);\n",
    "# Get the fitted parameters used by the function\n",
    "(mu, sigma) = norm.fit(y)\n",
    "print( '\\n mu = {:.2f} and sigma = {:.2f}\\n'.format(mu, sigma))\n",
    "#Now plot the distribution\n",
    "plt.legend(['Normal dist. ($\\mu=$ {:.2f} and $\\sigma=$ {:.2f} )'.format(mu, sigma)],\n",
    "            loc='best')\n",
    "plt.ylabel('Frequency')\n",
    "plt.title('log(Sale Price+1) distribution')\n",
    "#Get also the QQ-plot\n",
    "fig = plt.figure()\n",
    "res = stats.probplot(y, plot=plt)\n",
    "plt.show();"
   ]
  },
  {
   "cell_type": "code",
   "execution_count": 49,
   "metadata": {
    "execution": {
     "iopub.execute_input": "2020-12-07T00:28:23.571855Z",
     "iopub.status.busy": "2020-12-07T00:28:23.571064Z",
     "iopub.status.idle": "2020-12-07T00:28:23.579314Z",
     "shell.execute_reply": "2020-12-07T00:28:23.579886Z"
    },
    "papermill": {
     "duration": 0.118622,
     "end_time": "2020-12-07T00:28:23.580045",
     "exception": false,
     "start_time": "2020-12-07T00:28:23.461423",
     "status": "completed"
    },
    "tags": []
   },
   "outputs": [
    {
     "data": {
      "text/plain": [
       "(1460, 275)"
      ]
     },
     "execution_count": 49,
     "metadata": {},
     "output_type": "execute_result"
    }
   ],
   "source": [
    "train = pd.concat([train_cat,train_num],axis=1)\n",
    "train.shape"
   ]
  },
  {
   "cell_type": "code",
   "execution_count": 50,
   "metadata": {
    "execution": {
     "iopub.execute_input": "2020-12-07T00:28:23.795400Z",
     "iopub.status.busy": "2020-12-07T00:28:23.794652Z",
     "iopub.status.idle": "2020-12-07T00:28:23.803905Z",
     "shell.execute_reply": "2020-12-07T00:28:23.803165Z"
    },
    "papermill": {
     "duration": 0.119953,
     "end_time": "2020-12-07T00:28:23.804026",
     "exception": false,
     "start_time": "2020-12-07T00:28:23.684073",
     "status": "completed"
    },
    "tags": []
   },
   "outputs": [
    {
     "data": {
      "text/plain": [
       "(1459, 260)"
      ]
     },
     "execution_count": 50,
     "metadata": {},
     "output_type": "execute_result"
    }
   ],
   "source": [
    "test_new = pd.concat([test_cat,test_num],axis=1)\n",
    "test_new.shape"
   ]
  },
  {
   "cell_type": "code",
   "execution_count": 51,
   "metadata": {
    "execution": {
     "iopub.execute_input": "2020-12-07T00:28:24.020793Z",
     "iopub.status.busy": "2020-12-07T00:28:24.019926Z",
     "iopub.status.idle": "2020-12-07T00:28:24.022269Z",
     "shell.execute_reply": "2020-12-07T00:28:24.022812Z"
    },
    "papermill": {
     "duration": 0.113786,
     "end_time": "2020-12-07T00:28:24.022968",
     "exception": false,
     "start_time": "2020-12-07T00:28:23.909182",
     "status": "completed"
    },
    "tags": []
   },
   "outputs": [],
   "source": [
    "#test vars from test dataset\n",
    "cols_t = test_new.columns.values.tolist()"
   ]
  },
  {
   "cell_type": "code",
   "execution_count": 52,
   "metadata": {
    "execution": {
     "iopub.execute_input": "2020-12-07T00:28:24.243115Z",
     "iopub.status.busy": "2020-12-07T00:28:24.242368Z",
     "iopub.status.idle": "2020-12-07T00:28:24.247620Z",
     "shell.execute_reply": "2020-12-07T00:28:24.246881Z"
    },
    "papermill": {
     "duration": 0.118239,
     "end_time": "2020-12-07T00:28:24.247753",
     "exception": false,
     "start_time": "2020-12-07T00:28:24.129514",
     "status": "completed"
    },
    "tags": []
   },
   "outputs": [],
   "source": [
    "#select train variables exist in test dataset\n",
    "train = train[train.columns.intersection(cols_t)]"
   ]
  },
  {
   "cell_type": "code",
   "execution_count": 53,
   "metadata": {
    "execution": {
     "iopub.execute_input": "2020-12-07T00:28:24.465063Z",
     "iopub.status.busy": "2020-12-07T00:28:24.463956Z",
     "iopub.status.idle": "2020-12-07T00:28:24.467689Z",
     "shell.execute_reply": "2020-12-07T00:28:24.468264Z"
    },
    "papermill": {
     "duration": 0.115026,
     "end_time": "2020-12-07T00:28:24.468428",
     "exception": false,
     "start_time": "2020-12-07T00:28:24.353402",
     "status": "completed"
    },
    "tags": []
   },
   "outputs": [
    {
     "data": {
      "text/plain": [
       "(1460, 259)"
      ]
     },
     "execution_count": 53,
     "metadata": {},
     "output_type": "execute_result"
    }
   ],
   "source": [
    "train.shape"
   ]
  },
  {
   "cell_type": "code",
   "execution_count": 54,
   "metadata": {
    "execution": {
     "iopub.execute_input": "2020-12-07T00:28:24.689736Z",
     "iopub.status.busy": "2020-12-07T00:28:24.688571Z",
     "iopub.status.idle": "2020-12-07T00:28:24.694405Z",
     "shell.execute_reply": "2020-12-07T00:28:24.693792Z"
    },
    "papermill": {
     "duration": 0.118492,
     "end_time": "2020-12-07T00:28:24.694539",
     "exception": false,
     "start_time": "2020-12-07T00:28:24.576047",
     "status": "completed"
    },
    "tags": []
   },
   "outputs": [],
   "source": [
    "#split the data to train the model \n",
    "X_train,X_test,y_train,y_test = train_test_split(train,y,test_size = 0.3,random_state= 0)"
   ]
  },
  {
   "cell_type": "code",
   "execution_count": 55,
   "metadata": {
    "execution": {
     "iopub.execute_input": "2020-12-07T00:28:24.913061Z",
     "iopub.status.busy": "2020-12-07T00:28:24.912133Z",
     "iopub.status.idle": "2020-12-07T00:28:24.916112Z",
     "shell.execute_reply": "2020-12-07T00:28:24.916603Z"
    },
    "papermill": {
     "duration": 0.115899,
     "end_time": "2020-12-07T00:28:24.916783",
     "exception": false,
     "start_time": "2020-12-07T00:28:24.800884",
     "status": "completed"
    },
    "tags": []
   },
   "outputs": [
    {
     "data": {
      "text/plain": [
       "((1022, 259), (438, 259), (1022,), (438,))"
      ]
     },
     "execution_count": 55,
     "metadata": {},
     "output_type": "execute_result"
    }
   ],
   "source": [
    "X_train.shape,X_test.shape,y_train.shape,y_test.shape"
   ]
  },
  {
   "cell_type": "markdown",
   "metadata": {
    "papermill": {
     "duration": 0.106369,
     "end_time": "2020-12-07T00:28:25.129932",
     "exception": false,
     "start_time": "2020-12-07T00:28:25.023563",
     "status": "completed"
    },
    "tags": []
   },
   "source": [
    "# Feature selection\n",
    "https://machinelearningmastery.com/feature-selection-for-regression-data/\n",
    "\n",
    "The scikit-learn machine library provides an implementation of the correlation statistic in the f_regression() function. This function can be used in a feature selection strategy, such as selecting the top k most relevant features (largest values) via the SelectKBest class."
   ]
  },
  {
   "cell_type": "code",
   "execution_count": 56,
   "metadata": {
    "execution": {
     "iopub.execute_input": "2020-12-07T00:28:25.358427Z",
     "iopub.status.busy": "2020-12-07T00:28:25.357596Z",
     "iopub.status.idle": "2020-12-07T00:28:32.390899Z",
     "shell.execute_reply": "2020-12-07T00:28:32.390156Z"
    },
    "papermill": {
     "duration": 7.154393,
     "end_time": "2020-12-07T00:28:32.391019",
     "exception": false,
     "start_time": "2020-12-07T00:28:25.236626",
     "status": "completed"
    },
    "tags": []
   },
   "outputs": [
    {
     "name": "stdout",
     "output_type": "stream",
     "text": [
      "Feature 0: 0.017292\n",
      "Feature 1: 0.029037\n",
      "Feature 2: 0.005578\n",
      "Feature 3: 0.059633\n",
      "Feature 4: 0.068973\n",
      "Feature 5: 0.000000\n",
      "Feature 6: 0.000000\n",
      "Feature 7: 0.057831\n",
      "Feature 8: 0.011718\n",
      "Feature 9: 0.002900\n",
      "Feature 10: 0.063029\n",
      "Feature 11: 0.011160\n",
      "Feature 12: 0.002808\n",
      "Feature 13: 0.001744\n",
      "Feature 14: 0.005241\n",
      "Feature 15: 0.012673\n",
      "Feature 16: 0.000000\n",
      "Feature 17: 0.016393\n",
      "Feature 18: 0.000888\n",
      "Feature 19: 0.000000\n",
      "Feature 20: 0.021344\n",
      "Feature 21: 0.001289\n",
      "Feature 22: 0.005748\n",
      "Feature 23: 0.000000\n",
      "Feature 24: 0.005910\n",
      "Feature 25: 0.000000\n",
      "Feature 26: 0.014548\n",
      "Feature 27: 0.010267\n",
      "Feature 28: 0.003788\n",
      "Feature 29: 0.047505\n",
      "Feature 30: 0.005912\n",
      "Feature 31: 0.029305\n",
      "Feature 32: 0.048724\n",
      "Feature 33: 0.027543\n",
      "Feature 34: 0.012619\n",
      "Feature 35: 0.021372\n",
      "Feature 36: 0.059057\n",
      "Feature 37: 0.009679\n",
      "Feature 38: 0.023567\n",
      "Feature 39: 0.054349\n",
      "Feature 40: 0.071893\n",
      "Feature 41: 0.024849\n",
      "Feature 42: 0.004587\n",
      "Feature 43: 0.024755\n",
      "Feature 44: 0.018597\n",
      "Feature 45: 0.035991\n",
      "Feature 46: 0.003328\n",
      "Feature 47: 0.012824\n",
      "Feature 48: 0.002653\n",
      "Feature 49: 0.014938\n",
      "Feature 50: 0.001677\n",
      "Feature 51: 0.008333\n",
      "Feature 52: 0.002410\n",
      "Feature 53: 0.005645\n",
      "Feature 54: 0.002487\n",
      "Feature 55: 0.004581\n",
      "Feature 56: 0.001081\n",
      "Feature 57: 0.000000\n",
      "Feature 58: 0.000527\n",
      "Feature 59: 0.000331\n",
      "Feature 60: 0.002220\n",
      "Feature 61: 0.000050\n",
      "Feature 62: 0.001217\n",
      "Feature 63: 0.017272\n",
      "Feature 64: 0.006264\n",
      "Feature 65: 0.021856\n",
      "Feature 66: 0.004839\n",
      "Feature 67: 0.000000\n",
      "Feature 68: 0.031545\n",
      "Feature 69: 0.008774\n",
      "Feature 70: 0.000175\n",
      "Feature 71: 0.000989\n",
      "Feature 72: 0.043604\n",
      "Feature 73: 0.008807\n",
      "Feature 74: 0.010634\n",
      "Feature 75: 0.001271\n",
      "Feature 76: 0.032986\n",
      "Feature 77: 0.001462\n",
      "Feature 78: 0.032637\n",
      "Feature 79: 0.000000\n",
      "Feature 80: 0.000000\n",
      "Feature 81: 0.003324\n",
      "Feature 82: 0.003492\n",
      "Feature 83: 0.004083\n",
      "Feature 84: 0.004409\n",
      "Feature 85: 0.013969\n",
      "Feature 86: 0.000784\n",
      "Feature 87: 0.000000\n",
      "Feature 88: 0.000000\n",
      "Feature 89: 0.000000\n",
      "Feature 90: 0.008325\n",
      "Feature 91: 0.026854\n",
      "Feature 92: 0.014962\n",
      "Feature 93: 0.008891\n",
      "Feature 94: 0.000000\n",
      "Feature 95: 0.087403\n",
      "Feature 96: 0.035260\n",
      "Feature 97: 0.006256\n",
      "Feature 98: 0.012427\n",
      "Feature 99: 0.000538\n",
      "Feature 100: 0.000555\n",
      "Feature 101: 0.000106\n",
      "Feature 102: 0.000000\n",
      "Feature 103: 0.010352\n",
      "Feature 104: 0.010674\n",
      "Feature 105: 0.000000\n",
      "Feature 106: 0.020217\n",
      "Feature 107: 0.008671\n",
      "Feature 108: 0.000000\n",
      "Feature 109: 0.000000\n",
      "Feature 110: 0.101743\n",
      "Feature 111: 0.038360\n",
      "Feature 112: 0.001890\n",
      "Feature 113: 0.006183\n",
      "Feature 114: 0.029386\n",
      "Feature 115: 0.088839\n",
      "Feature 116: 0.048202\n",
      "Feature 117: 0.052789\n",
      "Feature 118: 0.017915\n",
      "Feature 119: 0.212466\n",
      "Feature 120: 0.240853\n",
      "Feature 121: 0.001212\n",
      "Feature 122: 0.031060\n",
      "Feature 123: 0.000000\n",
      "Feature 124: 0.000000\n",
      "Feature 125: 0.000000\n",
      "Feature 126: 0.024387\n",
      "Feature 127: 0.088717\n",
      "Feature 128: 0.168098\n",
      "Feature 129: 0.019059\n",
      "Feature 130: 0.000000\n",
      "Feature 131: 0.000053\n",
      "Feature 132: 0.108496\n",
      "Feature 133: 0.011752\n",
      "Feature 134: 0.139616\n",
      "Feature 135: 0.169940\n",
      "Feature 136: 0.013517\n",
      "Feature 137: 0.014633\n",
      "Feature 138: 0.000015\n",
      "Feature 139: 0.011970\n",
      "Feature 140: 0.002227\n",
      "Feature 141: 0.039716\n",
      "Feature 142: 0.000799\n",
      "Feature 143: 0.004344\n",
      "Feature 144: 0.034546\n",
      "Feature 145: 0.000000\n",
      "Feature 146: 0.122944\n",
      "Feature 147: 0.006113\n",
      "Feature 148: 0.025348\n",
      "Feature 149: 0.021503\n",
      "Feature 150: 0.000000\n",
      "Feature 151: 0.000000\n",
      "Feature 152: 0.005488\n",
      "Feature 153: 0.000113\n",
      "Feature 154: 0.000000\n",
      "Feature 155: 0.000000\n",
      "Feature 156: 0.003676\n",
      "Feature 157: 0.000000\n",
      "Feature 158: 0.007724\n",
      "Feature 159: 0.000000\n",
      "Feature 160: 0.136404\n",
      "Feature 161: 0.014434\n",
      "Feature 162: 0.033808\n",
      "Feature 163: 0.000200\n",
      "Feature 164: 0.067859\n",
      "Feature 165: 0.065183\n",
      "Feature 166: 0.068176\n",
      "Feature 167: 0.028608\n",
      "Feature 168: 0.012835\n",
      "Feature 169: 0.000211\n",
      "Feature 170: 0.042499\n",
      "Feature 171: 0.077425\n",
      "Feature 172: 0.027386\n",
      "Feature 173: 0.166972\n",
      "Feature 174: 0.206262\n",
      "Feature 175: 0.002905\n",
      "Feature 176: 0.000398\n",
      "Feature 177: 0.000000\n",
      "Feature 178: 0.013061\n",
      "Feature 179: 0.000000\n",
      "Feature 180: 0.000361\n",
      "Feature 181: 0.015405\n",
      "Feature 182: 0.029955\n",
      "Feature 183: 0.002727\n",
      "Feature 184: 0.069237\n",
      "Feature 185: 0.004270\n",
      "Feature 186: 0.064493\n",
      "Feature 187: 0.002207\n",
      "Feature 188: 0.109192\n",
      "Feature 189: 0.000271\n",
      "Feature 190: 0.025340\n",
      "Feature 191: 0.007847\n",
      "Feature 192: 0.105084\n",
      "Feature 193: 0.100670\n",
      "Feature 194: 0.064105\n",
      "Feature 195: 0.127183\n",
      "Feature 196: 0.016340\n",
      "Feature 197: 0.005117\n",
      "Feature 198: 0.000000\n",
      "Feature 199: 0.074914\n",
      "Feature 200: 0.000000\n",
      "Feature 201: 0.015151\n",
      "Feature 202: 0.000166\n",
      "Feature 203: 0.003428\n",
      "Feature 204: 0.080964\n",
      "Feature 205: 0.049650\n",
      "Feature 206: 0.010882\n",
      "Feature 207: 0.052121\n",
      "Feature 208: 0.000000\n",
      "Feature 209: 0.000000\n",
      "Feature 210: 0.000272\n",
      "Feature 211: 0.000000\n",
      "Feature 212: 0.000000\n",
      "Feature 213: 0.000000\n",
      "Feature 214: 0.073211\n",
      "Feature 215: 0.000000\n",
      "Feature 216: 0.040442\n",
      "Feature 217: 0.002626\n",
      "Feature 218: 0.000000\n",
      "Feature 219: 0.000000\n",
      "Feature 220: 0.000583\n",
      "Feature 221: 0.027945\n",
      "Feature 222: 0.074563\n",
      "Feature 223: 0.249968\n",
      "Feature 224: 0.217721\n",
      "Feature 225: 0.169567\n",
      "Feature 226: 0.534788\n",
      "Feature 227: 0.107867\n",
      "Feature 228: 0.338995\n",
      "Feature 229: 0.226736\n",
      "Feature 230: 0.101518\n",
      "Feature 231: 0.164842\n",
      "Feature 232: 0.000685\n",
      "Feature 233: 0.124677\n",
      "Feature 234: 0.384495\n",
      "Feature 235: 0.289990\n",
      "Feature 236: 0.222336\n",
      "Feature 237: 0.001890\n",
      "Feature 238: 0.479729\n",
      "Feature 239: 0.025899\n",
      "Feature 240: 0.000000\n",
      "Feature 241: 0.267439\n",
      "Feature 242: 0.076579\n",
      "Feature 243: 0.048129\n",
      "Feature 244: 0.019358\n",
      "Feature 245: 0.187979\n",
      "Feature 246: 0.181508\n",
      "Feature 247: 0.266576\n",
      "Feature 248: 0.377440\n",
      "Feature 249: 0.357728\n",
      "Feature 250: 0.072189\n",
      "Feature 251: 0.181788\n",
      "Feature 252: 0.022610\n",
      "Feature 253: 0.000725\n",
      "Feature 254: 0.020907\n",
      "Feature 255: 0.000000\n",
      "Feature 256: 0.005208\n",
      "Feature 257: 0.000000\n",
      "Feature 258: 0.000000\n"
     ]
    },
    {
     "data": {
      "image/png": "[encoded data removed]",
      "text/plain": [
       "<Figure size 432x288 with 1 Axes>"
      ]
     },
     "metadata": {},
     "output_type": "display_data"
    }
   ],
   "source": [
    "# example of mutual information feature selection for numerical input data\n",
    "from sklearn.datasets import make_regression\n",
    "from sklearn.model_selection import train_test_split\n",
    "from sklearn.feature_selection import SelectKBest\n",
    "from sklearn.feature_selection import mutual_info_regression\n",
    "from matplotlib import pyplot\n",
    "\n",
    "# feature selection\n",
    "def select_features(X_train, y_train, X_test):\n",
    "    # configure to select all features\n",
    "    fs = SelectKBest(score_func=mutual_info_regression, k=88)\n",
    "    # learn relationship from training data\n",
    "    fs.fit(X_train, y_train)\n",
    "    \n",
    "    # transform train input data\n",
    "    X_train_fs = fs.transform(X_train)\n",
    "    # transform validation input data\n",
    "    X_test_fs = fs.transform(X_test)\n",
    "            \n",
    "    cols = fs.get_support(indices=True)\n",
    "    X_train_new = X_train.iloc[:,cols]\n",
    "    X_test_new = X_test.iloc[:,cols]\n",
    "    \n",
    "    \n",
    "    return X_train_fs, X_test_fs, fs, cols, X_train_new, X_test_new\n",
    "\n",
    "\n",
    "# feature selection\n",
    "#_, _, fs,  X_train_new, X_test_new = select_features(X_train, y_train, X_test)\n",
    "X_train_fs, X_test_fs, fs, cols, X_train_new, X_test_new = select_features(X_train, y_train, X_test)\n",
    "# what are scores for the features\n",
    "for i in range(len(fs.scores_)):\n",
    "    print('Feature %d: %f' % (i, fs.scores_[i]))\n",
    "# plot the scores\n",
    "pyplot.bar([i for i in range(len(fs.scores_))], fs.scores_)\n",
    "pyplot.show()"
   ]
  },
  {
   "cell_type": "code",
   "execution_count": 57,
   "metadata": {
    "execution": {
     "iopub.execute_input": "2020-12-07T00:28:32.622687Z",
     "iopub.status.busy": "2020-12-07T00:28:32.621679Z",
     "iopub.status.idle": "2020-12-07T00:28:32.624845Z",
     "shell.execute_reply": "2020-12-07T00:28:32.624162Z"
    },
    "papermill": {
     "duration": 0.123882,
     "end_time": "2020-12-07T00:28:32.624971",
     "exception": false,
     "start_time": "2020-12-07T00:28:32.501089",
     "status": "completed"
    },
    "tags": []
   },
   "outputs": [],
   "source": [
    "#get selected cols\n",
    "cols_t_fs = X_train_new.columns.values.tolist()"
   ]
  },
  {
   "cell_type": "code",
   "execution_count": 58,
   "metadata": {
    "execution": {
     "iopub.execute_input": "2020-12-07T00:28:32.850138Z",
     "iopub.status.busy": "2020-12-07T00:28:32.848908Z",
     "iopub.status.idle": "2020-12-07T00:28:32.853654Z",
     "shell.execute_reply": "2020-12-07T00:28:32.852992Z"
    },
    "papermill": {
     "duration": 0.119938,
     "end_time": "2020-12-07T00:28:32.853845",
     "exception": false,
     "start_time": "2020-12-07T00:28:32.733907",
     "status": "completed"
    },
    "tags": []
   },
   "outputs": [
    {
     "data": {
      "text/plain": [
       "88"
      ]
     },
     "execution_count": 58,
     "metadata": {},
     "output_type": "execute_result"
    }
   ],
   "source": [
    "len(cols_t_fs)"
   ]
  },
  {
   "cell_type": "code",
   "execution_count": 59,
   "metadata": {
    "execution": {
     "iopub.execute_input": "2020-12-07T00:28:33.079232Z",
     "iopub.status.busy": "2020-12-07T00:28:33.078112Z",
     "iopub.status.idle": "2020-12-07T00:28:33.083428Z",
     "shell.execute_reply": "2020-12-07T00:28:33.082674Z"
    },
    "papermill": {
     "duration": 0.120973,
     "end_time": "2020-12-07T00:28:33.083550",
     "exception": false,
     "start_time": "2020-12-07T00:28:32.962577",
     "status": "completed"
    },
    "tags": []
   },
   "outputs": [],
   "source": [
    "#apply to test dataset\n",
    "test_new = test_new[test_new.columns.intersection(cols_t_fs)]"
   ]
  },
  {
   "cell_type": "code",
   "execution_count": 60,
   "metadata": {
    "execution": {
     "iopub.execute_input": "2020-12-07T00:28:33.326528Z",
     "iopub.status.busy": "2020-12-07T00:28:33.325529Z",
     "iopub.status.idle": "2020-12-07T00:28:33.330404Z",
     "shell.execute_reply": "2020-12-07T00:28:33.329793Z"
    },
    "papermill": {
     "duration": 0.136847,
     "end_time": "2020-12-07T00:28:33.330525",
     "exception": false,
     "start_time": "2020-12-07T00:28:33.193678",
     "status": "completed"
    },
    "tags": []
   },
   "outputs": [
    {
     "data": {
      "text/html": [
       "<div>\n",
       "<style scoped>\n",
       "    .dataframe tbody tr th:only-of-type {\n",
       "        vertical-align: middle;\n",
       "    }\n",
       "\n",
       "    .dataframe tbody tr th {\n",
       "        vertical-align: top;\n",
       "    }\n",
       "\n",
       "    .dataframe thead th {\n",
       "        text-align: right;\n",
       "    }\n",
       "</style>\n",
       "<table border=\"1\" class=\"dataframe\">\n",
       "  <thead>\n",
       "    <tr style=\"text-align: right;\">\n",
       "      <th></th>\n",
       "      <th>MSZoning_FV</th>\n",
       "      <th>MSZoning_RL</th>\n",
       "      <th>MSZoning_RM</th>\n",
       "      <th>LotShape_IR1</th>\n",
       "      <th>LotShape_Reg</th>\n",
       "      <th>Neighborhood_CollgCr</th>\n",
       "      <th>Neighborhood_Edwards</th>\n",
       "      <th>Neighborhood_Gilbert</th>\n",
       "      <th>Neighborhood_IDOTRR</th>\n",
       "      <th>Neighborhood_NAmes</th>\n",
       "      <th>...</th>\n",
       "      <th>FullBath</th>\n",
       "      <th>HalfBath</th>\n",
       "      <th>BedroomAbvGr</th>\n",
       "      <th>TotRmsAbvGrd</th>\n",
       "      <th>Fireplaces</th>\n",
       "      <th>GarageYrBlt</th>\n",
       "      <th>GarageCars</th>\n",
       "      <th>GarageArea</th>\n",
       "      <th>WoodDeckSF</th>\n",
       "      <th>OpenPorchSF</th>\n",
       "    </tr>\n",
       "  </thead>\n",
       "  <tbody>\n",
       "    <tr>\n",
       "      <th>0</th>\n",
       "      <td>0</td>\n",
       "      <td>0</td>\n",
       "      <td>0</td>\n",
       "      <td>0</td>\n",
       "      <td>1</td>\n",
       "      <td>0</td>\n",
       "      <td>0</td>\n",
       "      <td>0</td>\n",
       "      <td>0</td>\n",
       "      <td>1</td>\n",
       "      <td>...</td>\n",
       "      <td>1</td>\n",
       "      <td>0</td>\n",
       "      <td>2</td>\n",
       "      <td>5</td>\n",
       "      <td>0</td>\n",
       "      <td>1961.000</td>\n",
       "      <td>1.000</td>\n",
       "      <td>730.000</td>\n",
       "      <td>140</td>\n",
       "      <td>0</td>\n",
       "    </tr>\n",
       "    <tr>\n",
       "      <th>1</th>\n",
       "      <td>0</td>\n",
       "      <td>1</td>\n",
       "      <td>0</td>\n",
       "      <td>1</td>\n",
       "      <td>0</td>\n",
       "      <td>0</td>\n",
       "      <td>0</td>\n",
       "      <td>0</td>\n",
       "      <td>0</td>\n",
       "      <td>1</td>\n",
       "      <td>...</td>\n",
       "      <td>1</td>\n",
       "      <td>1</td>\n",
       "      <td>3</td>\n",
       "      <td>6</td>\n",
       "      <td>0</td>\n",
       "      <td>1958.000</td>\n",
       "      <td>1.000</td>\n",
       "      <td>312.000</td>\n",
       "      <td>393</td>\n",
       "      <td>36</td>\n",
       "    </tr>\n",
       "    <tr>\n",
       "      <th>2</th>\n",
       "      <td>0</td>\n",
       "      <td>1</td>\n",
       "      <td>0</td>\n",
       "      <td>1</td>\n",
       "      <td>0</td>\n",
       "      <td>0</td>\n",
       "      <td>0</td>\n",
       "      <td>1</td>\n",
       "      <td>0</td>\n",
       "      <td>0</td>\n",
       "      <td>...</td>\n",
       "      <td>2</td>\n",
       "      <td>1</td>\n",
       "      <td>3</td>\n",
       "      <td>6</td>\n",
       "      <td>1</td>\n",
       "      <td>1997.000</td>\n",
       "      <td>2.000</td>\n",
       "      <td>482.000</td>\n",
       "      <td>212</td>\n",
       "      <td>34</td>\n",
       "    </tr>\n",
       "    <tr>\n",
       "      <th>3</th>\n",
       "      <td>0</td>\n",
       "      <td>1</td>\n",
       "      <td>0</td>\n",
       "      <td>1</td>\n",
       "      <td>0</td>\n",
       "      <td>0</td>\n",
       "      <td>0</td>\n",
       "      <td>1</td>\n",
       "      <td>0</td>\n",
       "      <td>0</td>\n",
       "      <td>...</td>\n",
       "      <td>2</td>\n",
       "      <td>1</td>\n",
       "      <td>3</td>\n",
       "      <td>7</td>\n",
       "      <td>1</td>\n",
       "      <td>1998.000</td>\n",
       "      <td>2.000</td>\n",
       "      <td>470.000</td>\n",
       "      <td>360</td>\n",
       "      <td>36</td>\n",
       "    </tr>\n",
       "    <tr>\n",
       "      <th>4</th>\n",
       "      <td>0</td>\n",
       "      <td>1</td>\n",
       "      <td>0</td>\n",
       "      <td>1</td>\n",
       "      <td>0</td>\n",
       "      <td>0</td>\n",
       "      <td>0</td>\n",
       "      <td>0</td>\n",
       "      <td>0</td>\n",
       "      <td>0</td>\n",
       "      <td>...</td>\n",
       "      <td>2</td>\n",
       "      <td>0</td>\n",
       "      <td>2</td>\n",
       "      <td>5</td>\n",
       "      <td>0</td>\n",
       "      <td>1992.000</td>\n",
       "      <td>2.000</td>\n",
       "      <td>506.000</td>\n",
       "      <td>0</td>\n",
       "      <td>82</td>\n",
       "    </tr>\n",
       "  </tbody>\n",
       "</table>\n",
       "<p>5 rows × 88 columns</p>\n",
       "</div>"
      ],
      "text/plain": [
       "   MSZoning_FV  MSZoning_RL  MSZoning_RM  LotShape_IR1  LotShape_Reg  \\\n",
       "0            0            0            0             0             1   \n",
       "1            0            1            0             1             0   \n",
       "2            0            1            0             1             0   \n",
       "3            0            1            0             1             0   \n",
       "4            0            1            0             1             0   \n",
       "\n",
       "   Neighborhood_CollgCr  Neighborhood_Edwards  Neighborhood_Gilbert  \\\n",
       "0                     0                     0                     0   \n",
       "1                     0                     0                     0   \n",
       "2                     0                     0                     1   \n",
       "3                     0                     0                     1   \n",
       "4                     0                     0                     0   \n",
       "\n",
       "   Neighborhood_IDOTRR  Neighborhood_NAmes  ...  FullBath  HalfBath  \\\n",
       "0                    0                   1  ...         1         0   \n",
       "1                    0                   1  ...         1         1   \n",
       "2                    0                   0  ...         2         1   \n",
       "3                    0                   0  ...         2         1   \n",
       "4                    0                   0  ...         2         0   \n",
       "\n",
       "   BedroomAbvGr  TotRmsAbvGrd  Fireplaces  GarageYrBlt  GarageCars  \\\n",
       "0             2             5           0     1961.000       1.000   \n",
       "1             3             6           0     1958.000       1.000   \n",
       "2             3             6           1     1997.000       2.000   \n",
       "3             3             7           1     1998.000       2.000   \n",
       "4             2             5           0     1992.000       2.000   \n",
       "\n",
       "   GarageArea  WoodDeckSF  OpenPorchSF  \n",
       "0     730.000         140            0  \n",
       "1     312.000         393           36  \n",
       "2     482.000         212           34  \n",
       "3     470.000         360           36  \n",
       "4     506.000           0           82  \n",
       "\n",
       "[5 rows x 88 columns]"
      ]
     },
     "execution_count": 60,
     "metadata": {},
     "output_type": "execute_result"
    }
   ],
   "source": [
    "test_new.head()"
   ]
  },
  {
   "cell_type": "code",
   "execution_count": 61,
   "metadata": {
    "execution": {
     "iopub.execute_input": "2020-12-07T00:28:33.566833Z",
     "iopub.status.busy": "2020-12-07T00:28:33.562693Z",
     "iopub.status.idle": "2020-12-07T00:52:44.700627Z",
     "shell.execute_reply": "2020-12-07T00:52:44.701367Z"
    },
    "papermill": {
     "duration": 1451.260108,
     "end_time": "2020-12-07T00:52:44.701557",
     "exception": false,
     "start_time": "2020-12-07T00:28:33.441449",
     "status": "completed"
    },
    "tags": []
   },
   "outputs": [
    {
     "name": "stdout",
     "output_type": "stream",
     "text": [
      "Best MAE: -42668.279\n",
      "Best Config: {'sel__k': 248}\n",
      ">-115226.256 with: {'sel__k': 239}\n",
      ">-863961.035 with: {'sel__k': 240}\n",
      ">-3341516.147 with: {'sel__k': 241}\n",
      ">-139775499355.675 with: {'sel__k': 242}\n",
      ">-3981746.090 with: {'sel__k': 243}\n",
      ">-502804.852 with: {'sel__k': 244}\n",
      ">-1168286.059 with: {'sel__k': 245}\n",
      ">-49944203798.155 with: {'sel__k': 246}\n",
      ">-1878279.720 with: {'sel__k': 247}\n",
      ">-42668.279 with: {'sel__k': 248}\n",
      ">-113201881.671 with: {'sel__k': 249}\n",
      ">-229836980226.614 with: {'sel__k': 250}\n",
      ">-116501856341.653 with: {'sel__k': 251}\n",
      ">-49558523484.692 with: {'sel__k': 252}\n",
      ">-2769898.260 with: {'sel__k': 253}\n",
      ">-309762903339.722 with: {'sel__k': 254}\n",
      ">-9847500841.335 with: {'sel__k': 255}\n",
      ">-522209146247.038 with: {'sel__k': 256}\n",
      ">-14760536719.834 with: {'sel__k': 257}\n",
      ">-7571725279.083 with: {'sel__k': 258}\n",
      ">-176961954450.735 with: {'sel__k': 259}\n"
     ]
    }
   ],
   "source": [
    "#Tune # of vars\n",
    "from sklearn.model_selection import RepeatedKFold\n",
    "from sklearn.pipeline import Pipeline\n",
    "from sklearn.model_selection import GridSearchCV\n",
    "# define the evaluation method\n",
    "cv = RepeatedKFold(n_splits=10, n_repeats=3, random_state=1)\n",
    "# define the pipeline to evaluate\n",
    "model = LinearRegression()\n",
    "fs = SelectKBest(score_func=mutual_info_regression)\n",
    "pipeline = Pipeline(steps=[('sel',fs), ('lr', model)])\n",
    "# define the grid\n",
    "grid = dict()\n",
    "grid['sel__k'] = [i for i in range(X_train.shape[1]-20, X_train.shape[1]+1)]\n",
    "# define the grid search\n",
    "search = GridSearchCV(pipeline, grid, scoring='neg_mean_squared_error', n_jobs=-1, cv=cv)\n",
    "# perform the search\n",
    "results = search.fit(X_train, y_train)\n",
    "# summarize best\n",
    "print('Best MAE: %.3f' % results.best_score_)\n",
    "print('Best Config: %s' % results.best_params_)\n",
    "# summarize all\n",
    "means = results.cv_results_['mean_test_score']\n",
    "params = results.cv_results_['params']\n",
    "for mean, param in zip(means, params):\n",
    "    print(\">%.3f with: %r\" % (mean, param))"
   ]
  },
  {
   "cell_type": "code",
   "execution_count": 62,
   "metadata": {
    "execution": {
     "iopub.execute_input": "2020-12-07T00:52:44.937921Z",
     "iopub.status.busy": "2020-12-07T00:52:44.937137Z",
     "iopub.status.idle": "2020-12-07T00:52:44.957606Z",
     "shell.execute_reply": "2020-12-07T00:52:44.956874Z"
    },
    "papermill": {
     "duration": 0.143285,
     "end_time": "2020-12-07T00:52:44.957767",
     "exception": false,
     "start_time": "2020-12-07T00:52:44.814482",
     "status": "completed"
    },
    "tags": []
   },
   "outputs": [
    {
     "name": "stdout",
     "output_type": "stream",
     "text": [
      "Test MAE: 0.097\n",
      "Test RMSE: 0.1726\n"
     ]
    }
   ],
   "source": [
    "# fit the model\n",
    "from sklearn.metrics import mean_absolute_error,mean_squared_error\n",
    "model = LinearRegression()\n",
    "model.fit(X_train_new, y_train)\n",
    "# evaluate the model\n",
    "yhat = model.predict(X_test_new)\n",
    "# evaluate predictions\n",
    "test_mae = mean_absolute_error(y_test, yhat)\n",
    "test_mse = mean_squared_error(y_test, yhat)\n",
    "print('Test MAE: %.3f' % test_mae)\n",
    "test_rmse = np.sqrt(test_mse)\n",
    "print('Test RMSE: %.4f' % test_rmse)"
   ]
  },
  {
   "cell_type": "code",
   "execution_count": 63,
   "metadata": {
    "execution": {
     "iopub.execute_input": "2020-12-07T00:52:45.198806Z",
     "iopub.status.busy": "2020-12-07T00:52:45.197965Z",
     "iopub.status.idle": "2020-12-07T00:52:45.230876Z",
     "shell.execute_reply": "2020-12-07T00:52:45.231443Z"
    },
    "papermill": {
     "duration": 0.159985,
     "end_time": "2020-12-07T00:52:45.231615",
     "exception": false,
     "start_time": "2020-12-07T00:52:45.071630",
     "status": "completed"
    },
    "tags": []
   },
   "outputs": [
    {
     "name": "stdout",
     "output_type": "stream",
     "text": [
      "test_rmse: 1377.615\n",
      "test_mae: 108.877\n"
     ]
    }
   ],
   "source": [
    "# All vars\n",
    "\n",
    "#fit multiple linear regression\n",
    "model = LinearRegression()\n",
    "model.fit(X_train, y_train)\n",
    "# evaluate the model\n",
    "yhat = model.predict(X_test)\n",
    "# evaluate predictions\n",
    "mae = mean_absolute_error(y_test, yhat)\n",
    "mse = mean_squared_error(y_test, yhat)\n",
    "test_rmse = np.sqrt(mse)\n",
    "print('test_rmse: %.3f' % test_rmse)\n",
    "print('test_mae: %.3f' % mae)\n",
    "#test_rmse = np.sqrt(mae)"
   ]
  },
  {
   "cell_type": "code",
   "execution_count": 64,
   "metadata": {
    "execution": {
     "iopub.execute_input": "2020-12-07T00:52:45.471106Z",
     "iopub.status.busy": "2020-12-07T00:52:45.469853Z",
     "iopub.status.idle": "2020-12-07T00:52:47.222214Z",
     "shell.execute_reply": "2020-12-07T00:52:47.222901Z"
    },
    "papermill": {
     "duration": 1.87791,
     "end_time": "2020-12-07T00:52:47.223078",
     "exception": false,
     "start_time": "2020-12-07T00:52:45.345168",
     "status": "completed"
    },
    "tags": []
   },
   "outputs": [
    {
     "name": "stdout",
     "output_type": "stream",
     "text": [
      "Optimal alpha: 0.00018910\n",
      "Optimal l1_ratio: 0.500\n",
      "Number of iterations 75\n"
     ]
    }
   ],
   "source": [
    "#ElasticNet\n",
    "cv_model = ElasticNetCV(l1_ratio=[.1, .5, .7, .9, .95, .99, 1], eps=1e-3, n_alphas=100, fit_intercept=True, \n",
    "                        normalize=True, precompute='auto', max_iter=2000, tol=0.0001, cv=5, \n",
    "                        copy_X=True, verbose=0, n_jobs=-1, positive=False, random_state=0)\n",
    "               \n",
    "cv_model.fit(X_train_fs, y_train)\n",
    "print('Optimal alpha: %.8f'%cv_model.alpha_)\n",
    "print('Optimal l1_ratio: %.3f'%cv_model.l1_ratio_)\n",
    "print('Number of iterations %d'%cv_model.n_iter_)"
   ]
  },
  {
   "cell_type": "code",
   "execution_count": 65,
   "metadata": {
    "execution": {
     "iopub.execute_input": "2020-12-07T00:52:47.467089Z",
     "iopub.status.busy": "2020-12-07T00:52:47.466185Z",
     "iopub.status.idle": "2020-12-07T00:52:47.479766Z",
     "shell.execute_reply": "2020-12-07T00:52:47.479040Z"
    },
    "papermill": {
     "duration": 0.140603,
     "end_time": "2020-12-07T00:52:47.479911",
     "exception": false,
     "start_time": "2020-12-07T00:52:47.339308",
     "status": "completed"
    },
    "tags": []
   },
   "outputs": [
    {
     "name": "stdout",
     "output_type": "stream",
     "text": [
      "Train r2 score:  0.883600154361477\n",
      "Test r2 score:  0.8174770267276587\n",
      "Train RMSE: 0.1262\n",
      "Test RMSE: 0.1679\n",
      "Test MAE: 0.0936\n"
     ]
    }
   ],
   "source": [
    "#Model evaluation\n",
    "y_train_pred = cv_model.predict(X_train_new)\n",
    "y_pred = cv_model.predict(X_test_new)\n",
    "print('Train r2 score: ', r2_score(y_train_pred, y_train))\n",
    "print('Test r2 score: ', r2_score(y_test, y_pred))\n",
    "train_mse = mean_squared_error(y_train_pred, y_train)\n",
    "test_mse = mean_squared_error(y_pred, y_test)\n",
    "train_rmse = np.sqrt(train_mse)\n",
    "test_rmse = np.sqrt(test_mse)\n",
    "test_mae = mean_absolute_error(y_pred, y_test)\n",
    "print('Train RMSE: %.4f' % train_rmse)\n",
    "print('Test RMSE: %.4f' % test_rmse)\n",
    "print('Test MAE: %.4f' % test_mae)"
   ]
  },
  {
   "cell_type": "code",
   "execution_count": 66,
   "metadata": {
    "execution": {
     "iopub.execute_input": "2020-12-07T00:52:47.722401Z",
     "iopub.status.busy": "2020-12-07T00:52:47.721660Z",
     "iopub.status.idle": "2020-12-07T00:52:48.232591Z",
     "shell.execute_reply": "2020-12-07T00:52:48.231883Z"
    },
    "papermill": {
     "duration": 0.636854,
     "end_time": "2020-12-07T00:52:48.232727",
     "exception": false,
     "start_time": "2020-12-07T00:52:47.595873",
     "status": "completed"
    },
    "tags": []
   },
   "outputs": [
    {
     "name": "stdout",
     "output_type": "stream",
     "text": [
      "65 features, reduction of 26.14%\n"
     ]
    },
    {
     "data": {
      "image/png": "[encoded data removed]",
      "text/plain": [
       "<Figure size 864x360 with 1 Axes>"
      ]
     },
     "metadata": {},
     "output_type": "display_data"
    }
   ],
   "source": [
    "feature_importance = pd.Series(index = X_train_new.columns, data = np.abs(cv_model.coef_))\n",
    "n_selected_features = (feature_importance>0).sum()\n",
    "print('{0:d} features, reduction of {1:2.2f}%'.format(\n",
    "    n_selected_features,(1-n_selected_features/len(feature_importance))*100))\n",
    "feature_importance.sort_values().tail(30).plot(kind = 'bar', figsize = (12,5));"
   ]
  },
  {
   "cell_type": "code",
   "execution_count": 67,
   "metadata": {
    "execution": {
     "iopub.execute_input": "2020-12-07T00:52:48.474678Z",
     "iopub.status.busy": "2020-12-07T00:52:48.473941Z",
     "iopub.status.idle": "2020-12-07T00:52:48.784733Z",
     "shell.execute_reply": "2020-12-07T00:52:48.785423Z"
    },
    "papermill": {
     "duration": 0.436775,
     "end_time": "2020-12-07T00:52:48.785600",
     "exception": false,
     "start_time": "2020-12-07T00:52:48.348825",
     "status": "completed"
    },
    "tags": []
   },
   "outputs": [
    {
     "name": "stdout",
     "output_type": "stream",
     "text": [
      "Train r2 score:  0.9997907392299357\n",
      "Test r2 score:  0.8836633728239849\n",
      "Train RMSE: 0.0058\n",
      "Test RMSE: 0.1341\n",
      "Test MAE: 0.0950\n"
     ]
    }
   ],
   "source": [
    "xgb_model1 = XGBRegressor()\n",
    "xgb_model1.fit(X_train_new, y_train, verbose=False)\n",
    "y_train_pred1 = xgb_model1.predict(X_train_new)\n",
    "y_pred1 = xgb_model1.predict(X_test_new)\n",
    "\n",
    "print('Train r2 score: ', r2_score(y_train_pred1, y_train))\n",
    "print('Test r2 score: ', r2_score(y_test, y_pred1))\n",
    "train_mse1 = mean_squared_error(y_train_pred1, y_train)\n",
    "test_mse1 = mean_squared_error(y_pred1, y_test)\n",
    "train_rmse1 = np.sqrt(train_mse1)\n",
    "test_rmse1 = np.sqrt(test_mse1)\n",
    "test_mae1 = mean_absolute_error(y_pred1, y_test)\n",
    "print('Train RMSE: %.4f' % train_rmse1)\n",
    "print('Test RMSE: %.4f' % test_rmse1)\n",
    "print('Test MAE: %.4f' % test_mae1)"
   ]
  },
  {
   "cell_type": "code",
   "execution_count": 68,
   "metadata": {
    "execution": {
     "iopub.execute_input": "2020-12-07T00:52:49.064674Z",
     "iopub.status.busy": "2020-12-07T00:52:49.063932Z",
     "iopub.status.idle": "2020-12-07T00:52:49.068178Z",
     "shell.execute_reply": "2020-12-07T00:52:49.067450Z"
    },
    "papermill": {
     "duration": 0.14026,
     "end_time": "2020-12-07T00:52:49.068297",
     "exception": false,
     "start_time": "2020-12-07T00:52:48.928037",
     "status": "completed"
    },
    "tags": []
   },
   "outputs": [
    {
     "name": "stdout",
     "output_type": "stream",
     "text": [
      "[237897.19  123116.016 106865.336 225543.69   88189.59  119990.234\n",
      " 239509.58  125895.8   426497.88  161821.69  212137.67  148547.77\n",
      " 232175.42  126848.48  131435.94  143256.6   230955.5   100921.234\n",
      " 139251.66  159109.86  111690.56  146856.89   90093.79  144255.75\n",
      " 169156.72  209392.25  172743.9    78355.13  300969.22  109368.69\n",
      " 132029.05  208683.34  140595.12  290690.2   343780.25  183316.94\n",
      " 288993.84  118054.73  227539.3   327830.66  220658.97  119736.58\n",
      " 176919.89  314255.56  377714.2   117349.914 135696.92  128918.086\n",
      " 171137.95   90292.83  398934.3   146450.47  158213.52   84131.76\n",
      " 260018.42  104911.766 138867.19  229236.66  144677.89  100263.44\n",
      " 144061.22  133424.55  134491.39  164273.95  210672.17  117781.805\n",
      " 137684.19  237881.97  132296.25  206342.8   179419.47  121428.38\n",
      "  85264.12  235495.2    83880.76  254498.22  130289.17   98152.34\n",
      " 276308.97  157641.03  118963.516 133950.08  128655.49  136533.16\n",
      " 261157.61  183430.42   78252.16  198137.62  163916.81  138436.\n",
      " 193388.38  188052.75  193023.19  211277.58  196828.55  145446.1\n",
      " 214170.86  173619.1   104324.6   162220.48  240606.44  193167.02\n",
      " 123491.13  159415.9   105053.93  267586.5   159217.95   92741.78\n",
      " 169857.    128992.62   72222.97  114746.35  179040.52  129133.79\n",
      " 173664.14  170094.31  471283.16  134857.58  182197.11  257164.19\n",
      " 137796.52  162940.84  129047.734 205667.17  215511.25  249603.88\n",
      " 398573.4   193334.16  194463.62  161227.39  213154.5   190184.73\n",
      " 132029.55  178063.28   96312.76  229353.89  151547.83  179523.19\n",
      " 108517.47  170639.58  133006.95  136291.44  217588.17  142931.53\n",
      " 129221.51  170147.22  222506.95  138986.03  255153.17  261988.55\n",
      " 162021.2   361550.4   265153.94  157164.42  176550.25  266205.66\n",
      " 126319.86  208669.83  114865.48  168800.25  122108.18  142182.97\n",
      " 199969.12   97897.875 249350.02  121473.32  151879.73  284625.2\n",
      " 177854.03  171306.95  153643.1   163599.19  173027.52  168153.23\n",
      " 141669.58  109384.75  129592.98  234619.14  122974.98  157817.33\n",
      " 311715.2   209007.19   94668.664 300307.78  112839.56  186301.8\n",
      "  97357.87  206637.02  204956.23  138827.47  137219.62  160142.3\n",
      " 205341.25  137068.83  117303.03  142040.14   82481.22  149098.45\n",
      " 168167.33  129726.77  141959.14  183185.    108716.664 107271.01\n",
      " 125772.8   136293.11  140478.92  320869.62  247008.53   62741.336\n",
      " 151117.19  277774.25   89330.55   92759.555 229371.8   201849.12\n",
      " 165384.69  222669.56  246314.36   78857.99  193166.08  117357.85\n",
      " 131291.62  126845.45  199988.2   251560.81  275589.75  220607.02\n",
      " 137802.95  156817.98   89489.32  160698.56   88212.56  133249.97\n",
      " 235382.94  111639.87  125524.875 116578.13   82123.77  164006.27\n",
      " 117036.42  179531.58  203133.28  222654.05  189837.53  167993.9\n",
      " 188782.64  204520.4   131167.34  193022.45  167270.98  264140.8\n",
      "  99495.984 426177.88  253020.8   222643.23  105511.375 219350.39\n",
      " 384176.03  191679.47  211426.53  121841.8   147282.44  103053.945\n",
      " 441377.97  350217.84  323716.06   58049.55  238777.72  259467.77\n",
      " 117705.1   215747.11  125016.78  180991.78  113731.41  214312.27\n",
      " 243731.12  183595.28  221045.05   82760.54  142886.42  410144.53\n",
      " 157709.6   145182.1   182598.95  139793.06  123591.75  307481.56\n",
      " 475787.78  161926.19   83553.66   88206.24  278668.4    96229.664\n",
      " 131263.08  290452.12  233746.81  182900.11  149828.11  164603.58\n",
      "  83244.35  126817.04  199820.81  159351.31  152221.97  150757.31\n",
      " 136114.78  173042.03  165154.23  181594.31  120058.11  174518.83\n",
      " 170375.84  112830.95  126997.125 140587.48  302371.72  115702.46\n",
      " 165805.86  123958.03  116998.695 287790.56  105502.125 232872.38\n",
      " 158973.36  252216.38  117764.16  368242.1   195309.66  125541.266\n",
      " 118590.04  225193.8   172789.06  192833.84  155792.12  152149.83\n",
      " 128445.49  203973.25  143078.14  134021.27  334530.66  161552.45\n",
      " 165281.86  231150.52  165941.25  136003.83  127032.99  110629.4\n",
      " 105166.195 142946.8   231251.73  330530.47  121700.125 111613.25\n",
      " 158769.12  480305.75  289996.28  154101.52  268180.72  283326.06\n",
      " 367037.44  202159.45  219547.12  241100.95  105396.32  118166.914\n",
      " 165344.62  103375.13  194664.    163388.22  419327.    101787.49\n",
      " 132141.78  119968.16  141239.8    49236.99  212202.23  283503.12\n",
      " 113374.26  252717.19  162936.19  113697.46  142488.4   123269.56\n",
      " 121949.33   83039.3   154055.22  199570.38  230944.05  347564.7\n",
      " 107548.805 110074.9   222967.9    79988.07  139193.9   157091.9\n",
      " 209089.52  177680.25  133873.72  186490.4   337351.88  226223.11\n",
      " 148010.69   91605.12  142024.55  294868.28   99432.62  290349.66\n",
      " 258007.97  246483.78  113334.05  122131.01  232490.05  103635.92\n",
      " 136144.52  120681.555 222471.72  104340.734 276590.53  143602.53\n",
      " 243153.98  362718.4   103005.016 156534.98  154235.16  108296.125\n",
      " 216545.69  103582.96  197688.44  123486.19  139367.5   237221.14\n",
      " 160812.94  223724.27  155745.62  324671.4   214869.12  372169.78 ]\n"
     ]
    }
   ],
   "source": [
    "#np.exp and calculate on array. math.exp can only calculate on one number\n",
    "print(np.exp(y_pred1))"
   ]
  },
  {
   "cell_type": "code",
   "execution_count": 69,
   "metadata": {
    "execution": {
     "iopub.execute_input": "2020-12-07T00:52:49.309459Z",
     "iopub.status.busy": "2020-12-07T00:52:49.308726Z",
     "iopub.status.idle": "2020-12-07T00:52:49.944576Z",
     "shell.execute_reply": "2020-12-07T00:52:49.945193Z"
    },
    "papermill": {
     "duration": 0.759249,
     "end_time": "2020-12-07T00:52:49.945360",
     "exception": false,
     "start_time": "2020-12-07T00:52:49.186111",
     "status": "completed"
    },
    "tags": []
   },
   "outputs": [
    {
     "name": "stdout",
     "output_type": "stream",
     "text": [
      "[3.92257032e-04 5.54928090e-03 2.47480515e-02 6.28237496e-04\n",
      " 3.25998617e-03 6.65913569e-04 3.61334183e-03 3.19091661e-04\n",
      " 2.13353299e-02 3.02283163e-03 8.03915143e-04 4.18322394e-04\n",
      " 2.90344283e-03 2.11223052e-03 3.72660754e-04 9.05719819e-04\n",
      " 7.68218189e-04 1.86989480e-03 7.03323691e-04 4.78703441e-04\n",
      " 1.07750129e-04 8.20484944e-04 2.78492051e-04 1.49980973e-04\n",
      " 9.46605520e-04 4.18588798e-03 2.26564985e-03 1.73686538e-03\n",
      " 7.37026101e-03 6.80587254e-04 5.84499285e-05 5.13727702e-02\n",
      " 1.42264832e-03 1.60339742e-03 2.27223267e-03 1.14595983e-03\n",
      " 2.74692615e-03 1.35934635e-04 1.16570771e-03 1.05613330e-03\n",
      " 1.01202853e-01 0.00000000e+00 3.96855205e-04 1.49230810e-03\n",
      " 7.11786887e-03 1.54840825e-02 5.78500214e-04 7.72881031e-04\n",
      " 1.62108394e-03 4.14149195e-04 9.25433589e-04 1.90247856e-02\n",
      " 1.03264321e-02 9.04092798e-04 1.07407756e-03 1.92943984e-03\n",
      " 1.63447484e-03 2.01587547e-02 4.61316435e-03 3.62323923e-03\n",
      " 1.01196049e-02 1.52005313e-03 1.31605531e-03 0.00000000e+00\n",
      " 2.73917429e-03 2.63535022e-03 4.10531368e-03 1.12967148e-01\n",
      " 1.61135048e-02 5.85135911e-03 1.21553652e-02 1.40188017e-03\n",
      " 8.44069757e-03 1.84821163e-03 3.14701907e-02 3.67600727e-03\n",
      " 1.64219015e-03 3.87560576e-02 8.85110162e-03 1.54722668e-03\n",
      " 2.58575915e-03 1.21719239e-03 5.90690896e-02 3.15750297e-03\n",
      " 3.08373570e-01 2.57993443e-03 3.77730327e-03 2.39514769e-03]\n"
     ]
    },
    {
     "data": {
      "image/png": "[encoded data removed]",
      "text/plain": [
       "<Figure size 432x288 with 1 Axes>"
      ]
     },
     "metadata": {},
     "output_type": "display_data"
    }
   ],
   "source": [
    "# feature importance\n",
    "print(xgb_model1.feature_importances_)\n",
    "# plot\n",
    "pyplot.bar(range(len(xgb_model1.feature_importances_)), xgb_model1.feature_importances_)\n",
    "pyplot.show()"
   ]
  },
  {
   "cell_type": "code",
   "execution_count": 70,
   "metadata": {
    "execution": {
     "iopub.execute_input": "2020-12-07T00:52:50.192852Z",
     "iopub.status.busy": "2020-12-07T00:52:50.192123Z",
     "iopub.status.idle": "2020-12-07T00:52:50.243250Z",
     "shell.execute_reply": "2020-12-07T00:52:50.242643Z"
    },
    "papermill": {
     "duration": 0.178506,
     "end_time": "2020-12-07T00:52:50.243369",
     "exception": false,
     "start_time": "2020-12-07T00:52:50.064863",
     "status": "completed"
    },
    "tags": []
   },
   "outputs": [
    {
     "data": {
      "text/plain": [
       "OrderedDict([('LotArea', 262),\n",
       "             ('GarageArea', 216),\n",
       "             ('BsmtUnfSF', 193),\n",
       "             ('GrLivArea', 182),\n",
       "             ('LotFrontage', 172),\n",
       "             ('BsmtFinSF1', 153),\n",
       "             ('TotalBsmtSF', 136),\n",
       "             ('1stFlrSF', 135),\n",
       "             ('YearBuilt', 113),\n",
       "             ('MasVnrArea', 111),\n",
       "             ('YearRemodAdd', 101),\n",
       "             ('OverallQual', 97),\n",
       "             ('OpenPorchSF', 92),\n",
       "             ('LotShape_IR1', 91),\n",
       "             ('GarageYrBlt', 89),\n",
       "             ('WoodDeckSF', 81),\n",
       "             ('2ndFlrSF', 61),\n",
       "             ('MSZoning_RL', 58),\n",
       "             ('MSSubClass', 54),\n",
       "             ('OverallCond', 50),\n",
       "             ('TotRmsAbvGrd', 45),\n",
       "             ('RoofStyle_Gable', 44),\n",
       "             ('Neighborhood_NAmes', 37),\n",
       "             ('Neighborhood_Edwards', 34),\n",
       "             ('LotShape_Reg', 34),\n",
       "             ('BedroomAbvGr', 30),\n",
       "             ('MasVnrType_BrkFace', 30),\n",
       "             ('HouseStyle_2Story', 30),\n",
       "             ('SaleCondition_Normal', 29),\n",
       "             ('Exterior1st_HdBoard', 29),\n",
       "             ('Fireplaces', 28),\n",
       "             ('GarageFinish_RFn', 25),\n",
       "             ('GarageType_Attchd', 24),\n",
       "             ('Neighborhood_CollgCr', 24),\n",
       "             ('HouseStyle_1.5Fin', 22),\n",
       "             ('BsmtFinType1_GLQ', 22),\n",
       "             ('BsmtQual_Gd', 22),\n",
       "             ('Exterior1st_VinylSd', 21),\n",
       "             ('Foundation_CBlock', 21),\n",
       "             ('BsmtFinType1_ALQ', 21),\n",
       "             ('ExterQual_Gd', 20),\n",
       "             ('HeatingQC_Gd', 20),\n",
       "             ('Neighborhood_NridgHt', 18),\n",
       "             ('BsmtExposure_Gd', 18),\n",
       "             ('FullBath', 17),\n",
       "             ('FireplaceQu_TA', 17),\n",
       "             ('Exterior1st_Wd Sdng', 17),\n",
       "             ('GarageCars', 16),\n",
       "             ('KitchenQual_Gd', 16),\n",
       "             ('HeatingQC_TA', 16),\n",
       "             ('HeatingQC_Ex', 16),\n",
       "             ('GarageFinish_Fin', 15),\n",
       "             ('MasVnrType_Stone', 15),\n",
       "             ('HalfBath', 15),\n",
       "             ('GarageFinish_Unf', 14),\n",
       "             ('BsmtQual_TA', 14),\n",
       "             ('FireplaceQu_Gd', 14),\n",
       "             ('CentralAir_N', 13),\n",
       "             ('Exterior2nd_Wd Sdng', 13),\n",
       "             ('KitchenQual_Ex', 13),\n",
       "             ('MSZoning_FV', 13),\n",
       "             ('SaleType_WD', 13),\n",
       "             ('MSZoning_RM', 12),\n",
       "             ('ExterCond_Fa', 12),\n",
       "             ('BsmtQual_Ex', 12),\n",
       "             ('Neighborhood_Somerst', 12),\n",
       "             ('Neighborhood_NoRidge', 12),\n",
       "             ('Neighborhood_IDOTRR', 10),\n",
       "             ('Electrical_SBrkr', 10),\n",
       "             ('GarageQual_TA', 9),\n",
       "             ('RoofStyle_Hip', 9),\n",
       "             ('SaleType_New', 9),\n",
       "             ('ExterQual_TA', 9),\n",
       "             ('Neighborhood_Gilbert', 9),\n",
       "             ('KitchenQual_TA', 9),\n",
       "             ('PavedDrive_Y', 7),\n",
       "             ('MasVnrType_None', 7),\n",
       "             ('KitchenQual_Fa', 6),\n",
       "             ('ExterQual_Ex', 6),\n",
       "             ('Electrical_FuseA', 6),\n",
       "             ('PavedDrive_N', 5),\n",
       "             ('Foundation_PConc', 5),\n",
       "             ('GarageCond_TA', 3),\n",
       "             ('GarageType_Detchd', 3),\n",
       "             ('FireplaceQu_Ex', 3),\n",
       "             ('Exterior2nd_VinylSd', 2)])"
      ]
     },
     "execution_count": 70,
     "metadata": {},
     "output_type": "execute_result"
    }
   ],
   "source": [
    "from collections import OrderedDict\n",
    "OrderedDict(sorted(xgb_model1.get_booster().get_fscore().items(), key=lambda t: t[1], reverse=True))"
   ]
  },
  {
   "cell_type": "code",
   "execution_count": 71,
   "metadata": {
    "execution": {
     "iopub.execute_input": "2020-12-07T00:52:50.494207Z",
     "iopub.status.busy": "2020-12-07T00:52:50.493435Z",
     "iopub.status.idle": "2020-12-07T00:52:50.511144Z",
     "shell.execute_reply": "2020-12-07T00:52:50.510004Z"
    },
    "papermill": {
     "duration": 0.147457,
     "end_time": "2020-12-07T00:52:50.511300",
     "exception": false,
     "start_time": "2020-12-07T00:52:50.363843",
     "status": "completed"
    },
    "tags": []
   },
   "outputs": [
    {
     "name": "stdout",
     "output_type": "stream",
     "text": [
      "[126590.12 155552.2  188784.44 ... 149660.17 112730.81 226716.86]\n",
      "(1459,)\n"
     ]
    }
   ],
   "source": [
    "y_test_pred = np.exp(xgb_model1.predict(test_new))\n",
    "print(y_test_pred)\n",
    "\n",
    "print(y_test_pred.shape)\n"
   ]
  },
  {
   "cell_type": "code",
   "execution_count": 72,
   "metadata": {
    "execution": {
     "iopub.execute_input": "2020-12-07T00:52:50.796086Z",
     "iopub.status.busy": "2020-12-07T00:52:50.795150Z",
     "iopub.status.idle": "2020-12-07T00:52:50.799368Z",
     "shell.execute_reply": "2020-12-07T00:52:50.798585Z"
    },
    "papermill": {
     "duration": 0.141189,
     "end_time": "2020-12-07T00:52:50.799496",
     "exception": false,
     "start_time": "2020-12-07T00:52:50.658307",
     "status": "completed"
    },
    "tags": []
   },
   "outputs": [
    {
     "data": {
      "text/plain": [
       "Index(['Id', 'SalePrice'], dtype='object')"
      ]
     },
     "execution_count": 72,
     "metadata": {},
     "output_type": "execute_result"
    }
   ],
   "source": [
    "prediction = pd.DataFrame(y_test_pred, columns=['SalePrice'])\n",
    "result = pd.concat([test['Id'], prediction], axis=1)\n",
    "\n",
    "result.columns"
   ]
  },
  {
   "cell_type": "code",
   "execution_count": 73,
   "metadata": {
    "execution": {
     "iopub.execute_input": "2020-12-07T00:52:51.050048Z",
     "iopub.status.busy": "2020-12-07T00:52:51.049272Z",
     "iopub.status.idle": "2020-12-07T00:52:51.492246Z",
     "shell.execute_reply": "2020-12-07T00:52:51.491461Z"
    },
    "papermill": {
     "duration": 0.570475,
     "end_time": "2020-12-07T00:52:51.492380",
     "exception": false,
     "start_time": "2020-12-07T00:52:50.921905",
     "status": "completed"
    },
    "tags": []
   },
   "outputs": [
    {
     "data": {
      "text/html": [
       "<div>\n",
       "<style scoped>\n",
       "    .dataframe tbody tr th:only-of-type {\n",
       "        vertical-align: middle;\n",
       "    }\n",
       "\n",
       "    .dataframe tbody tr th {\n",
       "        vertical-align: top;\n",
       "    }\n",
       "\n",
       "    .dataframe thead th {\n",
       "        text-align: right;\n",
       "    }\n",
       "</style>\n",
       "<table border=\"1\" class=\"dataframe\">\n",
       "  <thead>\n",
       "    <tr style=\"text-align: right;\">\n",
       "      <th></th>\n",
       "      <th>Id</th>\n",
       "      <th>SalePrice</th>\n",
       "    </tr>\n",
       "  </thead>\n",
       "  <tbody>\n",
       "    <tr>\n",
       "      <th>0</th>\n",
       "      <td>1461</td>\n",
       "      <td>126590.117</td>\n",
       "    </tr>\n",
       "    <tr>\n",
       "      <th>1</th>\n",
       "      <td>1462</td>\n",
       "      <td>155552.203</td>\n",
       "    </tr>\n",
       "    <tr>\n",
       "      <th>2</th>\n",
       "      <td>1463</td>\n",
       "      <td>188784.438</td>\n",
       "    </tr>\n",
       "    <tr>\n",
       "      <th>3</th>\n",
       "      <td>1464</td>\n",
       "      <td>190442.281</td>\n",
       "    </tr>\n",
       "    <tr>\n",
       "      <th>4</th>\n",
       "      <td>1465</td>\n",
       "      <td>183282.844</td>\n",
       "    </tr>\n",
       "  </tbody>\n",
       "</table>\n",
       "</div>"
      ],
      "text/plain": [
       "     Id  SalePrice\n",
       "0  1461 126590.117\n",
       "1  1462 155552.203\n",
       "2  1463 188784.438\n",
       "3  1464 190442.281\n",
       "4  1465 183282.844"
      ]
     },
     "execution_count": 73,
     "metadata": {},
     "output_type": "execute_result"
    }
   ],
   "source": [
    "# ----------------------------- Create File to Submit --------------------------------\n",
    "result.to_csv('./Predictions.csv', index=False)\n",
    "result.head()"
   ]
  }
 ],
 "metadata": {
  "kernelspec": {
   "display_name": "Python 3",
   "language": "python",
   "name": "python3"
  },
  "language_info": {
   "codemirror_mode": {
    "name": "ipython",
    "version": 3
   },
   "file_extension": ".py",
   "mimetype": "text/x-python",
   "name": "python",
   "nbconvert_exporter": "python",
   "pygments_lexer": "ipython3",
   "version": "3.7.6"
  },
  "papermill": {
   "duration": 1504.347953,
   "end_time": "2020-12-07T00:52:51.722508",
   "environment_variables": {},
   "exception": null,
   "input_path": "__notebook__.ipynb",
   "output_path": "__notebook__.ipynb",
   "parameters": {},
   "start_time": "2020-12-07T00:27:47.374555",
   "version": "2.1.0"
  }
 },
 "nbformat": 4,
 "nbformat_minor": 4
}
