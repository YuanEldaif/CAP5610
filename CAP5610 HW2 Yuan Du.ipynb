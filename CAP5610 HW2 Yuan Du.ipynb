{
 "cells": [
  {
   "cell_type": "markdown",
   "metadata": {},
   "source": [
    "## CAP5610 HW2 - Yuan Du\n",
    "Code stored at my Github: https://github.com/YuanEldaif/CAP5610\n"
   ]
  },
  {
   "cell_type": "markdown",
   "metadata": {},
   "source": [
    "## Task 1\n",
    "### 1) Preprocess your Titanic training data\n",
    "\n",
    "After data preprocessing based on HW1, there is no missing value. Additionally, categorical variable Embarked was converted to numeric. Name and PassengerId were dropped. Thus, the head of the train and test are listed as below:"
   ]
  },
  {
   "cell_type": "code",
   "execution_count": 1,
   "metadata": {},
   "outputs": [],
   "source": [
    "#Data analysis and wrangling\n",
    "import pandas as pd\n",
    "import numpy as np\n",
    "\n",
    "#Data Visualization\n",
    "import matplotlib.pyplot as plt\n",
    "import seaborn as sns\n",
    "%matplotlib inline\n",
    "\n",
    "# Load in the train and test datasets\n",
    "train = pd.read_csv('C:/Work/Project/CAP5610/HW/HW1/train.csv')\n",
    "test = pd.read_csv('C:/Work/Project/CAP5610/HW/HW1/test.csv')\n",
    "\n",
    "combine = [train, test]\n",
    "\n",
    "# Store our passenger ID for easy access\n",
    "PassengerId = test['PassengerId']\n",
    "\n",
    "#Q14 drop ticket\n",
    "#Q15 drop cabin\n",
    "train = train.drop(['Ticket', 'Cabin'], axis=1)\n",
    "test = test.drop(['Ticket', 'Cabin'], axis=1)\n",
    "combine = [train, test]\n",
    "\n",
    "#Q16 Convert sex to numeric\n",
    "\n",
    "for dataset in combine:\n",
    "    dataset['Sex'] = dataset['Sex'].map( {'female': 1, 'male': 0} ).astype(int)\n",
    "\n",
    "#Q17 \n",
    "# fill missing values with median column values\n",
    "train.fillna(train.median(), inplace=True)\n",
    "test.fillna(test.median(), inplace=True)\n",
    "\n",
    "#Q18 Fill embarked with mode\n",
    "freq_port = train.Embarked.dropna().mode()[0]\n",
    "for dataset in combine:\n",
    "    dataset['Embarked'] = dataset['Embarked'].fillna(freq_port)\n",
    "    \n",
    "#Q19 complete Fare using mode\n",
    "test['Fare'].fillna(test['Fare'].dropna().median(), inplace=True)    \n",
    "\n",
    "# update combine\n",
    "combine = [train, test]\n",
    "\n",
    "#Q20 Convert the Fare feature to ordinal values\n",
    "for dataset in combine:\n",
    "    dataset.loc[ dataset['Fare'] <= 7.91, 'Fare'] = 0\n",
    "    dataset.loc[(dataset['Fare'] > 7.91) & (dataset['Fare'] <= 14.454), 'Fare'] = 1\n",
    "    dataset.loc[(dataset['Fare'] > 14.454) & (dataset['Fare'] <= 31), 'Fare']   = 2\n",
    "    dataset.loc[ dataset['Fare'] > 31, 'Fare'] = 3\n",
    "    dataset['Fare'] = dataset['Fare'].astype(int)"
   ]
  },
  {
   "cell_type": "code",
   "execution_count": 2,
   "metadata": {},
   "outputs": [],
   "source": [
    "#Convert categorical variables into numeric\n",
    "for dataset in combine:\n",
    "    dataset['Embarked'] = dataset['Embarked'].map( {'S': 0, 'C': 1, 'Q': 2} ).astype(int)\n",
    "\n"
   ]
  },
  {
   "cell_type": "code",
   "execution_count": 3,
   "metadata": {},
   "outputs": [],
   "source": [
    "#Drop Name,PassengerId\n",
    "train = train.drop(['Name','PassengerId'], axis=1)\n",
    "test = test.drop(['Name','PassengerId'], axis=1)"
   ]
  },
  {
   "cell_type": "code",
   "execution_count": 4,
   "metadata": {},
   "outputs": [
    {
     "data": {
      "text/html": [
       "<div>\n",
       "<style scoped>\n",
       "    .dataframe tbody tr th:only-of-type {\n",
       "        vertical-align: middle;\n",
       "    }\n",
       "\n",
       "    .dataframe tbody tr th {\n",
       "        vertical-align: top;\n",
       "    }\n",
       "\n",
       "    .dataframe thead th {\n",
       "        text-align: right;\n",
       "    }\n",
       "</style>\n",
       "<table border=\"1\" class=\"dataframe\">\n",
       "  <thead>\n",
       "    <tr style=\"text-align: right;\">\n",
       "      <th></th>\n",
       "      <th>Survived</th>\n",
       "      <th>Pclass</th>\n",
       "      <th>Sex</th>\n",
       "      <th>Age</th>\n",
       "      <th>SibSp</th>\n",
       "      <th>Parch</th>\n",
       "      <th>Fare</th>\n",
       "      <th>Embarked</th>\n",
       "    </tr>\n",
       "  </thead>\n",
       "  <tbody>\n",
       "    <tr>\n",
       "      <th>0</th>\n",
       "      <td>0</td>\n",
       "      <td>3</td>\n",
       "      <td>0</td>\n",
       "      <td>22.0</td>\n",
       "      <td>1</td>\n",
       "      <td>0</td>\n",
       "      <td>0</td>\n",
       "      <td>0</td>\n",
       "    </tr>\n",
       "    <tr>\n",
       "      <th>1</th>\n",
       "      <td>1</td>\n",
       "      <td>1</td>\n",
       "      <td>1</td>\n",
       "      <td>38.0</td>\n",
       "      <td>1</td>\n",
       "      <td>0</td>\n",
       "      <td>3</td>\n",
       "      <td>1</td>\n",
       "    </tr>\n",
       "    <tr>\n",
       "      <th>2</th>\n",
       "      <td>1</td>\n",
       "      <td>3</td>\n",
       "      <td>1</td>\n",
       "      <td>26.0</td>\n",
       "      <td>0</td>\n",
       "      <td>0</td>\n",
       "      <td>1</td>\n",
       "      <td>0</td>\n",
       "    </tr>\n",
       "    <tr>\n",
       "      <th>3</th>\n",
       "      <td>1</td>\n",
       "      <td>1</td>\n",
       "      <td>1</td>\n",
       "      <td>35.0</td>\n",
       "      <td>1</td>\n",
       "      <td>0</td>\n",
       "      <td>3</td>\n",
       "      <td>0</td>\n",
       "    </tr>\n",
       "    <tr>\n",
       "      <th>4</th>\n",
       "      <td>0</td>\n",
       "      <td>3</td>\n",
       "      <td>0</td>\n",
       "      <td>35.0</td>\n",
       "      <td>0</td>\n",
       "      <td>0</td>\n",
       "      <td>1</td>\n",
       "      <td>0</td>\n",
       "    </tr>\n",
       "  </tbody>\n",
       "</table>\n",
       "</div>"
      ],
      "text/plain": [
       "   Survived  Pclass  Sex   Age  SibSp  Parch  Fare  Embarked\n",
       "0         0       3    0  22.0      1      0     0         0\n",
       "1         1       1    1  38.0      1      0     3         1\n",
       "2         1       3    1  26.0      0      0     1         0\n",
       "3         1       1    1  35.0      1      0     3         0\n",
       "4         0       3    0  35.0      0      0     1         0"
      ]
     },
     "execution_count": 4,
     "metadata": {},
     "output_type": "execute_result"
    }
   ],
   "source": [
    "train.head()"
   ]
  },
  {
   "cell_type": "code",
   "execution_count": 5,
   "metadata": {},
   "outputs": [
    {
     "data": {
      "text/html": [
       "<div>\n",
       "<style scoped>\n",
       "    .dataframe tbody tr th:only-of-type {\n",
       "        vertical-align: middle;\n",
       "    }\n",
       "\n",
       "    .dataframe tbody tr th {\n",
       "        vertical-align: top;\n",
       "    }\n",
       "\n",
       "    .dataframe thead th {\n",
       "        text-align: right;\n",
       "    }\n",
       "</style>\n",
       "<table border=\"1\" class=\"dataframe\">\n",
       "  <thead>\n",
       "    <tr style=\"text-align: right;\">\n",
       "      <th></th>\n",
       "      <th>Pclass</th>\n",
       "      <th>Sex</th>\n",
       "      <th>Age</th>\n",
       "      <th>SibSp</th>\n",
       "      <th>Parch</th>\n",
       "      <th>Fare</th>\n",
       "      <th>Embarked</th>\n",
       "    </tr>\n",
       "  </thead>\n",
       "  <tbody>\n",
       "    <tr>\n",
       "      <th>0</th>\n",
       "      <td>3</td>\n",
       "      <td>0</td>\n",
       "      <td>34.5</td>\n",
       "      <td>0</td>\n",
       "      <td>0</td>\n",
       "      <td>0</td>\n",
       "      <td>2</td>\n",
       "    </tr>\n",
       "    <tr>\n",
       "      <th>1</th>\n",
       "      <td>3</td>\n",
       "      <td>1</td>\n",
       "      <td>47.0</td>\n",
       "      <td>1</td>\n",
       "      <td>0</td>\n",
       "      <td>0</td>\n",
       "      <td>0</td>\n",
       "    </tr>\n",
       "    <tr>\n",
       "      <th>2</th>\n",
       "      <td>2</td>\n",
       "      <td>0</td>\n",
       "      <td>62.0</td>\n",
       "      <td>0</td>\n",
       "      <td>0</td>\n",
       "      <td>1</td>\n",
       "      <td>2</td>\n",
       "    </tr>\n",
       "    <tr>\n",
       "      <th>3</th>\n",
       "      <td>3</td>\n",
       "      <td>0</td>\n",
       "      <td>27.0</td>\n",
       "      <td>0</td>\n",
       "      <td>0</td>\n",
       "      <td>1</td>\n",
       "      <td>0</td>\n",
       "    </tr>\n",
       "    <tr>\n",
       "      <th>4</th>\n",
       "      <td>3</td>\n",
       "      <td>1</td>\n",
       "      <td>22.0</td>\n",
       "      <td>1</td>\n",
       "      <td>1</td>\n",
       "      <td>1</td>\n",
       "      <td>0</td>\n",
       "    </tr>\n",
       "  </tbody>\n",
       "</table>\n",
       "</div>"
      ],
      "text/plain": [
       "   Pclass  Sex   Age  SibSp  Parch  Fare  Embarked\n",
       "0       3    0  34.5      0      0     0         2\n",
       "1       3    1  47.0      1      0     0         0\n",
       "2       2    0  62.0      0      0     1         2\n",
       "3       3    0  27.0      0      0     1         0\n",
       "4       3    1  22.0      1      1     1         0"
      ]
     },
     "execution_count": 5,
     "metadata": {},
     "output_type": "execute_result"
    }
   ],
   "source": [
    "test.head()"
   ]
  },
  {
   "cell_type": "code",
   "execution_count": 6,
   "metadata": {},
   "outputs": [],
   "source": [
    "# machine learning\n",
    "from sklearn.linear_model import LogisticRegression\n",
    "from sklearn.ensemble import RandomForestClassifier\n",
    "from sklearn.tree import DecisionTreeClassifier\n",
    "from sklearn.feature_selection import SelectKBest\n",
    "from sklearn.feature_selection import chi2\n",
    "from sklearn.feature_selection import RFE\n",
    "#Model selection and evaluation\n",
    "from sklearn.model_selection import train_test_split\n",
    "from sklearn.model_selection import cross_val_score\n",
    "from sklearn.metrics import f1_score"
   ]
  },
  {
   "cell_type": "markdown",
   "metadata": {},
   "source": [
    "### 2) Select a set of important features. Please show your selected features and explain how you perform feature selection.\n",
    "\n",
    "Ticket feature has high ratio (22%) of duplicate values (unique=681). There may not be a correlation between Ticket and survival. We should drop the ticket feature. \n",
    "Cabin is highly incomplete with 687 null values in training dataset and 327 null values in test dataset. We should drop the Cabin feature.\n",
    "Name and PassengerId were dropped because they are identifiers.\n",
    "Thus, Pclass, Sex, Age, SibSp, Parch, Fare and Embarked were in the dataset after data preprocessing. \n",
    "Correlation matrix were presented as heatmap. All pearson correlation coefficients are less than 0.7. \n",
    "VIF was examined for multicolinearity detection. No variables were over 10.\n",
    "Recursive feature elimination (RFE) and univariate 4 highest scoring features (SelectKBest) was used to select the important features. RFE selected 3 features: Pclass, Sex, and Embarked. SelectKBest selected 4 hightest scoring features: Pclass, Sex, Age, and Fare.\n",
    "\n",
    "Age is known as an important variable from HW1. Finally 4 features including Pclass, Sex, Age, Fare were selected for modeling.\n"
   ]
  },
  {
   "cell_type": "code",
   "execution_count": 7,
   "metadata": {},
   "outputs": [
    {
     "data": {
      "image/png": "[encoded data removed]",
      "text/plain": [
       "<Figure size 432x288 with 2 Axes>"
      ]
     },
     "metadata": {},
     "output_type": "display_data"
    }
   ],
   "source": [
    "#Correlations\n",
    "corrmat = train.corr()\n",
    "k  = 8\n",
    "cols = corrmat.nlargest(k, 'Survived')['Survived'].index\n",
    "cm = np.corrcoef(train[cols].values.T)\n",
    "sns.set(font_scale=1.25)\n",
    "hm = sns.heatmap(cm, cbar=True, annot=True, \\\n",
    "                 square=True, fmt='.2f', annot_kws={'size': 10}, yticklabels=cols.values, xticklabels=cols.values)\n",
    "plt.show()"
   ]
  },
  {
   "cell_type": "code",
   "execution_count": 8,
   "metadata": {},
   "outputs": [
    {
     "data": {
      "text/plain": [
       "((891, 7), (891,), (418, 6))"
      ]
     },
     "execution_count": 8,
     "metadata": {},
     "output_type": "execute_result"
    }
   ],
   "source": [
    "#Modeling \n",
    "X_train = train.drop([\"Survived\"], axis=1)\n",
    "Y_train = train[\"Survived\"]\n",
    "X_test  = test.drop([\"SibSp\"], axis=1)\n",
    "X_train.shape, Y_train.shape, X_test.shape"
   ]
  },
  {
   "cell_type": "code",
   "execution_count": 9,
   "metadata": {},
   "outputs": [
    {
     "data": {
      "text/html": [
       "<div>\n",
       "<style scoped>\n",
       "    .dataframe tbody tr th:only-of-type {\n",
       "        vertical-align: middle;\n",
       "    }\n",
       "\n",
       "    .dataframe tbody tr th {\n",
       "        vertical-align: top;\n",
       "    }\n",
       "\n",
       "    .dataframe thead th {\n",
       "        text-align: right;\n",
       "    }\n",
       "</style>\n",
       "<table border=\"1\" class=\"dataframe\">\n",
       "  <thead>\n",
       "    <tr style=\"text-align: right;\">\n",
       "      <th></th>\n",
       "      <th>VIF Factor</th>\n",
       "      <th>features</th>\n",
       "    </tr>\n",
       "  </thead>\n",
       "  <tbody>\n",
       "    <tr>\n",
       "      <th>0</th>\n",
       "      <td>3.8</td>\n",
       "      <td>Pclass</td>\n",
       "    </tr>\n",
       "    <tr>\n",
       "      <th>1</th>\n",
       "      <td>1.7</td>\n",
       "      <td>Sex</td>\n",
       "    </tr>\n",
       "    <tr>\n",
       "      <th>2</th>\n",
       "      <td>5.1</td>\n",
       "      <td>Age</td>\n",
       "    </tr>\n",
       "    <tr>\n",
       "      <th>3</th>\n",
       "      <td>1.8</td>\n",
       "      <td>SibSp</td>\n",
       "    </tr>\n",
       "    <tr>\n",
       "      <th>4</th>\n",
       "      <td>1.7</td>\n",
       "      <td>Parch</td>\n",
       "    </tr>\n",
       "    <tr>\n",
       "      <th>5</th>\n",
       "      <td>4.1</td>\n",
       "      <td>Fare</td>\n",
       "    </tr>\n",
       "    <tr>\n",
       "      <th>6</th>\n",
       "      <td>1.4</td>\n",
       "      <td>Embarked</td>\n",
       "    </tr>\n",
       "  </tbody>\n",
       "</table>\n",
       "</div>"
      ],
      "text/plain": [
       "   VIF Factor  features\n",
       "0         3.8    Pclass\n",
       "1         1.7       Sex\n",
       "2         5.1       Age\n",
       "3         1.8     SibSp\n",
       "4         1.7     Parch\n",
       "5         4.1      Fare\n",
       "6         1.4  Embarked"
      ]
     },
     "execution_count": 9,
     "metadata": {},
     "output_type": "execute_result"
    }
   ],
   "source": [
    "# For each X, calculate VIF and save in dataframe\n",
    "from statsmodels.stats.outliers_influence import variance_inflation_factor\n",
    "vif = pd.DataFrame()\n",
    "vif[\"VIF Factor\"] = [variance_inflation_factor(X_train.values, i) for i in range(X_train.shape[1])]\n",
    "vif[\"features\"] = X_train.columns\n",
    "vif.round(1)"
   ]
  },
  {
   "cell_type": "markdown",
   "metadata": {},
   "source": [
    "Output for Feature selection using RFE:"
   ]
  },
  {
   "cell_type": "code",
   "execution_count": 10,
   "metadata": {},
   "outputs": [
    {
     "name": "stdout",
     "output_type": "stream",
     "text": [
      "Num Features:  3\n",
      "Selected Features:  [ True  True False False False False  True]\n",
      "Feature Ranking:  [1 1 5 2 4 3 1]\n",
      "   Pclass  Sex   Age  SibSp  Parch  Fare  Embarked\n",
      "0       3    0  22.0      1      0     0         0\n",
      "1       1    1  38.0      1      0     3         1\n",
      "2       3    1  26.0      0      0     1         0\n",
      "3       1    1  35.0      1      0     3         0\n",
      "4       3    0  35.0      0      0     1         0\n"
     ]
    }
   ],
   "source": [
    "#Feature selection using RFE\n",
    "model = LogisticRegression()\n",
    "rfe = RFE(model)\n",
    "fit = rfe.fit(X_train, Y_train)\n",
    "print(\"Num Features: \",fit.n_features_)\n",
    "print(\"Selected Features: \",fit.support_)\n",
    "print(\"Feature Ranking: \",fit.ranking_)\n",
    "print(X_train.head())"
   ]
  },
  {
   "cell_type": "markdown",
   "metadata": {},
   "source": [
    "Output for Feature selection using SelectKBest:"
   ]
  },
  {
   "cell_type": "code",
   "execution_count": 11,
   "metadata": {},
   "outputs": [
    {
     "name": "stdout",
     "output_type": "stream",
     "text": [
      "[ 30.874 170.348  21.649   2.582  10.097  64.722  11.353]\n",
      "[[ 3.  0. 22.  0.]\n",
      " [ 1.  1. 38.  3.]\n",
      " [ 3.  1. 26.  1.]\n",
      " [ 1.  1. 35.  3.]\n",
      " [ 3.  0. 35.  1.]]\n",
      "   Pclass  Sex   Age  SibSp  Parch  Fare  Embarked\n",
      "0       3    0  22.0      1      0     0         0\n",
      "1       1    1  38.0      1      0     3         1\n",
      "2       3    1  26.0      0      0     1         0\n",
      "3       1    1  35.0      1      0     3         0\n",
      "4       3    0  35.0      0      0     1         0\n"
     ]
    }
   ],
   "source": [
    "#Feature selection using SelectKBest\n",
    "Kbestscore = SelectKBest(score_func=chi2, k=4)\n",
    "fit = Kbestscore.fit(X_train, Y_train)\n",
    "# summarize scores\n",
    "np.set_printoptions(precision=3)\n",
    "print(fit.scores_)\n",
    "features = fit.transform(X_train)\n",
    "# summarize selected features\n",
    "print(features[0:5,:])\n",
    "print (X_train.head())"
   ]
  },
  {
   "cell_type": "code",
   "execution_count": 12,
   "metadata": {},
   "outputs": [
    {
     "data": {
      "text/plain": [
       "((891, 4), (891,), (418, 4))"
      ]
     },
     "execution_count": 12,
     "metadata": {},
     "output_type": "execute_result"
    }
   ],
   "source": [
    "#Drop variables after feature selection:\n",
    "X_train = train.drop([\"Survived\",\"SibSp\",\"Parch\",\"Embarked\"], axis=1)\n",
    "Y_train = train[\"Survived\"]\n",
    "X_test  = test.drop([\"SibSp\",\"Parch\",\"Embarked\"], axis=1)\n",
    "X_train.shape, Y_train.shape, X_test.shape"
   ]
  },
  {
   "cell_type": "markdown",
   "metadata": {},
   "source": [
    "### 3) Learn a decision tree model with the Titanic training data using Gini index, plot your decision tree;\n",
    "\n",
    "Decision tree with depth=3 is presented as below:\n"
   ]
  },
  {
   "cell_type": "code",
   "execution_count": 16,
   "metadata": {},
   "outputs": [
    {
     "data": {
      "image/svg+xml": [
       "<?xml version=\"1.0\" encoding=\"UTF-8\" standalone=\"no\"?>\r\n",
       "<!DOCTYPE svg PUBLIC \"-//W3C//DTD SVG 1.1//EN\"\r\n",
       " \"http://www.w3.org/Graphics/SVG/1.1/DTD/svg11.dtd\">\r\n",
       "<!-- Generated by graphviz version 2.38.0 (20140413.2041)\r\n",
       " -->\r\n",
       "<!-- Title: Tree Pages: 1 -->\r\n",
       "<svg width=\"937pt\" height=\"433pt\"\r\n",
       " viewBox=\"0.00 0.00 937.00 433.00\" xmlns=\"http://www.w3.org/2000/svg\" xmlns:xlink=\"http://www.w3.org/1999/xlink\">\r\n",
       "<g id=\"graph0\" class=\"graph\" transform=\"scale(1 1) rotate(0) translate(4 429)\">\r\n",
       "<title>Tree</title>\r\n",
       "<polygon fill=\"white\" stroke=\"none\" points=\"-4,4 -4,-429 933,-429 933,4 -4,4\"/>\r\n",
       "<!-- 0 -->\r\n",
       "<g id=\"node1\" class=\"node\"><title>0</title>\r\n",
       "<polygon fill=\"#f5cfb4\" stroke=\"black\" points=\"522,-425 404,-425 404,-342 522,-342 522,-425\"/>\r\n",
       "<text text-anchor=\"middle\" x=\"463\" y=\"-409.8\" font-family=\"Times New Roman,serif\" font-size=\"14.00\">Sex &lt;= 0.5</text>\r\n",
       "<text text-anchor=\"middle\" x=\"463\" y=\"-394.8\" font-family=\"Times New Roman,serif\" font-size=\"14.00\">gini = 0.473</text>\r\n",
       "<text text-anchor=\"middle\" x=\"463\" y=\"-379.8\" font-family=\"Times New Roman,serif\" font-size=\"14.00\">samples = 891</text>\r\n",
       "<text text-anchor=\"middle\" x=\"463\" y=\"-364.8\" font-family=\"Times New Roman,serif\" font-size=\"14.00\">value = [549, 342]</text>\r\n",
       "<text text-anchor=\"middle\" x=\"463\" y=\"-349.8\" font-family=\"Times New Roman,serif\" font-size=\"14.00\">class = 0</text>\r\n",
       "</g>\r\n",
       "<!-- 1 -->\r\n",
       "<g id=\"node2\" class=\"node\"><title>1</title>\r\n",
       "<polygon fill=\"#eb9e67\" stroke=\"black\" points=\"430,-306 312,-306 312,-223 430,-223 430,-306\"/>\r\n",
       "<text text-anchor=\"middle\" x=\"371\" y=\"-290.8\" font-family=\"Times New Roman,serif\" font-size=\"14.00\">Age &lt;= 6.5</text>\r\n",
       "<text text-anchor=\"middle\" x=\"371\" y=\"-275.8\" font-family=\"Times New Roman,serif\" font-size=\"14.00\">gini = 0.306</text>\r\n",
       "<text text-anchor=\"middle\" x=\"371\" y=\"-260.8\" font-family=\"Times New Roman,serif\" font-size=\"14.00\">samples = 577</text>\r\n",
       "<text text-anchor=\"middle\" x=\"371\" y=\"-245.8\" font-family=\"Times New Roman,serif\" font-size=\"14.00\">value = [468, 109]</text>\r\n",
       "<text text-anchor=\"middle\" x=\"371\" y=\"-230.8\" font-family=\"Times New Roman,serif\" font-size=\"14.00\">class = 0</text>\r\n",
       "</g>\r\n",
       "<!-- 0&#45;&gt;1 -->\r\n",
       "<g id=\"edge1\" class=\"edge\"><title>0&#45;&gt;1</title>\r\n",
       "<path fill=\"none\" stroke=\"black\" d=\"M431.081,-341.907C424.016,-332.923 416.461,-323.315 409.176,-314.05\"/>\r\n",
       "<polygon fill=\"black\" stroke=\"black\" points=\"411.795,-311.718 402.863,-306.021 406.292,-316.045 411.795,-311.718\"/>\r\n",
       "<text text-anchor=\"middle\" x=\"399.893\" y=\"-327.144\" font-family=\"Times New Roman,serif\" font-size=\"14.00\">True</text>\r\n",
       "</g>\r\n",
       "<!-- 8 -->\r\n",
       "<g id=\"node9\" class=\"node\"><title>8</title>\r\n",
       "<polygon fill=\"#7ebfee\" stroke=\"black\" points=\"611.5,-306 500.5,-306 500.5,-223 611.5,-223 611.5,-306\"/>\r\n",
       "<text text-anchor=\"middle\" x=\"556\" y=\"-290.8\" font-family=\"Times New Roman,serif\" font-size=\"14.00\">Pclass &lt;= 2.5</text>\r\n",
       "<text text-anchor=\"middle\" x=\"556\" y=\"-275.8\" font-family=\"Times New Roman,serif\" font-size=\"14.00\">gini = 0.383</text>\r\n",
       "<text text-anchor=\"middle\" x=\"556\" y=\"-260.8\" font-family=\"Times New Roman,serif\" font-size=\"14.00\">samples = 314</text>\r\n",
       "<text text-anchor=\"middle\" x=\"556\" y=\"-245.8\" font-family=\"Times New Roman,serif\" font-size=\"14.00\">value = [81, 233]</text>\r\n",
       "<text text-anchor=\"middle\" x=\"556\" y=\"-230.8\" font-family=\"Times New Roman,serif\" font-size=\"14.00\">class = 1</text>\r\n",
       "</g>\r\n",
       "<!-- 0&#45;&gt;8 -->\r\n",
       "<g id=\"edge8\" class=\"edge\"><title>0&#45;&gt;8</title>\r\n",
       "<path fill=\"none\" stroke=\"black\" d=\"M495.266,-341.907C502.407,-332.923 510.044,-323.315 517.409,-314.05\"/>\r\n",
       "<polygon fill=\"black\" stroke=\"black\" points=\"520.309,-316.027 523.791,-306.021 514.829,-311.671 520.309,-316.027\"/>\r\n",
       "<text text-anchor=\"middle\" x=\"526.63\" y=\"-327.159\" font-family=\"Times New Roman,serif\" font-size=\"14.00\">False</text>\r\n",
       "</g>\r\n",
       "<!-- 2 -->\r\n",
       "<g id=\"node3\" class=\"node\"><title>2</title>\r\n",
       "<polygon fill=\"#9ccef2\" stroke=\"black\" points=\"211,-187 113,-187 113,-104 211,-104 211,-187\"/>\r\n",
       "<text text-anchor=\"middle\" x=\"162\" y=\"-171.8\" font-family=\"Times New Roman,serif\" font-size=\"14.00\">Pclass &lt;= 2.5</text>\r\n",
       "<text text-anchor=\"middle\" x=\"162\" y=\"-156.8\" font-family=\"Times New Roman,serif\" font-size=\"14.00\">gini = 0.444</text>\r\n",
       "<text text-anchor=\"middle\" x=\"162\" y=\"-141.8\" font-family=\"Times New Roman,serif\" font-size=\"14.00\">samples = 24</text>\r\n",
       "<text text-anchor=\"middle\" x=\"162\" y=\"-126.8\" font-family=\"Times New Roman,serif\" font-size=\"14.00\">value = [8, 16]</text>\r\n",
       "<text text-anchor=\"middle\" x=\"162\" y=\"-111.8\" font-family=\"Times New Roman,serif\" font-size=\"14.00\">class = 1</text>\r\n",
       "</g>\r\n",
       "<!-- 1&#45;&gt;2 -->\r\n",
       "<g id=\"edge2\" class=\"edge\"><title>1&#45;&gt;2</title>\r\n",
       "<path fill=\"none\" stroke=\"black\" d=\"M311.947,-230.442C283.192,-214.344 248.734,-195.055 220.106,-179.028\"/>\r\n",
       "<polygon fill=\"black\" stroke=\"black\" points=\"221.466,-175.778 211.03,-173.947 218.046,-181.886 221.466,-175.778\"/>\r\n",
       "</g>\r\n",
       "<!-- 5 -->\r\n",
       "<g id=\"node6\" class=\"node\"><title>5</title>\r\n",
       "<polygon fill=\"#ea9a61\" stroke=\"black\" points=\"426.5,-187 315.5,-187 315.5,-104 426.5,-104 426.5,-187\"/>\r\n",
       "<text text-anchor=\"middle\" x=\"371\" y=\"-171.8\" font-family=\"Times New Roman,serif\" font-size=\"14.00\">Pclass &lt;= 1.5</text>\r\n",
       "<text text-anchor=\"middle\" x=\"371\" y=\"-156.8\" font-family=\"Times New Roman,serif\" font-size=\"14.00\">gini = 0.28</text>\r\n",
       "<text text-anchor=\"middle\" x=\"371\" y=\"-141.8\" font-family=\"Times New Roman,serif\" font-size=\"14.00\">samples = 553</text>\r\n",
       "<text text-anchor=\"middle\" x=\"371\" y=\"-126.8\" font-family=\"Times New Roman,serif\" font-size=\"14.00\">value = [460, 93]</text>\r\n",
       "<text text-anchor=\"middle\" x=\"371\" y=\"-111.8\" font-family=\"Times New Roman,serif\" font-size=\"14.00\">class = 0</text>\r\n",
       "</g>\r\n",
       "<!-- 1&#45;&gt;5 -->\r\n",
       "<g id=\"edge5\" class=\"edge\"><title>1&#45;&gt;5</title>\r\n",
       "<path fill=\"none\" stroke=\"black\" d=\"M371,-222.907C371,-214.649 371,-205.864 371,-197.302\"/>\r\n",
       "<polygon fill=\"black\" stroke=\"black\" points=\"374.5,-197.021 371,-187.021 367.5,-197.021 374.5,-197.021\"/>\r\n",
       "</g>\r\n",
       "<!-- 3 -->\r\n",
       "<g id=\"node4\" class=\"node\"><title>3</title>\r\n",
       "<polygon fill=\"#399de5\" stroke=\"black\" points=\"98,-68 0,-68 0,-0 98,-0 98,-68\"/>\r\n",
       "<text text-anchor=\"middle\" x=\"49\" y=\"-52.8\" font-family=\"Times New Roman,serif\" font-size=\"14.00\">gini = 0.0</text>\r\n",
       "<text text-anchor=\"middle\" x=\"49\" y=\"-37.8\" font-family=\"Times New Roman,serif\" font-size=\"14.00\">samples = 10</text>\r\n",
       "<text text-anchor=\"middle\" x=\"49\" y=\"-22.8\" font-family=\"Times New Roman,serif\" font-size=\"14.00\">value = [0, 10]</text>\r\n",
       "<text text-anchor=\"middle\" x=\"49\" y=\"-7.8\" font-family=\"Times New Roman,serif\" font-size=\"14.00\">class = 1</text>\r\n",
       "</g>\r\n",
       "<!-- 2&#45;&gt;3 -->\r\n",
       "<g id=\"edge3\" class=\"edge\"><title>2&#45;&gt;3</title>\r\n",
       "<path fill=\"none\" stroke=\"black\" d=\"M119.923,-103.726C110.322,-94.423 100.126,-84.5428 90.548,-75.2612\"/>\r\n",
       "<polygon fill=\"black\" stroke=\"black\" points=\"92.9811,-72.7451 83.364,-68.2996 88.1098,-77.7721 92.9811,-72.7451\"/>\r\n",
       "</g>\r\n",
       "<!-- 4 -->\r\n",
       "<g id=\"node5\" class=\"node\"><title>4</title>\r\n",
       "<polygon fill=\"#f8e0ce\" stroke=\"black\" points=\"207.5,-68 116.5,-68 116.5,-0 207.5,-0 207.5,-68\"/>\r\n",
       "<text text-anchor=\"middle\" x=\"162\" y=\"-52.8\" font-family=\"Times New Roman,serif\" font-size=\"14.00\">gini = 0.49</text>\r\n",
       "<text text-anchor=\"middle\" x=\"162\" y=\"-37.8\" font-family=\"Times New Roman,serif\" font-size=\"14.00\">samples = 14</text>\r\n",
       "<text text-anchor=\"middle\" x=\"162\" y=\"-22.8\" font-family=\"Times New Roman,serif\" font-size=\"14.00\">value = [8, 6]</text>\r\n",
       "<text text-anchor=\"middle\" x=\"162\" y=\"-7.8\" font-family=\"Times New Roman,serif\" font-size=\"14.00\">class = 0</text>\r\n",
       "</g>\r\n",
       "<!-- 2&#45;&gt;4 -->\r\n",
       "<g id=\"edge4\" class=\"edge\"><title>2&#45;&gt;4</title>\r\n",
       "<path fill=\"none\" stroke=\"black\" d=\"M162,-103.726C162,-95.5175 162,-86.8595 162,-78.56\"/>\r\n",
       "<polygon fill=\"black\" stroke=\"black\" points=\"165.5,-78.2996 162,-68.2996 158.5,-78.2996 165.5,-78.2996\"/>\r\n",
       "</g>\r\n",
       "<!-- 6 -->\r\n",
       "<g id=\"node7\" class=\"node\"><title>6</title>\r\n",
       "<polygon fill=\"#f4c7a8\" stroke=\"black\" points=\"330,-68 226,-68 226,-0 330,-0 330,-68\"/>\r\n",
       "<text text-anchor=\"middle\" x=\"278\" y=\"-52.8\" font-family=\"Times New Roman,serif\" font-size=\"14.00\">gini = 0.46</text>\r\n",
       "<text text-anchor=\"middle\" x=\"278\" y=\"-37.8\" font-family=\"Times New Roman,serif\" font-size=\"14.00\">samples = 120</text>\r\n",
       "<text text-anchor=\"middle\" x=\"278\" y=\"-22.8\" font-family=\"Times New Roman,serif\" font-size=\"14.00\">value = [77, 43]</text>\r\n",
       "<text text-anchor=\"middle\" x=\"278\" y=\"-7.8\" font-family=\"Times New Roman,serif\" font-size=\"14.00\">class = 0</text>\r\n",
       "</g>\r\n",
       "<!-- 5&#45;&gt;6 -->\r\n",
       "<g id=\"edge6\" class=\"edge\"><title>5&#45;&gt;6</title>\r\n",
       "<path fill=\"none\" stroke=\"black\" d=\"M336.37,-103.726C328.701,-94.6966 320.571,-85.1235 312.891,-76.0816\"/>\r\n",
       "<polygon fill=\"black\" stroke=\"black\" points=\"315.423,-73.6559 306.282,-68.2996 310.088,-78.1873 315.423,-73.6559\"/>\r\n",
       "</g>\r\n",
       "<!-- 7 -->\r\n",
       "<g id=\"node8\" class=\"node\"><title>7</title>\r\n",
       "<polygon fill=\"#e89153\" stroke=\"black\" points=\"459.5,-68 348.5,-68 348.5,-0 459.5,-0 459.5,-68\"/>\r\n",
       "<text text-anchor=\"middle\" x=\"404\" y=\"-52.8\" font-family=\"Times New Roman,serif\" font-size=\"14.00\">gini = 0.204</text>\r\n",
       "<text text-anchor=\"middle\" x=\"404\" y=\"-37.8\" font-family=\"Times New Roman,serif\" font-size=\"14.00\">samples = 433</text>\r\n",
       "<text text-anchor=\"middle\" x=\"404\" y=\"-22.8\" font-family=\"Times New Roman,serif\" font-size=\"14.00\">value = [383, 50]</text>\r\n",
       "<text text-anchor=\"middle\" x=\"404\" y=\"-7.8\" font-family=\"Times New Roman,serif\" font-size=\"14.00\">class = 0</text>\r\n",
       "</g>\r\n",
       "<!-- 5&#45;&gt;7 -->\r\n",
       "<g id=\"edge7\" class=\"edge\"><title>5&#45;&gt;7</title>\r\n",
       "<path fill=\"none\" stroke=\"black\" d=\"M383.288,-103.726C385.817,-95.3351 388.487,-86.4745 391.039,-78.0072\"/>\r\n",
       "<polygon fill=\"black\" stroke=\"black\" points=\"394.43,-78.8842 393.965,-68.2996 387.728,-76.8643 394.43,-78.8842\"/>\r\n",
       "</g>\r\n",
       "<!-- 9 -->\r\n",
       "<g id=\"node10\" class=\"node\"><title>9</title>\r\n",
       "<polygon fill=\"#44a2e6\" stroke=\"black\" points=\"608,-187 504,-187 504,-104 608,-104 608,-187\"/>\r\n",
       "<text text-anchor=\"middle\" x=\"556\" y=\"-171.8\" font-family=\"Times New Roman,serif\" font-size=\"14.00\">Age &lt;= 2.5</text>\r\n",
       "<text text-anchor=\"middle\" x=\"556\" y=\"-156.8\" font-family=\"Times New Roman,serif\" font-size=\"14.00\">gini = 0.1</text>\r\n",
       "<text text-anchor=\"middle\" x=\"556\" y=\"-141.8\" font-family=\"Times New Roman,serif\" font-size=\"14.00\">samples = 170</text>\r\n",
       "<text text-anchor=\"middle\" x=\"556\" y=\"-126.8\" font-family=\"Times New Roman,serif\" font-size=\"14.00\">value = [9, 161]</text>\r\n",
       "<text text-anchor=\"middle\" x=\"556\" y=\"-111.8\" font-family=\"Times New Roman,serif\" font-size=\"14.00\">class = 1</text>\r\n",
       "</g>\r\n",
       "<!-- 8&#45;&gt;9 -->\r\n",
       "<g id=\"edge9\" class=\"edge\"><title>8&#45;&gt;9</title>\r\n",
       "<path fill=\"none\" stroke=\"black\" d=\"M556,-222.907C556,-214.649 556,-205.864 556,-197.302\"/>\r\n",
       "<polygon fill=\"black\" stroke=\"black\" points=\"559.5,-197.021 556,-187.021 552.5,-197.021 559.5,-197.021\"/>\r\n",
       "</g>\r\n",
       "<!-- 12 -->\r\n",
       "<g id=\"node13\" class=\"node\"><title>12</title>\r\n",
       "<polygon fill=\"#ffffff\" stroke=\"black\" points=\"813,-187 709,-187 709,-104 813,-104 813,-187\"/>\r\n",
       "<text text-anchor=\"middle\" x=\"761\" y=\"-171.8\" font-family=\"Times New Roman,serif\" font-size=\"14.00\">Fare &lt;= 2.5</text>\r\n",
       "<text text-anchor=\"middle\" x=\"761\" y=\"-156.8\" font-family=\"Times New Roman,serif\" font-size=\"14.00\">gini = 0.5</text>\r\n",
       "<text text-anchor=\"middle\" x=\"761\" y=\"-141.8\" font-family=\"Times New Roman,serif\" font-size=\"14.00\">samples = 144</text>\r\n",
       "<text text-anchor=\"middle\" x=\"761\" y=\"-126.8\" font-family=\"Times New Roman,serif\" font-size=\"14.00\">value = [72, 72]</text>\r\n",
       "<text text-anchor=\"middle\" x=\"761\" y=\"-111.8\" font-family=\"Times New Roman,serif\" font-size=\"14.00\">class = 0</text>\r\n",
       "</g>\r\n",
       "<!-- 8&#45;&gt;12 -->\r\n",
       "<g id=\"edge12\" class=\"edge\"><title>8&#45;&gt;12</title>\r\n",
       "<path fill=\"none\" stroke=\"black\" d=\"M611.746,-231.684C639.028,-216.114 671.932,-197.334 699.896,-181.374\"/>\r\n",
       "<polygon fill=\"black\" stroke=\"black\" points=\"701.839,-184.295 708.789,-176.299 698.369,-178.216 701.839,-184.295\"/>\r\n",
       "</g>\r\n",
       "<!-- 10 -->\r\n",
       "<g id=\"node11\" class=\"node\"><title>10</title>\r\n",
       "<polygon fill=\"#ffffff\" stroke=\"black\" points=\"568.5,-68 477.5,-68 477.5,-0 568.5,-0 568.5,-68\"/>\r\n",
       "<text text-anchor=\"middle\" x=\"523\" y=\"-52.8\" font-family=\"Times New Roman,serif\" font-size=\"14.00\">gini = 0.5</text>\r\n",
       "<text text-anchor=\"middle\" x=\"523\" y=\"-37.8\" font-family=\"Times New Roman,serif\" font-size=\"14.00\">samples = 2</text>\r\n",
       "<text text-anchor=\"middle\" x=\"523\" y=\"-22.8\" font-family=\"Times New Roman,serif\" font-size=\"14.00\">value = [1, 1]</text>\r\n",
       "<text text-anchor=\"middle\" x=\"523\" y=\"-7.8\" font-family=\"Times New Roman,serif\" font-size=\"14.00\">class = 0</text>\r\n",
       "</g>\r\n",
       "<!-- 9&#45;&gt;10 -->\r\n",
       "<g id=\"edge10\" class=\"edge\"><title>9&#45;&gt;10</title>\r\n",
       "<path fill=\"none\" stroke=\"black\" d=\"M543.712,-103.726C541.183,-95.3351 538.513,-86.4745 535.961,-78.0072\"/>\r\n",
       "<polygon fill=\"black\" stroke=\"black\" points=\"539.272,-76.8643 533.035,-68.2996 532.57,-78.8842 539.272,-76.8643\"/>\r\n",
       "</g>\r\n",
       "<!-- 11 -->\r\n",
       "<g id=\"node12\" class=\"node\"><title>11</title>\r\n",
       "<polygon fill=\"#43a2e6\" stroke=\"black\" points=\"691,-68 587,-68 587,-0 691,-0 691,-68\"/>\r\n",
       "<text text-anchor=\"middle\" x=\"639\" y=\"-52.8\" font-family=\"Times New Roman,serif\" font-size=\"14.00\">gini = 0.091</text>\r\n",
       "<text text-anchor=\"middle\" x=\"639\" y=\"-37.8\" font-family=\"Times New Roman,serif\" font-size=\"14.00\">samples = 168</text>\r\n",
       "<text text-anchor=\"middle\" x=\"639\" y=\"-22.8\" font-family=\"Times New Roman,serif\" font-size=\"14.00\">value = [8, 160]</text>\r\n",
       "<text text-anchor=\"middle\" x=\"639\" y=\"-7.8\" font-family=\"Times New Roman,serif\" font-size=\"14.00\">class = 1</text>\r\n",
       "</g>\r\n",
       "<!-- 9&#45;&gt;11 -->\r\n",
       "<g id=\"edge11\" class=\"edge\"><title>9&#45;&gt;11</title>\r\n",
       "<path fill=\"none\" stroke=\"black\" d=\"M586.906,-103.726C593.681,-94.7878 600.86,-85.3168 607.653,-76.3558\"/>\r\n",
       "<polygon fill=\"black\" stroke=\"black\" points=\"610.508,-78.3832 613.759,-68.2996 604.929,-74.1547 610.508,-78.3832\"/>\r\n",
       "</g>\r\n",
       "<!-- 13 -->\r\n",
       "<g id=\"node14\" class=\"node\"><title>13</title>\r\n",
       "<polygon fill=\"#ddeefb\" stroke=\"black\" points=\"813,-68 709,-68 709,-0 813,-0 813,-68\"/>\r\n",
       "<text text-anchor=\"middle\" x=\"761\" y=\"-52.8\" font-family=\"Times New Roman,serif\" font-size=\"14.00\">gini = 0.496</text>\r\n",
       "<text text-anchor=\"middle\" x=\"761\" y=\"-37.8\" font-family=\"Times New Roman,serif\" font-size=\"14.00\">samples = 128</text>\r\n",
       "<text text-anchor=\"middle\" x=\"761\" y=\"-22.8\" font-family=\"Times New Roman,serif\" font-size=\"14.00\">value = [58, 70]</text>\r\n",
       "<text text-anchor=\"middle\" x=\"761\" y=\"-7.8\" font-family=\"Times New Roman,serif\" font-size=\"14.00\">class = 1</text>\r\n",
       "</g>\r\n",
       "<!-- 12&#45;&gt;13 -->\r\n",
       "<g id=\"edge13\" class=\"edge\"><title>12&#45;&gt;13</title>\r\n",
       "<path fill=\"none\" stroke=\"black\" d=\"M761,-103.726C761,-95.5175 761,-86.8595 761,-78.56\"/>\r\n",
       "<polygon fill=\"black\" stroke=\"black\" points=\"764.5,-78.2996 761,-68.2996 757.5,-78.2996 764.5,-78.2996\"/>\r\n",
       "</g>\r\n",
       "<!-- 14 -->\r\n",
       "<g id=\"node15\" class=\"node\"><title>14</title>\r\n",
       "<polygon fill=\"#e99355\" stroke=\"black\" points=\"929,-68 831,-68 831,-0 929,-0 929,-68\"/>\r\n",
       "<text text-anchor=\"middle\" x=\"880\" y=\"-52.8\" font-family=\"Times New Roman,serif\" font-size=\"14.00\">gini = 0.219</text>\r\n",
       "<text text-anchor=\"middle\" x=\"880\" y=\"-37.8\" font-family=\"Times New Roman,serif\" font-size=\"14.00\">samples = 16</text>\r\n",
       "<text text-anchor=\"middle\" x=\"880\" y=\"-22.8\" font-family=\"Times New Roman,serif\" font-size=\"14.00\">value = [14, 2]</text>\r\n",
       "<text text-anchor=\"middle\" x=\"880\" y=\"-7.8\" font-family=\"Times New Roman,serif\" font-size=\"14.00\">class = 0</text>\r\n",
       "</g>\r\n",
       "<!-- 12&#45;&gt;14 -->\r\n",
       "<g id=\"edge14\" class=\"edge\"><title>12&#45;&gt;14</title>\r\n",
       "<path fill=\"none\" stroke=\"black\" d=\"M805.311,-103.726C815.422,-94.423 826.159,-84.5428 836.246,-75.2612\"/>\r\n",
       "<polygon fill=\"black\" stroke=\"black\" points=\"838.823,-77.6464 843.811,-68.2996 834.083,-72.4953 838.823,-77.6464\"/>\r\n",
       "</g>\r\n",
       "</g>\r\n",
       "</svg>\r\n"
      ],
      "text/plain": [
       "<graphviz.files.Source at 0x135b6c8c788>"
      ]
     },
     "execution_count": 16,
     "metadata": {},
     "output_type": "execute_result"
    }
   ],
   "source": [
    "import graphviz\n",
    "# DOT data\n",
    "dot_data = tree.export_graphviz(decision_tree, out_file=None, \n",
    "                                feature_names=feature_cols,  \n",
    "                                class_names=['0','1'],\n",
    "                                filled=True)\n",
    "\n",
    "# Draw graph\n",
    "graph = graphviz.Source(dot_data, format=\"png\") \n",
    "graph"
   ]
  },
  {
   "cell_type": "markdown",
   "metadata": {},
   "source": [
    "### 4) Apply the five-fold cross validation of the decision tree learning algorithm to the Titanic training data to extract average classification accuracy;"
   ]
  },
  {
   "cell_type": "code",
   "execution_count": 20,
   "metadata": {},
   "outputs": [
    {
     "name": "stdout",
     "output_type": "stream",
     "text": [
      "5K CV Decision tree classification accuracy: [0.765 0.809 0.798 0.775 0.843]\n",
      "5K CV Decision tree average classification accuracy:  0.7980164459230431\n",
      "=== Mean AUC Score ===\n",
      "Training Mean AUC Score - Decision tree:  0.8351005597873191\n"
     ]
    }
   ],
   "source": [
    "#4)Model - Decision tree using GIni index - accuracy and AUC; \n",
    "# Create Decision Tree classifer object\n",
    "decision_tree = DecisionTreeClassifier(max_depth=4)\n",
    "# Train Decision Tree Classifer\n",
    "clf = decision_tree.fit(X_train, Y_train)\n",
    "acc = cross_val_score(clf, X_train, Y_train, cv=5)\n",
    "scores = cross_val_score(clf, X_train, Y_train, cv=5, scoring='roc_auc')\n",
    "\n",
    "print(\"5K CV Decision tree classification accuracy:\", acc)\n",
    "print(\"5K CV Decision tree average classification accuracy: \", acc.mean())\n",
    "print(\"=== Mean AUC Score ===\")\n",
    "print(\"Training Mean AUC Score - Decision tree: \", scores.mean())"
   ]
  },
  {
   "cell_type": "markdown",
   "metadata": {},
   "source": [
    "### 5) Apply the five-fold cross validation of the random forest learning algorithm to the Titanic training data to extract average classification accuracy;"
   ]
  },
  {
   "cell_type": "code",
   "execution_count": 21,
   "metadata": {},
   "outputs": [
    {
     "name": "stdout",
     "output_type": "stream",
     "text": [
      "5K CV Random Forest classification accuracy: [0.754 0.792 0.837 0.815 0.826]\n",
      "5K CV Random Forest average classification accuracy:  0.8047705730964786\n",
      "=== Mean AUC Score ===\n",
      "Training Mean AUC Score - Random Forest:  0.844975220896641\n"
     ]
    }
   ],
   "source": [
    "#5)Model - random forest- accuracy and AUC; \n",
    "random_forest = RandomForestClassifier(n_estimators=1400,random_state = 2020)\n",
    "rff = random_forest.fit(X_train, Y_train)\n",
    "acc = cross_val_score(rff, X_train, Y_train, cv=5)\n",
    "scores = cross_val_score(rff, X_train, Y_train, cv=5, scoring='roc_auc')\n",
    "\n",
    "print(\"5K CV Random Forest classification accuracy:\", acc)\n",
    "print(\"5K CV Random Forest average classification accuracy: \", acc.mean())\n",
    "print(\"=== Mean AUC Score ===\")\n",
    "print(\"Training Mean AUC Score - Random Forest: \", scores.mean())"
   ]
  },
  {
   "cell_type": "markdown",
   "metadata": {},
   "source": [
    "### 6) Which algorithm is better, Decision Tree or Random Forest?\n",
    "\n",
    "Random Forest is better with higher average accuracy (0.805>0.798) and mean AUC of ROC (0.845>0.835). Also, after data partition into 80% vs 20% training and validation. F1-scores for training and validation were presented as below: Random forest has a higher F1 score for both training and validation. Overall random forest is better."
   ]
  },
  {
   "cell_type": "code",
   "execution_count": 14,
   "metadata": {},
   "outputs": [
    {
     "name": "stdout",
     "output_type": "stream",
     "text": [
      "DT Training Set Evaluation F1-Score=> 0.8879999999999999\n",
      "DT Validation Set Evaluation F1-Score=> 0.7248322147651007\n",
      "RF Training Set Evaluation F1-Score=> 0.8910505836575876\n",
      "RF Validation Set Evaluation F1-Score=> 0.7631578947368421\n"
     ]
    }
   ],
   "source": [
    "#after variable selection F1\n",
    "X=train.drop(columns=['Survived','SibSp','Parch','Embarked']).values\n",
    "Y=train['Survived'].values\n",
    "XX_train, XX_test, YY_train, YY_test = train_test_split(X, Y, test_size = 0.2, random_state = 42)\n",
    "# Building Decision Tree\n",
    "dt = DecisionTreeClassifier(criterion = 'gini', random_state = 42)\n",
    "dt.fit(XX_train, YY_train)\n",
    "dt_pred_train = dt.predict(XX_train)\n",
    "\n",
    "# Evaluation on Training set\n",
    "dt_pred_train = dt.predict(XX_train)\n",
    "print('DT Training Set Evaluation F1-Score=>',f1_score(YY_train,dt_pred_train))\n",
    "\n",
    "# Evaluating on Test set\n",
    "dt_pred_test = dt.predict(XX_test)\n",
    "print('DT Validation Set Evaluation F1-Score=>',f1_score(YY_test,dt_pred_test))\n",
    "\n",
    "# Building  Random Forest Classifier\n",
    "rfc = RandomForestClassifier(criterion = 'entropy', random_state = 42)\n",
    "rfc.fit(XX_train, YY_train)\n",
    "\n",
    "# Evaluating on Training set\n",
    "rfc_pred_train = rfc.predict(XX_train)\n",
    "print('RF Training Set Evaluation F1-Score=>',f1_score(YY_train,rfc_pred_train))\n",
    "\n",
    "# Evaluating on Test set\n",
    "rfc_pred_test = rfc.predict(XX_test)\n",
    "print('RF Validation Set Evaluation F1-Score=>',f1_score(YY_test,rfc_pred_test))"
   ]
  },
  {
   "cell_type": "markdown",
   "metadata": {},
   "source": [
    "### 7) What can you learn from the algorithm comparison and analysis?\n",
    "\n",
    "Random forest is a bagging method by combining week classifers into a stronger prediction model and also de-correlated variables, thus reduce variance and overffiting. It generally has better performance than decision tree."
   ]
  },
  {
   "cell_type": "markdown",
   "metadata": {},
   "source": [
    "## Task 2\n",
    "### (a) \n",
    "Training error = Number of wrong predictions / Total number of predictions = (5+6+2+6+5+5)/(14+5+6+7+2+10+8+6+5+17+15+5) =0.29\n",
    "\n",
    "### (b) \n",
    "T will be assign to +. \n",
    "The results will be decided by the probability of class = \"+\" compared with class = \"-\". There are three weighted probabilities (3 branches) need to be combined. \n",
    "1. A=0 -->B & B=1 -->E & E =0 -->  p(+)=2/12 =1/6 & p(-)=10/12=5/6 ; \n",
    "2. C=1 --> p(+)=15/20=3/4 & p(-)=5/20=1/4; \n",
    "3. D=1 --> p(+)=6/13 & p(-)=7/13;\n",
    "three weights for 123 branches are (2+10)/(2+10+6+7+15+5);(15+5)/(2+10+6+7+15+5);(6+7)/(2+10+6+7+15+5)\n",
    "so the sum of weighted probability of \"+\" is 0.51 over 0.5. so T will be assigned to +.\n",
    "\n",
    "## Task 3\n",
    "### Q1: What is the overall entropy before splitting?\n",
    "\n",
    "Entropy(p)= -(4/10)log((4/10) - (6/10)log(6/10) = 0.971\n",
    "\n",
    "### Q2: What is the gain in entropy after splitting on A?\n",
    "\n",
    "T (7/10) entropy: -(4/7)log(4/7)-(3/7)log(3/7) = 0.985;\n",
    "\n",
    "F (3/10) entropy: -0log0-(3/3)log(3/3) = 0\n",
    "\n",
    "Gain on A: Entropy(p)- (T (7/10) entropy + F (3/10) entropy) = -(4/10)log((4/10) - (6/10)log(6/10) -[(7/10)*(-(4/7)log(4/7)-(3/7)log(3/7)) + (3/10)*0] = 0.281\n",
    "\n",
    "### Q3: What is the gain in entropy after splitting on B:\n",
    "\n",
    "T (4/10) entropy: -(3/4)log(3/4)-(1/4)log(1/4) = 0.811;\n",
    "\n",
    "F (6/10) entropy: -(1/6)log(1/6)-(5/6)log(5/6) = 0.65\n",
    "\n",
    "Gain on A: Entropy(p)- (T (4/10) entropy + F (6/10) entropy) = -(4/10)log((4/10) - (6/10)log(6/10) -[(4/10) *(-(3/4)log(3/4)-(1/4)log(1/4)) + (6/10)*(-(1/6)log(1/6)-(5/6)log(5/6))] = -0.065\n",
    "\n",
    "### Q4: Which attribute would the decision tree choose?\n",
    "\n",
    "Choose A which has higher information gain 0.281 > -0.065\n",
    "\n",
    "### Q5: Draw the full decision tree that would be learned for this dataset. You do not need to show any calculations. (We want to split first on the variable which maximizes the information gain until there are no nodes with two class labels. )\n",
    "\n",
    "Please see the attached picture with the submission or find it under my github folder."
   ]
  },
  {
   "cell_type": "markdown",
   "metadata": {},
   "source": [
    "## Task 4\n",
    "### Q1: Are decision trees a linear classifier?\n",
    "\n",
    "Decision trees are non-linear classifer.\n",
    "\n",
    "### Q2: What are the weaknesses of decision trees?\n",
    "\n",
    "They are unstable. A small change in the data can lead to a large change in the structure of the optimal decision tree.\n",
    "Decision trees are biased for categorical variables with different number of levels. Information gain in decision trees is in favor of those attributes with more levels.\n",
    "\n",
    "### Q3: Is Misclassification errors better than Gini index as the splitting criteria for decision trees?\n",
    "\n",
    "No. Gini index is better than misclassificatin errors as the splitting criteria. Gini index is more sensitive to changes in the node probabilities than the misclassification errors."
   ]
  },
  {
   "cell_type": "code",
   "execution_count": null,
   "metadata": {},
   "outputs": [],
   "source": [
    "#Task2 (a)\n",
    "(5+6+2+6+5+5)/(14+5+6+7+2+10+8+6+5+17+15+5) "
   ]
  },
  {
   "cell_type": "code",
   "execution_count": null,
   "metadata": {},
   "outputs": [],
   "source": [
    "#Task2 (b)\n",
    "(1/6) * (2+10)/(2+10+6+7+15+5)  +3/4 * (15+5)/(2+10+6+7+15+5) +6/13 * (6+7)/(2+10+6+7+15+5)"
   ]
  },
  {
   "cell_type": "code",
   "execution_count": null,
   "metadata": {},
   "outputs": [],
   "source": [
    "#Task3 Q1\n",
    "import math\n",
    "-(4/10)*math.log2(4/10) - (6/10)*math.log2(6/10)\n"
   ]
  },
  {
   "cell_type": "code",
   "execution_count": null,
   "metadata": {},
   "outputs": [],
   "source": [
    "#Task3 Q2\n",
    "-(4/7)*math.log2(4/7)-(3/7)*math.log2(3/7)\n"
   ]
  },
  {
   "cell_type": "code",
   "execution_count": null,
   "metadata": {},
   "outputs": [],
   "source": [
    "#Task3 Q2\n",
    "-(4/10)*math.log2(4/10) - (6/10)*math.log2(6/10) - (7/10)*(-(4/7)*math.log2(4/7)-(3/7)*math.log2(3/7))"
   ]
  },
  {
   "cell_type": "code",
   "execution_count": null,
   "metadata": {},
   "outputs": [],
   "source": [
    "#Task3 Q3\n",
    "-(3/4)*math.log2(3/4)-(1/4)*math.log2(1/4)"
   ]
  },
  {
   "cell_type": "code",
   "execution_count": null,
   "metadata": {},
   "outputs": [],
   "source": [
    "#Task3 Q3\n",
    "-(1/6)*math.log2(1/6)-(5/6)*math.log2(5/6) "
   ]
  },
  {
   "cell_type": "code",
   "execution_count": null,
   "metadata": {},
   "outputs": [],
   "source": [
    "#Task3 Q3\n",
    "-(1/6)*math.log2(1/6)-(5/6)*math.log2(5/6)  - ((4/10) *(-(3/4)*math.log2(3/4)-(1/4)*math.log2(1/4)) + (6/10)*(-(1/6)*math.log2(1/6)-(5/6)*math.log2(5/6)))"
   ]
  }
 ],
 "metadata": {
  "kernelspec": {
   "display_name": "Python 3",
   "language": "python",
   "name": "python3"
  },
  "language_info": {
   "codemirror_mode": {
    "name": "ipython",
    "version": 3
   },
   "file_extension": ".py",
   "mimetype": "text/x-python",
   "name": "python",
   "nbconvert_exporter": "python",
   "pygments_lexer": "ipython3",
   "version": "3.7.6"
  }
 },
 "nbformat": 4,
 "nbformat_minor": 4
}
